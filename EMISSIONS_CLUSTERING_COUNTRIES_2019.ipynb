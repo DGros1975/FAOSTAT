{
  "cells": [
    {
      "cell_type": "code",
      "execution_count": 1,
      "metadata": {
        "colab": {
          "base_uri": "https://localhost:8080/"
        },
        "id": "xyswMXKNJG5w",
        "outputId": "933dca44-3d13-46eb-9c2d-4494c40e63fb"
      },
      "outputs": [
        {
          "output_type": "stream",
          "name": "stdout",
          "text": [
            "Mounted at /content/drive\n"
          ]
        }
      ],
      "source": [
        "from google.colab import drive\n",
        "drive.mount('/content/drive')"
      ]
    },
    {
      "cell_type": "markdown",
      "source": [
        "# Importing libraries"
      ],
      "metadata": {
        "id": "pj-6hHtGvLuE"
      }
    },
    {
      "cell_type": "code",
      "source": [
        "pip install dataframe_image"
      ],
      "metadata": {
        "colab": {
          "base_uri": "https://localhost:8080/"
        },
        "id": "-eszYfHZgcQl",
        "outputId": "3363631e-faa4-4d24-e367-57e38c0db538"
      },
      "execution_count": 2,
      "outputs": [
        {
          "output_type": "stream",
          "name": "stdout",
          "text": [
            "Collecting dataframe_image\n",
            "  Downloading dataframe_image-0.1.1-py3-none-any.whl (32 kB)\n",
            "Collecting aiohttp\n",
            "  Downloading aiohttp-3.8.1-cp37-cp37m-manylinux_2_5_x86_64.manylinux1_x86_64.manylinux_2_12_x86_64.manylinux2010_x86_64.whl (1.1 MB)\n",
            "\u001b[K     |████████████████████████████████| 1.1 MB 19.3 MB/s \n",
            "\u001b[?25hRequirement already satisfied: requests in /usr/local/lib/python3.7/dist-packages (from dataframe_image) (2.23.0)\n",
            "Requirement already satisfied: pandas>=0.24 in /usr/local/lib/python3.7/dist-packages (from dataframe_image) (1.3.5)\n",
            "Requirement already satisfied: matplotlib>=3.1 in /usr/local/lib/python3.7/dist-packages (from dataframe_image) (3.2.2)\n",
            "Requirement already satisfied: nbconvert>=5 in /usr/local/lib/python3.7/dist-packages (from dataframe_image) (5.6.1)\n",
            "Requirement already satisfied: beautifulsoup4 in /usr/local/lib/python3.7/dist-packages (from dataframe_image) (4.6.3)\n",
            "Requirement already satisfied: kiwisolver>=1.0.1 in /usr/local/lib/python3.7/dist-packages (from matplotlib>=3.1->dataframe_image) (1.4.0)\n",
            "Requirement already satisfied: cycler>=0.10 in /usr/local/lib/python3.7/dist-packages (from matplotlib>=3.1->dataframe_image) (0.11.0)\n",
            "Requirement already satisfied: numpy>=1.11 in /usr/local/lib/python3.7/dist-packages (from matplotlib>=3.1->dataframe_image) (1.21.5)\n",
            "Requirement already satisfied: python-dateutil>=2.1 in /usr/local/lib/python3.7/dist-packages (from matplotlib>=3.1->dataframe_image) (2.8.2)\n",
            "Requirement already satisfied: pyparsing!=2.0.4,!=2.1.2,!=2.1.6,>=2.0.1 in /usr/local/lib/python3.7/dist-packages (from matplotlib>=3.1->dataframe_image) (3.0.7)\n",
            "Requirement already satisfied: typing-extensions in /usr/local/lib/python3.7/dist-packages (from kiwisolver>=1.0.1->matplotlib>=3.1->dataframe_image) (3.10.0.2)\n",
            "Requirement already satisfied: pygments in /usr/local/lib/python3.7/dist-packages (from nbconvert>=5->dataframe_image) (2.6.1)\n",
            "Requirement already satisfied: nbformat>=4.4 in /usr/local/lib/python3.7/dist-packages (from nbconvert>=5->dataframe_image) (5.2.0)\n",
            "Requirement already satisfied: mistune<2,>=0.8.1 in /usr/local/lib/python3.7/dist-packages (from nbconvert>=5->dataframe_image) (0.8.4)\n",
            "Requirement already satisfied: jupyter-core in /usr/local/lib/python3.7/dist-packages (from nbconvert>=5->dataframe_image) (4.9.2)\n",
            "Requirement already satisfied: jinja2>=2.4 in /usr/local/lib/python3.7/dist-packages (from nbconvert>=5->dataframe_image) (2.11.3)\n",
            "Requirement already satisfied: entrypoints>=0.2.2 in /usr/local/lib/python3.7/dist-packages (from nbconvert>=5->dataframe_image) (0.4)\n",
            "Requirement already satisfied: bleach in /usr/local/lib/python3.7/dist-packages (from nbconvert>=5->dataframe_image) (4.1.0)\n",
            "Requirement already satisfied: testpath in /usr/local/lib/python3.7/dist-packages (from nbconvert>=5->dataframe_image) (0.6.0)\n",
            "Requirement already satisfied: defusedxml in /usr/local/lib/python3.7/dist-packages (from nbconvert>=5->dataframe_image) (0.7.1)\n",
            "Requirement already satisfied: traitlets>=4.2 in /usr/local/lib/python3.7/dist-packages (from nbconvert>=5->dataframe_image) (5.1.1)\n",
            "Requirement already satisfied: pandocfilters>=1.4.1 in /usr/local/lib/python3.7/dist-packages (from nbconvert>=5->dataframe_image) (1.5.0)\n",
            "Requirement already satisfied: MarkupSafe>=0.23 in /usr/local/lib/python3.7/dist-packages (from jinja2>=2.4->nbconvert>=5->dataframe_image) (2.0.1)\n",
            "Requirement already satisfied: jsonschema!=2.5.0,>=2.4 in /usr/local/lib/python3.7/dist-packages (from nbformat>=4.4->nbconvert>=5->dataframe_image) (4.3.3)\n",
            "Requirement already satisfied: pyrsistent!=0.17.0,!=0.17.1,!=0.17.2,>=0.14.0 in /usr/local/lib/python3.7/dist-packages (from jsonschema!=2.5.0,>=2.4->nbformat>=4.4->nbconvert>=5->dataframe_image) (0.18.1)\n",
            "Requirement already satisfied: importlib-metadata in /usr/local/lib/python3.7/dist-packages (from jsonschema!=2.5.0,>=2.4->nbformat>=4.4->nbconvert>=5->dataframe_image) (4.11.3)\n",
            "Requirement already satisfied: importlib-resources>=1.4.0 in /usr/local/lib/python3.7/dist-packages (from jsonschema!=2.5.0,>=2.4->nbformat>=4.4->nbconvert>=5->dataframe_image) (5.4.0)\n",
            "Requirement already satisfied: attrs>=17.4.0 in /usr/local/lib/python3.7/dist-packages (from jsonschema!=2.5.0,>=2.4->nbformat>=4.4->nbconvert>=5->dataframe_image) (21.4.0)\n",
            "Requirement already satisfied: zipp>=3.1.0 in /usr/local/lib/python3.7/dist-packages (from importlib-resources>=1.4.0->jsonschema!=2.5.0,>=2.4->nbformat>=4.4->nbconvert>=5->dataframe_image) (3.7.0)\n",
            "Requirement already satisfied: pytz>=2017.3 in /usr/local/lib/python3.7/dist-packages (from pandas>=0.24->dataframe_image) (2018.9)\n",
            "Requirement already satisfied: six>=1.5 in /usr/local/lib/python3.7/dist-packages (from python-dateutil>=2.1->matplotlib>=3.1->dataframe_image) (1.15.0)\n",
            "Collecting async-timeout<5.0,>=4.0.0a3\n",
            "  Downloading async_timeout-4.0.2-py3-none-any.whl (5.8 kB)\n",
            "Collecting yarl<2.0,>=1.0\n",
            "  Downloading yarl-1.7.2-cp37-cp37m-manylinux_2_5_x86_64.manylinux1_x86_64.manylinux_2_12_x86_64.manylinux2010_x86_64.whl (271 kB)\n",
            "\u001b[K     |████████████████████████████████| 271 kB 72.5 MB/s \n",
            "\u001b[?25hRequirement already satisfied: charset-normalizer<3.0,>=2.0 in /usr/local/lib/python3.7/dist-packages (from aiohttp->dataframe_image) (2.0.12)\n",
            "Collecting asynctest==0.13.0\n",
            "  Downloading asynctest-0.13.0-py3-none-any.whl (26 kB)\n",
            "Collecting multidict<7.0,>=4.5\n",
            "  Downloading multidict-6.0.2-cp37-cp37m-manylinux_2_17_x86_64.manylinux2014_x86_64.whl (94 kB)\n",
            "\u001b[K     |████████████████████████████████| 94 kB 2.6 MB/s \n",
            "\u001b[?25hCollecting frozenlist>=1.1.1\n",
            "  Downloading frozenlist-1.3.0-cp37-cp37m-manylinux_2_5_x86_64.manylinux1_x86_64.manylinux_2_17_x86_64.manylinux2014_x86_64.whl (144 kB)\n",
            "\u001b[K     |████████████████████████████████| 144 kB 62.4 MB/s \n",
            "\u001b[?25hCollecting aiosignal>=1.1.2\n",
            "  Downloading aiosignal-1.2.0-py3-none-any.whl (8.2 kB)\n",
            "Requirement already satisfied: idna>=2.0 in /usr/local/lib/python3.7/dist-packages (from yarl<2.0,>=1.0->aiohttp->dataframe_image) (2.10)\n",
            "Requirement already satisfied: packaging in /usr/local/lib/python3.7/dist-packages (from bleach->nbconvert>=5->dataframe_image) (21.3)\n",
            "Requirement already satisfied: webencodings in /usr/local/lib/python3.7/dist-packages (from bleach->nbconvert>=5->dataframe_image) (0.5.1)\n",
            "Requirement already satisfied: chardet<4,>=3.0.2 in /usr/local/lib/python3.7/dist-packages (from requests->dataframe_image) (3.0.4)\n",
            "Requirement already satisfied: urllib3!=1.25.0,!=1.25.1,<1.26,>=1.21.1 in /usr/local/lib/python3.7/dist-packages (from requests->dataframe_image) (1.24.3)\n",
            "Requirement already satisfied: certifi>=2017.4.17 in /usr/local/lib/python3.7/dist-packages (from requests->dataframe_image) (2021.10.8)\n",
            "Installing collected packages: multidict, frozenlist, yarl, asynctest, async-timeout, aiosignal, aiohttp, dataframe-image\n",
            "Successfully installed aiohttp-3.8.1 aiosignal-1.2.0 async-timeout-4.0.2 asynctest-0.13.0 dataframe-image-0.1.1 frozenlist-1.3.0 multidict-6.0.2 yarl-1.7.2\n"
          ]
        }
      ]
    },
    {
      "cell_type": "code",
      "source": [
        "# time calculation to track some processes\n",
        "import time\n",
        "\n",
        "# numeric and matrix operations\n",
        "import numpy as np\n",
        "import pandas as pd\n",
        "\n",
        "# loading ploting libraries\n",
        "import matplotlib.pyplot as plt\n",
        "import seaborn as sns\n",
        "plt.style.use('ggplot')\n",
        "%matplotlib inline\n",
        "\n",
        "import folium \n",
        "import plotly.express as px\n",
        "import plotly.figure_factory as ff\n",
        "\n",
        "\n",
        "import dataframe_image as dfi\n",
        "\n",
        "# python core library for machine learning and data science\n",
        "from sklearn.pipeline import Pipeline\n",
        "from sklearn.preprocessing import StandardScaler, MinMaxScaler\n",
        "from sklearn.base import BaseEstimator, TransformerMixin\n",
        "from sklearn.impute import KNNImputer, SimpleImputer\n",
        "from sklearn.cluster import KMeans\n",
        "import scipy.cluster.hierarchy as sch\n",
        "from scipy.cluster.hierarchy import dendrogram, linkage\n",
        "from sklearn.cluster import AgglomerativeClustering "
      ],
      "metadata": {
        "id": "dkddLWyevPy3"
      },
      "execution_count": 3,
      "outputs": []
    },
    {
      "cell_type": "markdown",
      "source": [
        "\n",
        "# Clustering for FAOSTAT emissions"
      ],
      "metadata": {
        "id": "jgefEnamRTPU"
      }
    },
    {
      "cell_type": "code",
      "source": [
        "Emisiones_final = pd.read_csv (\"/content/drive/MyDrive/BOOTCAMP DATA SCIENCE/PROYECTO NUCLIO/DATASETS FINALES/Emisiones_final.csv\", index_col = 0)"
      ],
      "metadata": {
        "id": "8JznvdVT2_Q3"
      },
      "execution_count": 4,
      "outputs": []
    },
    {
      "cell_type": "code",
      "source": [
        "Emisiones_final.info()"
      ],
      "metadata": {
        "id": "i4lAyJwO7oSK",
        "colab": {
          "base_uri": "https://localhost:8080/"
        },
        "outputId": "3c1142c0-bd16-4323-d402-c1e235045b21"
      },
      "execution_count": 5,
      "outputs": [
        {
          "output_type": "stream",
          "name": "stdout",
          "text": [
            "<class 'pandas.core.frame.DataFrame'>\n",
            "Int64Index: 509598 entries, 0 to 509597\n",
            "Data columns (total 7 columns):\n",
            " #   Column         Non-Null Count   Dtype  \n",
            "---  ------         --------------   -----  \n",
            " 0   Country        509598 non-null  object \n",
            " 1   Country Group  509598 non-null  object \n",
            " 2   Item           509598 non-null  object \n",
            " 3   Element        509598 non-null  object \n",
            " 4   Year           509598 non-null  int64  \n",
            " 5   Unit           509598 non-null  object \n",
            " 6   Value          509598 non-null  float64\n",
            "dtypes: float64(1), int64(1), object(5)\n",
            "memory usage: 31.1+ MB\n"
          ]
        }
      ]
    },
    {
      "cell_type": "code",
      "source": [
        "Emisiones_final.head()"
      ],
      "metadata": {
        "id": "9PQUPhkKIiQu",
        "colab": {
          "base_uri": "https://localhost:8080/",
          "height": 206
        },
        "outputId": "a06e1665-b5ae-41e8-ba32-31ce1c6df00c"
      },
      "execution_count": 6,
      "outputs": [
        {
          "output_type": "execute_result",
          "data": {
            "text/plain": [
              "       Country  Country Group                  Item          Element  Year  \\\n",
              "0  Afghanistan           Asia  Enteric Fermentation  Emissions (CH4)  2010   \n",
              "1  Afghanistan  Southern Asia  Enteric Fermentation  Emissions (CH4)  2010   \n",
              "2  Afghanistan           Asia  Enteric Fermentation  Emissions (CH4)  2011   \n",
              "3  Afghanistan  Southern Asia  Enteric Fermentation  Emissions (CH4)  2011   \n",
              "4  Afghanistan           Asia  Enteric Fermentation  Emissions (CH4)  2012   \n",
              "\n",
              "         Unit    Value  \n",
              "0  kilotonnes  401.068  \n",
              "1  kilotonnes  401.068  \n",
              "2  kilotonnes  402.513  \n",
              "3  kilotonnes  402.513  \n",
              "4  kilotonnes  396.921  "
            ],
            "text/html": [
              "\n",
              "  <div id=\"df-8b31ce93-5415-4acd-8d17-fee8c59b068e\">\n",
              "    <div class=\"colab-df-container\">\n",
              "      <div>\n",
              "<style scoped>\n",
              "    .dataframe tbody tr th:only-of-type {\n",
              "        vertical-align: middle;\n",
              "    }\n",
              "\n",
              "    .dataframe tbody tr th {\n",
              "        vertical-align: top;\n",
              "    }\n",
              "\n",
              "    .dataframe thead th {\n",
              "        text-align: right;\n",
              "    }\n",
              "</style>\n",
              "<table border=\"1\" class=\"dataframe\">\n",
              "  <thead>\n",
              "    <tr style=\"text-align: right;\">\n",
              "      <th></th>\n",
              "      <th>Country</th>\n",
              "      <th>Country Group</th>\n",
              "      <th>Item</th>\n",
              "      <th>Element</th>\n",
              "      <th>Year</th>\n",
              "      <th>Unit</th>\n",
              "      <th>Value</th>\n",
              "    </tr>\n",
              "  </thead>\n",
              "  <tbody>\n",
              "    <tr>\n",
              "      <th>0</th>\n",
              "      <td>Afghanistan</td>\n",
              "      <td>Asia</td>\n",
              "      <td>Enteric Fermentation</td>\n",
              "      <td>Emissions (CH4)</td>\n",
              "      <td>2010</td>\n",
              "      <td>kilotonnes</td>\n",
              "      <td>401.068</td>\n",
              "    </tr>\n",
              "    <tr>\n",
              "      <th>1</th>\n",
              "      <td>Afghanistan</td>\n",
              "      <td>Southern Asia</td>\n",
              "      <td>Enteric Fermentation</td>\n",
              "      <td>Emissions (CH4)</td>\n",
              "      <td>2010</td>\n",
              "      <td>kilotonnes</td>\n",
              "      <td>401.068</td>\n",
              "    </tr>\n",
              "    <tr>\n",
              "      <th>2</th>\n",
              "      <td>Afghanistan</td>\n",
              "      <td>Asia</td>\n",
              "      <td>Enteric Fermentation</td>\n",
              "      <td>Emissions (CH4)</td>\n",
              "      <td>2011</td>\n",
              "      <td>kilotonnes</td>\n",
              "      <td>402.513</td>\n",
              "    </tr>\n",
              "    <tr>\n",
              "      <th>3</th>\n",
              "      <td>Afghanistan</td>\n",
              "      <td>Southern Asia</td>\n",
              "      <td>Enteric Fermentation</td>\n",
              "      <td>Emissions (CH4)</td>\n",
              "      <td>2011</td>\n",
              "      <td>kilotonnes</td>\n",
              "      <td>402.513</td>\n",
              "    </tr>\n",
              "    <tr>\n",
              "      <th>4</th>\n",
              "      <td>Afghanistan</td>\n",
              "      <td>Asia</td>\n",
              "      <td>Enteric Fermentation</td>\n",
              "      <td>Emissions (CH4)</td>\n",
              "      <td>2012</td>\n",
              "      <td>kilotonnes</td>\n",
              "      <td>396.921</td>\n",
              "    </tr>\n",
              "  </tbody>\n",
              "</table>\n",
              "</div>\n",
              "      <button class=\"colab-df-convert\" onclick=\"convertToInteractive('df-8b31ce93-5415-4acd-8d17-fee8c59b068e')\"\n",
              "              title=\"Convert this dataframe to an interactive table.\"\n",
              "              style=\"display:none;\">\n",
              "        \n",
              "  <svg xmlns=\"http://www.w3.org/2000/svg\" height=\"24px\"viewBox=\"0 0 24 24\"\n",
              "       width=\"24px\">\n",
              "    <path d=\"M0 0h24v24H0V0z\" fill=\"none\"/>\n",
              "    <path d=\"M18.56 5.44l.94 2.06.94-2.06 2.06-.94-2.06-.94-.94-2.06-.94 2.06-2.06.94zm-11 1L8.5 8.5l.94-2.06 2.06-.94-2.06-.94L8.5 2.5l-.94 2.06-2.06.94zm10 10l.94 2.06.94-2.06 2.06-.94-2.06-.94-.94-2.06-.94 2.06-2.06.94z\"/><path d=\"M17.41 7.96l-1.37-1.37c-.4-.4-.92-.59-1.43-.59-.52 0-1.04.2-1.43.59L10.3 9.45l-7.72 7.72c-.78.78-.78 2.05 0 2.83L4 21.41c.39.39.9.59 1.41.59.51 0 1.02-.2 1.41-.59l7.78-7.78 2.81-2.81c.8-.78.8-2.07 0-2.86zM5.41 20L4 18.59l7.72-7.72 1.47 1.35L5.41 20z\"/>\n",
              "  </svg>\n",
              "      </button>\n",
              "      \n",
              "  <style>\n",
              "    .colab-df-container {\n",
              "      display:flex;\n",
              "      flex-wrap:wrap;\n",
              "      gap: 12px;\n",
              "    }\n",
              "\n",
              "    .colab-df-convert {\n",
              "      background-color: #E8F0FE;\n",
              "      border: none;\n",
              "      border-radius: 50%;\n",
              "      cursor: pointer;\n",
              "      display: none;\n",
              "      fill: #1967D2;\n",
              "      height: 32px;\n",
              "      padding: 0 0 0 0;\n",
              "      width: 32px;\n",
              "    }\n",
              "\n",
              "    .colab-df-convert:hover {\n",
              "      background-color: #E2EBFA;\n",
              "      box-shadow: 0px 1px 2px rgba(60, 64, 67, 0.3), 0px 1px 3px 1px rgba(60, 64, 67, 0.15);\n",
              "      fill: #174EA6;\n",
              "    }\n",
              "\n",
              "    [theme=dark] .colab-df-convert {\n",
              "      background-color: #3B4455;\n",
              "      fill: #D2E3FC;\n",
              "    }\n",
              "\n",
              "    [theme=dark] .colab-df-convert:hover {\n",
              "      background-color: #434B5C;\n",
              "      box-shadow: 0px 1px 3px 1px rgba(0, 0, 0, 0.15);\n",
              "      filter: drop-shadow(0px 1px 2px rgba(0, 0, 0, 0.3));\n",
              "      fill: #FFFFFF;\n",
              "    }\n",
              "  </style>\n",
              "\n",
              "      <script>\n",
              "        const buttonEl =\n",
              "          document.querySelector('#df-8b31ce93-5415-4acd-8d17-fee8c59b068e button.colab-df-convert');\n",
              "        buttonEl.style.display =\n",
              "          google.colab.kernel.accessAllowed ? 'block' : 'none';\n",
              "\n",
              "        async function convertToInteractive(key) {\n",
              "          const element = document.querySelector('#df-8b31ce93-5415-4acd-8d17-fee8c59b068e');\n",
              "          const dataTable =\n",
              "            await google.colab.kernel.invokeFunction('convertToInteractive',\n",
              "                                                     [key], {});\n",
              "          if (!dataTable) return;\n",
              "\n",
              "          const docLinkHtml = 'Like what you see? Visit the ' +\n",
              "            '<a target=\"_blank\" href=https://colab.research.google.com/notebooks/data_table.ipynb>data table notebook</a>'\n",
              "            + ' to learn more about interactive tables.';\n",
              "          element.innerHTML = '';\n",
              "          dataTable['output_type'] = 'display_data';\n",
              "          await google.colab.output.renderOutput(dataTable, element);\n",
              "          const docLink = document.createElement('div');\n",
              "          docLink.innerHTML = docLinkHtml;\n",
              "          element.appendChild(docLink);\n",
              "        }\n",
              "      </script>\n",
              "    </div>\n",
              "  </div>\n",
              "  "
            ]
          },
          "metadata": {},
          "execution_count": 6
        }
      ]
    },
    {
      "cell_type": "code",
      "source": [
        "Emisiones_final[\"Year\"].unique()"
      ],
      "metadata": {
        "colab": {
          "base_uri": "https://localhost:8080/"
        },
        "id": "UQ7_xMqeEIxf",
        "outputId": "b0986ef6-7dd8-4935-9fd4-ac003566fa9a"
      },
      "execution_count": 7,
      "outputs": [
        {
          "output_type": "execute_result",
          "data": {
            "text/plain": [
              "array([2010, 2011, 2012, 2013, 2014, 2015, 2016, 2017, 2018, 2019])"
            ]
          },
          "metadata": {},
          "execution_count": 7
        }
      ]
    },
    {
      "cell_type": "code",
      "source": [
        "Emisiones_final = Emisiones_final[Emisiones_final[\"Year\"] < 2029].reset_index(drop = True)"
      ],
      "metadata": {
        "id": "5wGe7K-eDJN7"
      },
      "execution_count": 8,
      "outputs": []
    },
    {
      "cell_type": "code",
      "source": [
        "Emisiones_final_2019 = Emisiones_final[Emisiones_final[\"Year\"] == 2019].reset_index(drop = True)"
      ],
      "metadata": {
        "id": "ybdkiFC7lvgr"
      },
      "execution_count": 9,
      "outputs": []
    },
    {
      "cell_type": "code",
      "source": [
        "Emisiones_final[\"Country\"].unique()"
      ],
      "metadata": {
        "colab": {
          "base_uri": "https://localhost:8080/"
        },
        "id": "YIaE9hdtHBRy",
        "outputId": "b276a96e-4efb-45f1-d5ac-84b4b05e3213"
      },
      "execution_count": 10,
      "outputs": [
        {
          "output_type": "execute_result",
          "data": {
            "text/plain": [
              "array(['Afghanistan', 'Albania', 'Algeria', 'American Samoa', 'Andorra',\n",
              "       'Angola', 'Anguilla', 'Antigua and Barbuda', 'Argentina',\n",
              "       'Armenia', 'Aruba', 'Australia', 'Austria', 'Azerbaijan',\n",
              "       'Bahamas', 'Bahrain', 'Bangladesh', 'Barbados', 'Belarus',\n",
              "       'Belgium', 'Belize', 'Benin', 'Bermuda', 'Bhutan',\n",
              "       'Bolivia (Plurinational State of)', 'Bosnia and Herzegovina',\n",
              "       'Botswana', 'Brazil', 'British Virgin Islands',\n",
              "       'Brunei Darussalam', 'Bulgaria', 'Burkina Faso', 'Burundi',\n",
              "       'Cabo Verde', 'Cambodia', 'Cameroon', 'Canada', 'Cayman Islands',\n",
              "       'Central African Republic', 'Chad', 'Channel Islands', 'Chile',\n",
              "       'China', 'China, Hong Kong SAR', 'China, Macao SAR',\n",
              "       'China, mainland', 'China, Taiwan Province of', 'Colombia',\n",
              "       'Comoros', 'Congo', 'Cook Islands', 'Costa Rica', \"Cote d'Ivoire\",\n",
              "       'Croatia', 'Cuba', 'Cyprus', 'Czechia',\n",
              "       \"Democratic People's Republic of Korea\",\n",
              "       'Democratic Republic of the Congo', 'Denmark', 'Djibouti',\n",
              "       'Dominica', 'Dominican Republic', 'Ecuador', 'Egypt',\n",
              "       'El Salvador', 'Equatorial Guinea', 'Eritrea', 'Estonia',\n",
              "       'Eswatini', 'Ethiopia', 'Falkland Islands (Malvinas)',\n",
              "       'Faroe Islands', 'Fiji', 'Finland', 'France', 'French Guyana',\n",
              "       'French Polynesia', 'Gabon', 'Gambia', 'Georgia', 'Germany',\n",
              "       'Ghana', 'Gibraltar', 'Greece', 'Greenland', 'Grenada',\n",
              "       'Guadeloupe', 'Guam', 'Guatemala', 'Guinea', 'Guinea-Bissau',\n",
              "       'Guyana', 'Haiti', 'Holy See', 'Honduras', 'Hungary', 'Iceland',\n",
              "       'India', 'Indonesia', 'Iran (Islamic Republic of)', 'Iraq',\n",
              "       'Ireland', 'Isle of Man', 'Israel', 'Italy', 'Jamaica', 'Japan',\n",
              "       'Jordan', 'Kazakhstan', 'Kenya', 'Kiribati', 'Kuwait',\n",
              "       'Kyrgyzstan', \"Lao People's Democratic Republic\", 'Latvia',\n",
              "       'Lebanon', 'Lesotho', 'Liberia', 'Libya', 'Liechtenstein',\n",
              "       'Lithuania', 'Luxembourg', 'Madagascar', 'Malawi', 'Malaysia',\n",
              "       'Maldives', 'Mali', 'Malta', 'Marshall Islands', 'Martinique',\n",
              "       'Mauritania', 'Mauritius', 'Mayotte', 'Mexico',\n",
              "       'Micronesia (Federated States of)', 'Monaco', 'Mongolia',\n",
              "       'Montenegro', 'Montserrat', 'Morocco', 'Mozambique', 'Myanmar',\n",
              "       'Namibia', 'Nauru', 'Nepal', 'Netherlands',\n",
              "       'Netherlands Antilles (former)', 'New Caledonia', 'New Zealand',\n",
              "       'Nicaragua', 'Niger', 'Nigeria', 'Niue', 'Norfolk Island',\n",
              "       'North Macedonia', 'Northern Mariana Islands', 'Norway', 'Oman',\n",
              "       'Pakistan', 'Palau', 'Palestine', 'Panama', 'Papua New Guinea',\n",
              "       'Paraguay', 'Peru', 'Philippines', 'Pitcairn', 'Poland',\n",
              "       'Portugal', 'Puerto Rico', 'Qatar', 'Republic of Korea',\n",
              "       'Republic of Moldova', 'Reunion', 'Romania', 'Russian Federation',\n",
              "       'Rwanda', 'Saint Helena, Ascension and Tristan da Cunha',\n",
              "       'Saint Kitts and Nevis', 'Saint Lucia',\n",
              "       'Saint Pierre and Miquelon', 'Saint Vincent and the Grenadines',\n",
              "       'Samoa', 'San Marino', 'Sao Tome and Principe', 'Saudi Arabia',\n",
              "       'Senegal', 'Serbia', 'Seychelles', 'Sierra Leone', 'Singapore',\n",
              "       'Slovakia', 'Slovenia', 'Solomon Islands', 'Somalia',\n",
              "       'South Africa', 'South Sudan', 'Spain', 'Sri Lanka', 'Sudan',\n",
              "       'Sudan (former)', 'Suriname', 'Svalbard and Jan Mayen Islands',\n",
              "       'Sweden', 'Switzerland', 'Syrian Arab Republic', 'Tajikistan',\n",
              "       'Thailand', 'Timor-Leste', 'Togo', 'Tokelau', 'Tonga',\n",
              "       'Trinidad and Tobago', 'Tunisia', 'Turkey', 'Turkmenistan',\n",
              "       'Turks and Caicos Islands', 'Tuvalu', 'Uganda', 'Ukraine',\n",
              "       'United Arab Emirates',\n",
              "       'United Kingdom of Great Britain and Northern Ireland',\n",
              "       'United Republic of Tanzania', 'United States of America',\n",
              "       'United States Virgin Islands', 'Uruguay', 'Uzbekistan', 'Vanuatu',\n",
              "       'Venezuela (Bolivarian Republic of)', 'Vietnam',\n",
              "       'Wallis and Futuna Islands', 'Western Sahara', 'Yemen'],\n",
              "      dtype=object)"
            ]
          },
          "metadata": {},
          "execution_count": 10
        }
      ]
    },
    {
      "cell_type": "code",
      "source": [
        "Emisiones_final[\"Country\"].nunique()"
      ],
      "metadata": {
        "colab": {
          "base_uri": "https://localhost:8080/"
        },
        "id": "YjmgSLpVH1kQ",
        "outputId": "1abf7ac1-c2d2-4a79-c689-974e4a951599"
      },
      "execution_count": 11,
      "outputs": [
        {
          "output_type": "execute_result",
          "data": {
            "text/plain": [
              "234"
            ]
          },
          "metadata": {},
          "execution_count": 11
        }
      ]
    },
    {
      "cell_type": "code",
      "source": [
        "Emisiones_final[\"Country Group\"].unique()"
      ],
      "metadata": {
        "id": "SlFcirigo4dk",
        "colab": {
          "base_uri": "https://localhost:8080/"
        },
        "outputId": "fb6c3243-bfa1-41c0-ec97-6206b240fa4d"
      },
      "execution_count": 12,
      "outputs": [
        {
          "output_type": "execute_result",
          "data": {
            "text/plain": [
              "array(['Asia', 'Southern Asia', 'Europe', 'Southern Europe', 'Africa',\n",
              "       'Northern Africa', 'Oceania', 'Middle Africa', 'Americas',\n",
              "       'Caribbean', 'Small Island Developing States', 'South America',\n",
              "       'Western Asia', 'Australia and New Zealand', 'Western Europe',\n",
              "       'Eastern Europe', 'Central America', 'Western Africa',\n",
              "       'Southern Africa', 'South-eastern Asia', 'Eastern Africa',\n",
              "       'Northern America', 'Eastern Asia', 'Polynesia', 'Northern Europe',\n",
              "       'Melanesia', 'Central Asia', 'Micronesia'], dtype=object)"
            ]
          },
          "metadata": {},
          "execution_count": 12
        }
      ]
    },
    {
      "cell_type": "code",
      "source": [
        "Emisiones_final[\"Country Group\"].nunique()"
      ],
      "metadata": {
        "colab": {
          "base_uri": "https://localhost:8080/"
        },
        "id": "4w40lO3ZHvi_",
        "outputId": "222de8ed-eea5-4df4-9f9a-b198dbd1b384"
      },
      "execution_count": 13,
      "outputs": [
        {
          "output_type": "execute_result",
          "data": {
            "text/plain": [
              "28"
            ]
          },
          "metadata": {},
          "execution_count": 13
        }
      ]
    },
    {
      "cell_type": "code",
      "source": [
        "Emisiones_final = Emisiones_final[Emisiones_final[\"Value\"] > 0].reset_index(drop = True)"
      ],
      "metadata": {
        "id": "Vh7rRZqyLzU1"
      },
      "execution_count": 14,
      "outputs": []
    },
    {
      "cell_type": "code",
      "source": [
        " Emisiones_final.groupby([\"Country Group\"])[\"Value\"].sum()"
      ],
      "metadata": {
        "id": "itcxz08poll-",
        "colab": {
          "base_uri": "https://localhost:8080/"
        },
        "outputId": "1e9b3a25-121b-42ca-faf0-9d4d3d4105a1"
      },
      "execution_count": 15,
      "outputs": [
        {
          "output_type": "execute_result",
          "data": {
            "text/plain": [
              "Country Group\n",
              "Africa                            2.279624e+08\n",
              "Americas                          3.027681e+08\n",
              "Asia                              4.785006e+08\n",
              "Australia and New Zealand         2.305585e+07\n",
              "Caribbean                         3.219690e+06\n",
              "Central America                   2.075903e+07\n",
              "Central Asia                      8.801945e+06\n",
              "Eastern Africa                    6.295750e+07\n",
              "Eastern Asia                      1.636160e+08\n",
              "Eastern Europe                    3.268454e+07\n",
              "Europe                            8.482700e+07\n",
              "Melanesia                         6.121495e+06\n",
              "Micronesia                        1.282228e+04\n",
              "Middle Africa                     9.415350e+07\n",
              "Northern Africa                   1.940582e+07\n",
              "Northern America                  6.540075e+07\n",
              "Northern Europe                   1.705532e+07\n",
              "Oceania                           2.924034e+07\n",
              "Polynesia                         5.617831e+04\n",
              "Small Island Developing States    1.342466e+07\n",
              "South America                     2.131344e+08\n",
              "South-eastern Asia                1.707004e+08\n",
              "Southern Africa                   1.192115e+07\n",
              "Southern Asia                     1.231556e+08\n",
              "Southern Europe                   1.293687e+07\n",
              "Western Africa                    3.950019e+07\n",
              "Western Asia                      1.217877e+07\n",
              "Western Europe                    2.214554e+07\n",
              "Name: Value, dtype: float64"
            ]
          },
          "metadata": {},
          "execution_count": 15
        }
      ]
    },
    {
      "cell_type": "code",
      "source": [
        "Emisiones_final[\"Element\"].unique()"
      ],
      "metadata": {
        "id": "kYRDWUFH7if8",
        "colab": {
          "base_uri": "https://localhost:8080/"
        },
        "outputId": "892f7930-3e55-4fb3-93f5-67c8135f91ab"
      },
      "execution_count": 16,
      "outputs": [
        {
          "output_type": "execute_result",
          "data": {
            "text/plain": [
              "array(['Emissions (CH4)', 'Emissions (CO2eq) from CH4 (AR5)',\n",
              "       'Emissions (CO2eq) (AR5)', 'Emissions (N2O)',\n",
              "       'Emissions (CO2eq) from N2O (AR5)', 'Direct emissions (N2O)',\n",
              "       'Indirect emissions (N2O)', 'Emissions (CO2)'], dtype=object)"
            ]
          },
          "metadata": {},
          "execution_count": 16
        }
      ]
    },
    {
      "cell_type": "code",
      "source": [
        "Emisiones_final.groupby(\"Element\")[\"Value\"].sum()"
      ],
      "metadata": {
        "colab": {
          "base_uri": "https://localhost:8080/"
        },
        "id": "DvtMFhKtr8XZ",
        "outputId": "cd94f4ef-a109-4069-81da-7d685d0d4e82"
      },
      "execution_count": 17,
      "outputs": [
        {
          "output_type": "execute_result",
          "data": {
            "text/plain": [
              "Element\n",
              "Direct emissions (N2O)              6.711026e+05\n",
              "Emissions (CH4)                     1.563768e+07\n",
              "Emissions (CO2)                     4.177007e+08\n",
              "Emissions (CO2eq) (AR5)             1.106845e+09\n",
              "Emissions (CO2eq) from CH4 (AR5)    4.378550e+08\n",
              "Emissions (CO2eq) from N2O (AR5)    2.797312e+08\n",
              "Emissions (N2O)                     1.055590e+06\n",
              "Indirect emissions (N2O)            2.000706e+05\n",
              "Name: Value, dtype: float64"
            ]
          },
          "metadata": {},
          "execution_count": 17
        }
      ]
    },
    {
      "cell_type": "code",
      "source": [
        "Emisiones_final_2019 = Emisiones_final[Emisiones_final[\"Element\"] == \"Emissions (CO2eq) (AR5)\"].reset_index(drop = True)"
      ],
      "metadata": {
        "id": "rZIHMpcq1QZG"
      },
      "execution_count": 18,
      "outputs": []
    },
    {
      "cell_type": "code",
      "source": [
        "Emisiones_final[\"Item\"].unique()"
      ],
      "metadata": {
        "id": "X3hFrJUgEn8z",
        "colab": {
          "base_uri": "https://localhost:8080/"
        },
        "outputId": "46bf6631-8124-497d-b4fd-2711c7e2c895"
      },
      "execution_count": 19,
      "outputs": [
        {
          "output_type": "execute_result",
          "data": {
            "text/plain": [
              "array(['Enteric Fermentation', 'Manure Management', 'Rice Cultivation',\n",
              "       'Synthetic Fertilizers', 'Manure applied to Soils',\n",
              "       'Manure left on Pasture', 'Crop Residues',\n",
              "       'Burning - Crop residues', 'Forestland', 'Savanna fires',\n",
              "       'On-farm energy use', 'IPCC Agriculture', 'Agricultural Soils',\n",
              "       'LULUCF', 'AFOLU', 'Emissions on agricultural land',\n",
              "       'Farm-gate emissions', 'Drained organic soils',\n",
              "       'Drained organic soils (CO2)', 'Drained organic soils (N2O)',\n",
              "       'Forest fires', 'Net Forest conversion', 'Land Use change',\n",
              "       'Fires in humid tropical forests', 'Fires in organic soils'],\n",
              "      dtype=object)"
            ]
          },
          "metadata": {},
          "execution_count": 19
        }
      ]
    },
    {
      "cell_type": "code",
      "source": [
        "Emisiones_final.groupby(\"Item\")[\"Value\"].sum()"
      ],
      "metadata": {
        "colab": {
          "base_uri": "https://localhost:8080/"
        },
        "id": "rN_0JIJFJ2oq",
        "outputId": "657652df-8374-4330-dbfe-3bb335dfd3dd"
      },
      "execution_count": 20,
      "outputs": [
        {
          "output_type": "execute_result",
          "data": {
            "text/plain": [
              "Item\n",
              "AFOLU                              3.600312e+08\n",
              "Agricultural Soils                 8.157773e+07\n",
              "Burning - Crop residues            1.702756e+06\n",
              "Crop Residues                      8.436129e+06\n",
              "Drained organic soils              1.653057e+07\n",
              "Drained organic soils (CO2)        2.871667e+07\n",
              "Drained organic soils (N2O)        4.352666e+06\n",
              "Emissions on agricultural land     4.624316e+08\n",
              "Enteric Fermentation               1.190187e+08\n",
              "Farm-gate emissions                3.205632e+08\n",
              "Fires in humid tropical forests    3.929232e+06\n",
              "Fires in organic soils             1.040295e+07\n",
              "Forest fires                       5.929308e+06\n",
              "Forestland                         3.691922e+06\n",
              "IPCC Agriculture                   2.642287e+08\n",
              "LULUCF                             1.400876e+08\n",
              "Land Use change                    1.418685e+08\n",
              "Manure Management                  1.836967e+07\n",
              "Manure applied to Soils            7.565580e+06\n",
              "Manure left on Pasture             3.107025e+07\n",
              "Net Forest conversion              1.275363e+08\n",
              "On-farm energy use                 2.761781e+07\n",
              "Rice Cultivation                   3.401949e+07\n",
              "Savanna fires                      9.751202e+06\n",
              "Synthetic Fertilizers              3.026685e+07\n",
              "Name: Value, dtype: float64"
            ]
          },
          "metadata": {},
          "execution_count": 20
        }
      ]
    },
    {
      "cell_type": "code",
      "source": [
        "Emisiones_final_2019 =  Emisiones_final_2019[(Emisiones_final_2019[\"Item\"] == \"Farm-gate emissions\") | (Emisiones_final_2019[\"Item\"] == \"Land Use change\") ].reset_index(drop = True)"
      ],
      "metadata": {
        "id": "Lz_tsNOm1y0C"
      },
      "execution_count": 21,
      "outputs": []
    },
    {
      "cell_type": "code",
      "source": [
        "Emisiones_final[\"Country\"].nunique()"
      ],
      "metadata": {
        "id": "p4DHxiRYm2TS",
        "colab": {
          "base_uri": "https://localhost:8080/"
        },
        "outputId": "945cfd54-c79c-43fc-ad20-b1164aa176b7"
      },
      "execution_count": 22,
      "outputs": [
        {
          "output_type": "execute_result",
          "data": {
            "text/plain": [
              "229"
            ]
          },
          "metadata": {},
          "execution_count": 22
        }
      ]
    },
    {
      "cell_type": "code",
      "source": [
        "Emisiones_final[\"Unit\"].unique()"
      ],
      "metadata": {
        "colab": {
          "base_uri": "https://localhost:8080/"
        },
        "id": "yVIGR0evmls6",
        "outputId": "c154f854-13a0-4ecd-f927-edd2145548a6"
      },
      "execution_count": 23,
      "outputs": [
        {
          "output_type": "execute_result",
          "data": {
            "text/plain": [
              "array(['kilotonnes'], dtype=object)"
            ]
          },
          "metadata": {},
          "execution_count": 23
        }
      ]
    },
    {
      "cell_type": "code",
      "source": [
        "Emisiones_final_2019_cluster = Emisiones_final_2019.groupby(Emisiones_final_2019[\"Country\"]).agg(\n",
        "    total_emissions = (\"Value\", \"sum\"),\n",
        ")"
      ],
      "metadata": {
        "id": "BVjieJ-L7fyJ"
      },
      "execution_count": 24,
      "outputs": []
    },
    {
      "cell_type": "code",
      "source": [
        "Emisiones_final_2019.groupby(Emisiones_final_2019.index).agg(\n",
        "    total_emissions = (\"Value\", \"sum\"),\n",
        ")"
      ],
      "metadata": {
        "id": "zNX23ICd5_6H",
        "colab": {
          "base_uri": "https://localhost:8080/",
          "height": 423
        },
        "outputId": "cdde3636-108d-4d14-9f6e-4fc6ebf321b7"
      },
      "execution_count": 25,
      "outputs": [
        {
          "output_type": "execute_result",
          "data": {
            "text/plain": [
              "      total_emissions\n",
              "0          17067.2222\n",
              "1          17067.2222\n",
              "2          17234.3359\n",
              "3          17234.3359\n",
              "4          17056.0280\n",
              "...               ...\n",
              "7362           7.6911\n",
              "7363           7.6911\n",
              "7364           7.6911\n",
              "7365           7.6911\n",
              "7366           7.6911\n",
              "\n",
              "[7367 rows x 1 columns]"
            ],
            "text/html": [
              "\n",
              "  <div id=\"df-f6ec1325-05f8-4b75-9e42-3a03a8ec3b35\">\n",
              "    <div class=\"colab-df-container\">\n",
              "      <div>\n",
              "<style scoped>\n",
              "    .dataframe tbody tr th:only-of-type {\n",
              "        vertical-align: middle;\n",
              "    }\n",
              "\n",
              "    .dataframe tbody tr th {\n",
              "        vertical-align: top;\n",
              "    }\n",
              "\n",
              "    .dataframe thead th {\n",
              "        text-align: right;\n",
              "    }\n",
              "</style>\n",
              "<table border=\"1\" class=\"dataframe\">\n",
              "  <thead>\n",
              "    <tr style=\"text-align: right;\">\n",
              "      <th></th>\n",
              "      <th>total_emissions</th>\n",
              "    </tr>\n",
              "  </thead>\n",
              "  <tbody>\n",
              "    <tr>\n",
              "      <th>0</th>\n",
              "      <td>17067.2222</td>\n",
              "    </tr>\n",
              "    <tr>\n",
              "      <th>1</th>\n",
              "      <td>17067.2222</td>\n",
              "    </tr>\n",
              "    <tr>\n",
              "      <th>2</th>\n",
              "      <td>17234.3359</td>\n",
              "    </tr>\n",
              "    <tr>\n",
              "      <th>3</th>\n",
              "      <td>17234.3359</td>\n",
              "    </tr>\n",
              "    <tr>\n",
              "      <th>4</th>\n",
              "      <td>17056.0280</td>\n",
              "    </tr>\n",
              "    <tr>\n",
              "      <th>...</th>\n",
              "      <td>...</td>\n",
              "    </tr>\n",
              "    <tr>\n",
              "      <th>7362</th>\n",
              "      <td>7.6911</td>\n",
              "    </tr>\n",
              "    <tr>\n",
              "      <th>7363</th>\n",
              "      <td>7.6911</td>\n",
              "    </tr>\n",
              "    <tr>\n",
              "      <th>7364</th>\n",
              "      <td>7.6911</td>\n",
              "    </tr>\n",
              "    <tr>\n",
              "      <th>7365</th>\n",
              "      <td>7.6911</td>\n",
              "    </tr>\n",
              "    <tr>\n",
              "      <th>7366</th>\n",
              "      <td>7.6911</td>\n",
              "    </tr>\n",
              "  </tbody>\n",
              "</table>\n",
              "<p>7367 rows × 1 columns</p>\n",
              "</div>\n",
              "      <button class=\"colab-df-convert\" onclick=\"convertToInteractive('df-f6ec1325-05f8-4b75-9e42-3a03a8ec3b35')\"\n",
              "              title=\"Convert this dataframe to an interactive table.\"\n",
              "              style=\"display:none;\">\n",
              "        \n",
              "  <svg xmlns=\"http://www.w3.org/2000/svg\" height=\"24px\"viewBox=\"0 0 24 24\"\n",
              "       width=\"24px\">\n",
              "    <path d=\"M0 0h24v24H0V0z\" fill=\"none\"/>\n",
              "    <path d=\"M18.56 5.44l.94 2.06.94-2.06 2.06-.94-2.06-.94-.94-2.06-.94 2.06-2.06.94zm-11 1L8.5 8.5l.94-2.06 2.06-.94-2.06-.94L8.5 2.5l-.94 2.06-2.06.94zm10 10l.94 2.06.94-2.06 2.06-.94-2.06-.94-.94-2.06-.94 2.06-2.06.94z\"/><path d=\"M17.41 7.96l-1.37-1.37c-.4-.4-.92-.59-1.43-.59-.52 0-1.04.2-1.43.59L10.3 9.45l-7.72 7.72c-.78.78-.78 2.05 0 2.83L4 21.41c.39.39.9.59 1.41.59.51 0 1.02-.2 1.41-.59l7.78-7.78 2.81-2.81c.8-.78.8-2.07 0-2.86zM5.41 20L4 18.59l7.72-7.72 1.47 1.35L5.41 20z\"/>\n",
              "  </svg>\n",
              "      </button>\n",
              "      \n",
              "  <style>\n",
              "    .colab-df-container {\n",
              "      display:flex;\n",
              "      flex-wrap:wrap;\n",
              "      gap: 12px;\n",
              "    }\n",
              "\n",
              "    .colab-df-convert {\n",
              "      background-color: #E8F0FE;\n",
              "      border: none;\n",
              "      border-radius: 50%;\n",
              "      cursor: pointer;\n",
              "      display: none;\n",
              "      fill: #1967D2;\n",
              "      height: 32px;\n",
              "      padding: 0 0 0 0;\n",
              "      width: 32px;\n",
              "    }\n",
              "\n",
              "    .colab-df-convert:hover {\n",
              "      background-color: #E2EBFA;\n",
              "      box-shadow: 0px 1px 2px rgba(60, 64, 67, 0.3), 0px 1px 3px 1px rgba(60, 64, 67, 0.15);\n",
              "      fill: #174EA6;\n",
              "    }\n",
              "\n",
              "    [theme=dark] .colab-df-convert {\n",
              "      background-color: #3B4455;\n",
              "      fill: #D2E3FC;\n",
              "    }\n",
              "\n",
              "    [theme=dark] .colab-df-convert:hover {\n",
              "      background-color: #434B5C;\n",
              "      box-shadow: 0px 1px 3px 1px rgba(0, 0, 0, 0.15);\n",
              "      filter: drop-shadow(0px 1px 2px rgba(0, 0, 0, 0.3));\n",
              "      fill: #FFFFFF;\n",
              "    }\n",
              "  </style>\n",
              "\n",
              "      <script>\n",
              "        const buttonEl =\n",
              "          document.querySelector('#df-f6ec1325-05f8-4b75-9e42-3a03a8ec3b35 button.colab-df-convert');\n",
              "        buttonEl.style.display =\n",
              "          google.colab.kernel.accessAllowed ? 'block' : 'none';\n",
              "\n",
              "        async function convertToInteractive(key) {\n",
              "          const element = document.querySelector('#df-f6ec1325-05f8-4b75-9e42-3a03a8ec3b35');\n",
              "          const dataTable =\n",
              "            await google.colab.kernel.invokeFunction('convertToInteractive',\n",
              "                                                     [key], {});\n",
              "          if (!dataTable) return;\n",
              "\n",
              "          const docLinkHtml = 'Like what you see? Visit the ' +\n",
              "            '<a target=\"_blank\" href=https://colab.research.google.com/notebooks/data_table.ipynb>data table notebook</a>'\n",
              "            + ' to learn more about interactive tables.';\n",
              "          element.innerHTML = '';\n",
              "          dataTable['output_type'] = 'display_data';\n",
              "          await google.colab.output.renderOutput(dataTable, element);\n",
              "          const docLink = document.createElement('div');\n",
              "          docLink.innerHTML = docLinkHtml;\n",
              "          element.appendChild(docLink);\n",
              "        }\n",
              "      </script>\n",
              "    </div>\n",
              "  </div>\n",
              "  "
            ]
          },
          "metadata": {},
          "execution_count": 25
        }
      ]
    },
    {
      "cell_type": "code",
      "source": [
        "Emisiones_final_2019_cluster .head()"
      ],
      "metadata": {
        "id": "KlE44xzY75H5",
        "colab": {
          "base_uri": "https://localhost:8080/",
          "height": 238
        },
        "outputId": "a5ee30b3-c742-4e35-eb71-4b1b24654f76"
      },
      "execution_count": 26,
      "outputs": [
        {
          "output_type": "execute_result",
          "data": {
            "text/plain": [
              "                total_emissions\n",
              "Country                        \n",
              "Afghanistan         332664.5360\n",
              "Albania              72548.9968\n",
              "Algeria             257688.8186\n",
              "American Samoa          89.1298\n",
              "Andorra                201.7263"
            ],
            "text/html": [
              "\n",
              "  <div id=\"df-083e3918-a3b4-4035-8100-8ff3d17568b9\">\n",
              "    <div class=\"colab-df-container\">\n",
              "      <div>\n",
              "<style scoped>\n",
              "    .dataframe tbody tr th:only-of-type {\n",
              "        vertical-align: middle;\n",
              "    }\n",
              "\n",
              "    .dataframe tbody tr th {\n",
              "        vertical-align: top;\n",
              "    }\n",
              "\n",
              "    .dataframe thead th {\n",
              "        text-align: right;\n",
              "    }\n",
              "</style>\n",
              "<table border=\"1\" class=\"dataframe\">\n",
              "  <thead>\n",
              "    <tr style=\"text-align: right;\">\n",
              "      <th></th>\n",
              "      <th>total_emissions</th>\n",
              "    </tr>\n",
              "    <tr>\n",
              "      <th>Country</th>\n",
              "      <th></th>\n",
              "    </tr>\n",
              "  </thead>\n",
              "  <tbody>\n",
              "    <tr>\n",
              "      <th>Afghanistan</th>\n",
              "      <td>332664.5360</td>\n",
              "    </tr>\n",
              "    <tr>\n",
              "      <th>Albania</th>\n",
              "      <td>72548.9968</td>\n",
              "    </tr>\n",
              "    <tr>\n",
              "      <th>Algeria</th>\n",
              "      <td>257688.8186</td>\n",
              "    </tr>\n",
              "    <tr>\n",
              "      <th>American Samoa</th>\n",
              "      <td>89.1298</td>\n",
              "    </tr>\n",
              "    <tr>\n",
              "      <th>Andorra</th>\n",
              "      <td>201.7263</td>\n",
              "    </tr>\n",
              "  </tbody>\n",
              "</table>\n",
              "</div>\n",
              "      <button class=\"colab-df-convert\" onclick=\"convertToInteractive('df-083e3918-a3b4-4035-8100-8ff3d17568b9')\"\n",
              "              title=\"Convert this dataframe to an interactive table.\"\n",
              "              style=\"display:none;\">\n",
              "        \n",
              "  <svg xmlns=\"http://www.w3.org/2000/svg\" height=\"24px\"viewBox=\"0 0 24 24\"\n",
              "       width=\"24px\">\n",
              "    <path d=\"M0 0h24v24H0V0z\" fill=\"none\"/>\n",
              "    <path d=\"M18.56 5.44l.94 2.06.94-2.06 2.06-.94-2.06-.94-.94-2.06-.94 2.06-2.06.94zm-11 1L8.5 8.5l.94-2.06 2.06-.94-2.06-.94L8.5 2.5l-.94 2.06-2.06.94zm10 10l.94 2.06.94-2.06 2.06-.94-2.06-.94-.94-2.06-.94 2.06-2.06.94z\"/><path d=\"M17.41 7.96l-1.37-1.37c-.4-.4-.92-.59-1.43-.59-.52 0-1.04.2-1.43.59L10.3 9.45l-7.72 7.72c-.78.78-.78 2.05 0 2.83L4 21.41c.39.39.9.59 1.41.59.51 0 1.02-.2 1.41-.59l7.78-7.78 2.81-2.81c.8-.78.8-2.07 0-2.86zM5.41 20L4 18.59l7.72-7.72 1.47 1.35L5.41 20z\"/>\n",
              "  </svg>\n",
              "      </button>\n",
              "      \n",
              "  <style>\n",
              "    .colab-df-container {\n",
              "      display:flex;\n",
              "      flex-wrap:wrap;\n",
              "      gap: 12px;\n",
              "    }\n",
              "\n",
              "    .colab-df-convert {\n",
              "      background-color: #E8F0FE;\n",
              "      border: none;\n",
              "      border-radius: 50%;\n",
              "      cursor: pointer;\n",
              "      display: none;\n",
              "      fill: #1967D2;\n",
              "      height: 32px;\n",
              "      padding: 0 0 0 0;\n",
              "      width: 32px;\n",
              "    }\n",
              "\n",
              "    .colab-df-convert:hover {\n",
              "      background-color: #E2EBFA;\n",
              "      box-shadow: 0px 1px 2px rgba(60, 64, 67, 0.3), 0px 1px 3px 1px rgba(60, 64, 67, 0.15);\n",
              "      fill: #174EA6;\n",
              "    }\n",
              "\n",
              "    [theme=dark] .colab-df-convert {\n",
              "      background-color: #3B4455;\n",
              "      fill: #D2E3FC;\n",
              "    }\n",
              "\n",
              "    [theme=dark] .colab-df-convert:hover {\n",
              "      background-color: #434B5C;\n",
              "      box-shadow: 0px 1px 3px 1px rgba(0, 0, 0, 0.15);\n",
              "      filter: drop-shadow(0px 1px 2px rgba(0, 0, 0, 0.3));\n",
              "      fill: #FFFFFF;\n",
              "    }\n",
              "  </style>\n",
              "\n",
              "      <script>\n",
              "        const buttonEl =\n",
              "          document.querySelector('#df-083e3918-a3b4-4035-8100-8ff3d17568b9 button.colab-df-convert');\n",
              "        buttonEl.style.display =\n",
              "          google.colab.kernel.accessAllowed ? 'block' : 'none';\n",
              "\n",
              "        async function convertToInteractive(key) {\n",
              "          const element = document.querySelector('#df-083e3918-a3b4-4035-8100-8ff3d17568b9');\n",
              "          const dataTable =\n",
              "            await google.colab.kernel.invokeFunction('convertToInteractive',\n",
              "                                                     [key], {});\n",
              "          if (!dataTable) return;\n",
              "\n",
              "          const docLinkHtml = 'Like what you see? Visit the ' +\n",
              "            '<a target=\"_blank\" href=https://colab.research.google.com/notebooks/data_table.ipynb>data table notebook</a>'\n",
              "            + ' to learn more about interactive tables.';\n",
              "          element.innerHTML = '';\n",
              "          dataTable['output_type'] = 'display_data';\n",
              "          await google.colab.output.renderOutput(dataTable, element);\n",
              "          const docLink = document.createElement('div');\n",
              "          docLink.innerHTML = docLinkHtml;\n",
              "          element.appendChild(docLink);\n",
              "        }\n",
              "      </script>\n",
              "    </div>\n",
              "  </div>\n",
              "  "
            ]
          },
          "metadata": {},
          "execution_count": 26
        }
      ]
    },
    {
      "cell_type": "code",
      "source": [
        "Emisiones_final_2019_cluster .to_csv(\"/content/drive/MyDrive/BOOTCAMP DATA SCIENCE/PROYECTO NUCLIO/DATASETS FINALES/Emisiones_final_2019_cluster \")"
      ],
      "metadata": {
        "id": "Ur7yvCEC77tq"
      },
      "execution_count": 27,
      "outputs": []
    },
    {
      "cell_type": "markdown",
      "source": [
        "# Adding new data and creating new features. \n",
        "\n"
      ],
      "metadata": {
        "id": "ODUcOn4o8YO7"
      }
    },
    {
      "cell_type": "markdown",
      "source": [
        "## Adding Population"
      ],
      "metadata": {
        "id": "MPTJZCpo8fNm"
      }
    },
    {
      "cell_type": "code",
      "source": [
        "Emisiones_final_2019_cluster .head()"
      ],
      "metadata": {
        "id": "oyfxMU1D8jnA",
        "colab": {
          "base_uri": "https://localhost:8080/",
          "height": 238
        },
        "outputId": "8a06a36e-b139-4d0a-96ad-06248c1d42e7"
      },
      "execution_count": 28,
      "outputs": [
        {
          "output_type": "execute_result",
          "data": {
            "text/plain": [
              "                total_emissions\n",
              "Country                        \n",
              "Afghanistan         332664.5360\n",
              "Albania              72548.9968\n",
              "Algeria             257688.8186\n",
              "American Samoa          89.1298\n",
              "Andorra                201.7263"
            ],
            "text/html": [
              "\n",
              "  <div id=\"df-5bedb703-967e-48bb-a58d-56a7904d9713\">\n",
              "    <div class=\"colab-df-container\">\n",
              "      <div>\n",
              "<style scoped>\n",
              "    .dataframe tbody tr th:only-of-type {\n",
              "        vertical-align: middle;\n",
              "    }\n",
              "\n",
              "    .dataframe tbody tr th {\n",
              "        vertical-align: top;\n",
              "    }\n",
              "\n",
              "    .dataframe thead th {\n",
              "        text-align: right;\n",
              "    }\n",
              "</style>\n",
              "<table border=\"1\" class=\"dataframe\">\n",
              "  <thead>\n",
              "    <tr style=\"text-align: right;\">\n",
              "      <th></th>\n",
              "      <th>total_emissions</th>\n",
              "    </tr>\n",
              "    <tr>\n",
              "      <th>Country</th>\n",
              "      <th></th>\n",
              "    </tr>\n",
              "  </thead>\n",
              "  <tbody>\n",
              "    <tr>\n",
              "      <th>Afghanistan</th>\n",
              "      <td>332664.5360</td>\n",
              "    </tr>\n",
              "    <tr>\n",
              "      <th>Albania</th>\n",
              "      <td>72548.9968</td>\n",
              "    </tr>\n",
              "    <tr>\n",
              "      <th>Algeria</th>\n",
              "      <td>257688.8186</td>\n",
              "    </tr>\n",
              "    <tr>\n",
              "      <th>American Samoa</th>\n",
              "      <td>89.1298</td>\n",
              "    </tr>\n",
              "    <tr>\n",
              "      <th>Andorra</th>\n",
              "      <td>201.7263</td>\n",
              "    </tr>\n",
              "  </tbody>\n",
              "</table>\n",
              "</div>\n",
              "      <button class=\"colab-df-convert\" onclick=\"convertToInteractive('df-5bedb703-967e-48bb-a58d-56a7904d9713')\"\n",
              "              title=\"Convert this dataframe to an interactive table.\"\n",
              "              style=\"display:none;\">\n",
              "        \n",
              "  <svg xmlns=\"http://www.w3.org/2000/svg\" height=\"24px\"viewBox=\"0 0 24 24\"\n",
              "       width=\"24px\">\n",
              "    <path d=\"M0 0h24v24H0V0z\" fill=\"none\"/>\n",
              "    <path d=\"M18.56 5.44l.94 2.06.94-2.06 2.06-.94-2.06-.94-.94-2.06-.94 2.06-2.06.94zm-11 1L8.5 8.5l.94-2.06 2.06-.94-2.06-.94L8.5 2.5l-.94 2.06-2.06.94zm10 10l.94 2.06.94-2.06 2.06-.94-2.06-.94-.94-2.06-.94 2.06-2.06.94z\"/><path d=\"M17.41 7.96l-1.37-1.37c-.4-.4-.92-.59-1.43-.59-.52 0-1.04.2-1.43.59L10.3 9.45l-7.72 7.72c-.78.78-.78 2.05 0 2.83L4 21.41c.39.39.9.59 1.41.59.51 0 1.02-.2 1.41-.59l7.78-7.78 2.81-2.81c.8-.78.8-2.07 0-2.86zM5.41 20L4 18.59l7.72-7.72 1.47 1.35L5.41 20z\"/>\n",
              "  </svg>\n",
              "      </button>\n",
              "      \n",
              "  <style>\n",
              "    .colab-df-container {\n",
              "      display:flex;\n",
              "      flex-wrap:wrap;\n",
              "      gap: 12px;\n",
              "    }\n",
              "\n",
              "    .colab-df-convert {\n",
              "      background-color: #E8F0FE;\n",
              "      border: none;\n",
              "      border-radius: 50%;\n",
              "      cursor: pointer;\n",
              "      display: none;\n",
              "      fill: #1967D2;\n",
              "      height: 32px;\n",
              "      padding: 0 0 0 0;\n",
              "      width: 32px;\n",
              "    }\n",
              "\n",
              "    .colab-df-convert:hover {\n",
              "      background-color: #E2EBFA;\n",
              "      box-shadow: 0px 1px 2px rgba(60, 64, 67, 0.3), 0px 1px 3px 1px rgba(60, 64, 67, 0.15);\n",
              "      fill: #174EA6;\n",
              "    }\n",
              "\n",
              "    [theme=dark] .colab-df-convert {\n",
              "      background-color: #3B4455;\n",
              "      fill: #D2E3FC;\n",
              "    }\n",
              "\n",
              "    [theme=dark] .colab-df-convert:hover {\n",
              "      background-color: #434B5C;\n",
              "      box-shadow: 0px 1px 3px 1px rgba(0, 0, 0, 0.15);\n",
              "      filter: drop-shadow(0px 1px 2px rgba(0, 0, 0, 0.3));\n",
              "      fill: #FFFFFF;\n",
              "    }\n",
              "  </style>\n",
              "\n",
              "      <script>\n",
              "        const buttonEl =\n",
              "          document.querySelector('#df-5bedb703-967e-48bb-a58d-56a7904d9713 button.colab-df-convert');\n",
              "        buttonEl.style.display =\n",
              "          google.colab.kernel.accessAllowed ? 'block' : 'none';\n",
              "\n",
              "        async function convertToInteractive(key) {\n",
              "          const element = document.querySelector('#df-5bedb703-967e-48bb-a58d-56a7904d9713');\n",
              "          const dataTable =\n",
              "            await google.colab.kernel.invokeFunction('convertToInteractive',\n",
              "                                                     [key], {});\n",
              "          if (!dataTable) return;\n",
              "\n",
              "          const docLinkHtml = 'Like what you see? Visit the ' +\n",
              "            '<a target=\"_blank\" href=https://colab.research.google.com/notebooks/data_table.ipynb>data table notebook</a>'\n",
              "            + ' to learn more about interactive tables.';\n",
              "          element.innerHTML = '';\n",
              "          dataTable['output_type'] = 'display_data';\n",
              "          await google.colab.output.renderOutput(dataTable, element);\n",
              "          const docLink = document.createElement('div');\n",
              "          docLink.innerHTML = docLinkHtml;\n",
              "          element.appendChild(docLink);\n",
              "        }\n",
              "      </script>\n",
              "    </div>\n",
              "  </div>\n",
              "  "
            ]
          },
          "metadata": {},
          "execution_count": 28
        }
      ]
    },
    {
      "cell_type": "code",
      "source": [
        "Poblacion_final = pd.read_csv(\"/content/drive/MyDrive/BOOTCAMP DATA SCIENCE/PROYECTO NUCLIO/DATASETS FINALES/Poblacion_final.csv\",sep=\",\", encoding = \"ISO-8859-1\", index_col = 0)"
      ],
      "metadata": {
        "id": "3x1x1FJM8les"
      },
      "execution_count": 29,
      "outputs": []
    },
    {
      "cell_type": "code",
      "source": [
        "Poblacion_final.head(10)"
      ],
      "metadata": {
        "colab": {
          "base_uri": "https://localhost:8080/",
          "height": 363
        },
        "id": "bId6_cPX9DhW",
        "outputId": "cf712804-7a88-4f61-9e3b-7495b94e2410"
      },
      "execution_count": 30,
      "outputs": [
        {
          "output_type": "execute_result",
          "data": {
            "text/plain": [
              "       Country Country Group                       Item  \\\n",
              "0  Afghanistan          Asia  Population - Est. & Proj.   \n",
              "1  Afghanistan          Asia  Population - Est. & Proj.   \n",
              "2  Afghanistan          Asia  Population - Est. & Proj.   \n",
              "3  Afghanistan          Asia  Population - Est. & Proj.   \n",
              "4  Afghanistan          Asia  Population - Est. & Proj.   \n",
              "5  Afghanistan          Asia  Population - Est. & Proj.   \n",
              "6  Afghanistan          Asia  Population - Est. & Proj.   \n",
              "7  Afghanistan          Asia  Population - Est. & Proj.   \n",
              "8  Afghanistan          Asia  Population - Est. & Proj.   \n",
              "9  Afghanistan          Asia  Population - Est. & Proj.   \n",
              "\n",
              "                         Element  Year          Unit      Value  \n",
              "0  Total Population - Both sexes  2010  1000 persons  29185.507  \n",
              "1  Total Population - Both sexes  2011  1000 persons  30117.413  \n",
              "2  Total Population - Both sexes  2012  1000 persons  31161.376  \n",
              "3  Total Population - Both sexes  2013  1000 persons  32269.589  \n",
              "4  Total Population - Both sexes  2014  1000 persons  33370.794  \n",
              "5  Total Population - Both sexes  2015  1000 persons  34413.603  \n",
              "6  Total Population - Both sexes  2016  1000 persons  35383.032  \n",
              "7  Total Population - Both sexes  2017  1000 persons  36296.113  \n",
              "8  Total Population - Both sexes  2018  1000 persons  37171.921  \n",
              "9  Total Population - Both sexes  2019  1000 persons  38041.754  "
            ],
            "text/html": [
              "\n",
              "  <div id=\"df-728a0e34-dd64-4f8f-94bf-c498cd4bda4d\">\n",
              "    <div class=\"colab-df-container\">\n",
              "      <div>\n",
              "<style scoped>\n",
              "    .dataframe tbody tr th:only-of-type {\n",
              "        vertical-align: middle;\n",
              "    }\n",
              "\n",
              "    .dataframe tbody tr th {\n",
              "        vertical-align: top;\n",
              "    }\n",
              "\n",
              "    .dataframe thead th {\n",
              "        text-align: right;\n",
              "    }\n",
              "</style>\n",
              "<table border=\"1\" class=\"dataframe\">\n",
              "  <thead>\n",
              "    <tr style=\"text-align: right;\">\n",
              "      <th></th>\n",
              "      <th>Country</th>\n",
              "      <th>Country Group</th>\n",
              "      <th>Item</th>\n",
              "      <th>Element</th>\n",
              "      <th>Year</th>\n",
              "      <th>Unit</th>\n",
              "      <th>Value</th>\n",
              "    </tr>\n",
              "  </thead>\n",
              "  <tbody>\n",
              "    <tr>\n",
              "      <th>0</th>\n",
              "      <td>Afghanistan</td>\n",
              "      <td>Asia</td>\n",
              "      <td>Population - Est. &amp; Proj.</td>\n",
              "      <td>Total Population - Both sexes</td>\n",
              "      <td>2010</td>\n",
              "      <td>1000 persons</td>\n",
              "      <td>29185.507</td>\n",
              "    </tr>\n",
              "    <tr>\n",
              "      <th>1</th>\n",
              "      <td>Afghanistan</td>\n",
              "      <td>Asia</td>\n",
              "      <td>Population - Est. &amp; Proj.</td>\n",
              "      <td>Total Population - Both sexes</td>\n",
              "      <td>2011</td>\n",
              "      <td>1000 persons</td>\n",
              "      <td>30117.413</td>\n",
              "    </tr>\n",
              "    <tr>\n",
              "      <th>2</th>\n",
              "      <td>Afghanistan</td>\n",
              "      <td>Asia</td>\n",
              "      <td>Population - Est. &amp; Proj.</td>\n",
              "      <td>Total Population - Both sexes</td>\n",
              "      <td>2012</td>\n",
              "      <td>1000 persons</td>\n",
              "      <td>31161.376</td>\n",
              "    </tr>\n",
              "    <tr>\n",
              "      <th>3</th>\n",
              "      <td>Afghanistan</td>\n",
              "      <td>Asia</td>\n",
              "      <td>Population - Est. &amp; Proj.</td>\n",
              "      <td>Total Population - Both sexes</td>\n",
              "      <td>2013</td>\n",
              "      <td>1000 persons</td>\n",
              "      <td>32269.589</td>\n",
              "    </tr>\n",
              "    <tr>\n",
              "      <th>4</th>\n",
              "      <td>Afghanistan</td>\n",
              "      <td>Asia</td>\n",
              "      <td>Population - Est. &amp; Proj.</td>\n",
              "      <td>Total Population - Both sexes</td>\n",
              "      <td>2014</td>\n",
              "      <td>1000 persons</td>\n",
              "      <td>33370.794</td>\n",
              "    </tr>\n",
              "    <tr>\n",
              "      <th>5</th>\n",
              "      <td>Afghanistan</td>\n",
              "      <td>Asia</td>\n",
              "      <td>Population - Est. &amp; Proj.</td>\n",
              "      <td>Total Population - Both sexes</td>\n",
              "      <td>2015</td>\n",
              "      <td>1000 persons</td>\n",
              "      <td>34413.603</td>\n",
              "    </tr>\n",
              "    <tr>\n",
              "      <th>6</th>\n",
              "      <td>Afghanistan</td>\n",
              "      <td>Asia</td>\n",
              "      <td>Population - Est. &amp; Proj.</td>\n",
              "      <td>Total Population - Both sexes</td>\n",
              "      <td>2016</td>\n",
              "      <td>1000 persons</td>\n",
              "      <td>35383.032</td>\n",
              "    </tr>\n",
              "    <tr>\n",
              "      <th>7</th>\n",
              "      <td>Afghanistan</td>\n",
              "      <td>Asia</td>\n",
              "      <td>Population - Est. &amp; Proj.</td>\n",
              "      <td>Total Population - Both sexes</td>\n",
              "      <td>2017</td>\n",
              "      <td>1000 persons</td>\n",
              "      <td>36296.113</td>\n",
              "    </tr>\n",
              "    <tr>\n",
              "      <th>8</th>\n",
              "      <td>Afghanistan</td>\n",
              "      <td>Asia</td>\n",
              "      <td>Population - Est. &amp; Proj.</td>\n",
              "      <td>Total Population - Both sexes</td>\n",
              "      <td>2018</td>\n",
              "      <td>1000 persons</td>\n",
              "      <td>37171.921</td>\n",
              "    </tr>\n",
              "    <tr>\n",
              "      <th>9</th>\n",
              "      <td>Afghanistan</td>\n",
              "      <td>Asia</td>\n",
              "      <td>Population - Est. &amp; Proj.</td>\n",
              "      <td>Total Population - Both sexes</td>\n",
              "      <td>2019</td>\n",
              "      <td>1000 persons</td>\n",
              "      <td>38041.754</td>\n",
              "    </tr>\n",
              "  </tbody>\n",
              "</table>\n",
              "</div>\n",
              "      <button class=\"colab-df-convert\" onclick=\"convertToInteractive('df-728a0e34-dd64-4f8f-94bf-c498cd4bda4d')\"\n",
              "              title=\"Convert this dataframe to an interactive table.\"\n",
              "              style=\"display:none;\">\n",
              "        \n",
              "  <svg xmlns=\"http://www.w3.org/2000/svg\" height=\"24px\"viewBox=\"0 0 24 24\"\n",
              "       width=\"24px\">\n",
              "    <path d=\"M0 0h24v24H0V0z\" fill=\"none\"/>\n",
              "    <path d=\"M18.56 5.44l.94 2.06.94-2.06 2.06-.94-2.06-.94-.94-2.06-.94 2.06-2.06.94zm-11 1L8.5 8.5l.94-2.06 2.06-.94-2.06-.94L8.5 2.5l-.94 2.06-2.06.94zm10 10l.94 2.06.94-2.06 2.06-.94-2.06-.94-.94-2.06-.94 2.06-2.06.94z\"/><path d=\"M17.41 7.96l-1.37-1.37c-.4-.4-.92-.59-1.43-.59-.52 0-1.04.2-1.43.59L10.3 9.45l-7.72 7.72c-.78.78-.78 2.05 0 2.83L4 21.41c.39.39.9.59 1.41.59.51 0 1.02-.2 1.41-.59l7.78-7.78 2.81-2.81c.8-.78.8-2.07 0-2.86zM5.41 20L4 18.59l7.72-7.72 1.47 1.35L5.41 20z\"/>\n",
              "  </svg>\n",
              "      </button>\n",
              "      \n",
              "  <style>\n",
              "    .colab-df-container {\n",
              "      display:flex;\n",
              "      flex-wrap:wrap;\n",
              "      gap: 12px;\n",
              "    }\n",
              "\n",
              "    .colab-df-convert {\n",
              "      background-color: #E8F0FE;\n",
              "      border: none;\n",
              "      border-radius: 50%;\n",
              "      cursor: pointer;\n",
              "      display: none;\n",
              "      fill: #1967D2;\n",
              "      height: 32px;\n",
              "      padding: 0 0 0 0;\n",
              "      width: 32px;\n",
              "    }\n",
              "\n",
              "    .colab-df-convert:hover {\n",
              "      background-color: #E2EBFA;\n",
              "      box-shadow: 0px 1px 2px rgba(60, 64, 67, 0.3), 0px 1px 3px 1px rgba(60, 64, 67, 0.15);\n",
              "      fill: #174EA6;\n",
              "    }\n",
              "\n",
              "    [theme=dark] .colab-df-convert {\n",
              "      background-color: #3B4455;\n",
              "      fill: #D2E3FC;\n",
              "    }\n",
              "\n",
              "    [theme=dark] .colab-df-convert:hover {\n",
              "      background-color: #434B5C;\n",
              "      box-shadow: 0px 1px 3px 1px rgba(0, 0, 0, 0.15);\n",
              "      filter: drop-shadow(0px 1px 2px rgba(0, 0, 0, 0.3));\n",
              "      fill: #FFFFFF;\n",
              "    }\n",
              "  </style>\n",
              "\n",
              "      <script>\n",
              "        const buttonEl =\n",
              "          document.querySelector('#df-728a0e34-dd64-4f8f-94bf-c498cd4bda4d button.colab-df-convert');\n",
              "        buttonEl.style.display =\n",
              "          google.colab.kernel.accessAllowed ? 'block' : 'none';\n",
              "\n",
              "        async function convertToInteractive(key) {\n",
              "          const element = document.querySelector('#df-728a0e34-dd64-4f8f-94bf-c498cd4bda4d');\n",
              "          const dataTable =\n",
              "            await google.colab.kernel.invokeFunction('convertToInteractive',\n",
              "                                                     [key], {});\n",
              "          if (!dataTable) return;\n",
              "\n",
              "          const docLinkHtml = 'Like what you see? Visit the ' +\n",
              "            '<a target=\"_blank\" href=https://colab.research.google.com/notebooks/data_table.ipynb>data table notebook</a>'\n",
              "            + ' to learn more about interactive tables.';\n",
              "          element.innerHTML = '';\n",
              "          dataTable['output_type'] = 'display_data';\n",
              "          await google.colab.output.renderOutput(dataTable, element);\n",
              "          const docLink = document.createElement('div');\n",
              "          docLink.innerHTML = docLinkHtml;\n",
              "          element.appendChild(docLink);\n",
              "        }\n",
              "      </script>\n",
              "    </div>\n",
              "  </div>\n",
              "  "
            ]
          },
          "metadata": {},
          "execution_count": 30
        }
      ]
    },
    {
      "cell_type": "code",
      "source": [
        "Poblacion_final = Poblacion_final[Poblacion_final[\"Year\"] == 2019].reset_index(drop = True)"
      ],
      "metadata": {
        "id": "hMnx_p8a-Hzq"
      },
      "execution_count": 31,
      "outputs": []
    },
    {
      "cell_type": "code",
      "source": [
        "Poblacion_final.info()"
      ],
      "metadata": {
        "id": "-r7VI0Ea-ASU",
        "colab": {
          "base_uri": "https://localhost:8080/"
        },
        "outputId": "f71fdfb2-04aa-4ce4-c54a-939793ae35ef"
      },
      "execution_count": 32,
      "outputs": [
        {
          "output_type": "stream",
          "name": "stdout",
          "text": [
            "<class 'pandas.core.frame.DataFrame'>\n",
            "RangeIndex: 198 entries, 0 to 197\n",
            "Data columns (total 7 columns):\n",
            " #   Column         Non-Null Count  Dtype  \n",
            "---  ------         --------------  -----  \n",
            " 0   Country        198 non-null    object \n",
            " 1   Country Group  198 non-null    object \n",
            " 2   Item           198 non-null    object \n",
            " 3   Element        198 non-null    object \n",
            " 4   Year           198 non-null    int64  \n",
            " 5   Unit           198 non-null    object \n",
            " 6   Value          198 non-null    float64\n",
            "dtypes: float64(1), int64(1), object(5)\n",
            "memory usage: 11.0+ KB\n"
          ]
        }
      ]
    },
    {
      "cell_type": "code",
      "source": [
        "Poblacion_final[\"Country\"].nunique()"
      ],
      "metadata": {
        "id": "qwVtjHrC-ehO",
        "colab": {
          "base_uri": "https://localhost:8080/"
        },
        "outputId": "a4fe4699-ff6d-4088-d48c-7ba9515ef457"
      },
      "execution_count": 33,
      "outputs": [
        {
          "output_type": "execute_result",
          "data": {
            "text/plain": [
              "198"
            ]
          },
          "metadata": {},
          "execution_count": 33
        }
      ]
    },
    {
      "cell_type": "code",
      "source": [
        "Emisiones_final_2019_cluster = Emisiones_final_2019_cluster .merge(Poblacion_final, how = \"right\", on = \"Country\")"
      ],
      "metadata": {
        "id": "2sihJAGl-nFo"
      },
      "execution_count": 34,
      "outputs": []
    },
    {
      "cell_type": "code",
      "source": [
        "Emisiones_final_2019_cluster.head()"
      ],
      "metadata": {
        "colab": {
          "base_uri": "https://localhost:8080/",
          "height": 206
        },
        "id": "SqnmYAOA_Fe5",
        "outputId": "ec6ca890-27c3-4732-d597-cc098bb89520"
      },
      "execution_count": 35,
      "outputs": [
        {
          "output_type": "execute_result",
          "data": {
            "text/plain": [
              "               Country  total_emissions Country Group  \\\n",
              "0          Afghanistan     3.326645e+05          Asia   \n",
              "1              Albania     7.254900e+04        Europe   \n",
              "2              Algeria     2.576888e+05        Africa   \n",
              "3               Angola     1.657945e+06        Africa   \n",
              "4  Antigua and Barbuda     8.139984e+02      Americas   \n",
              "\n",
              "                        Item                        Element  Year  \\\n",
              "0  Population - Est. & Proj.  Total Population - Both sexes  2019   \n",
              "1  Population - Est. & Proj.  Total Population - Both sexes  2019   \n",
              "2  Population - Est. & Proj.  Total Population - Both sexes  2019   \n",
              "3  Population - Est. & Proj.  Total Population - Both sexes  2019   \n",
              "4  Population - Est. & Proj.  Total Population - Both sexes  2019   \n",
              "\n",
              "           Unit      Value  \n",
              "0  1000 persons  38041.754  \n",
              "1  1000 persons   2880.917  \n",
              "2  1000 persons  43053.054  \n",
              "3  1000 persons  31825.295  \n",
              "4  1000 persons     97.118  "
            ],
            "text/html": [
              "\n",
              "  <div id=\"df-7c27c550-8097-4cba-baf8-1655be8fc372\">\n",
              "    <div class=\"colab-df-container\">\n",
              "      <div>\n",
              "<style scoped>\n",
              "    .dataframe tbody tr th:only-of-type {\n",
              "        vertical-align: middle;\n",
              "    }\n",
              "\n",
              "    .dataframe tbody tr th {\n",
              "        vertical-align: top;\n",
              "    }\n",
              "\n",
              "    .dataframe thead th {\n",
              "        text-align: right;\n",
              "    }\n",
              "</style>\n",
              "<table border=\"1\" class=\"dataframe\">\n",
              "  <thead>\n",
              "    <tr style=\"text-align: right;\">\n",
              "      <th></th>\n",
              "      <th>Country</th>\n",
              "      <th>total_emissions</th>\n",
              "      <th>Country Group</th>\n",
              "      <th>Item</th>\n",
              "      <th>Element</th>\n",
              "      <th>Year</th>\n",
              "      <th>Unit</th>\n",
              "      <th>Value</th>\n",
              "    </tr>\n",
              "  </thead>\n",
              "  <tbody>\n",
              "    <tr>\n",
              "      <th>0</th>\n",
              "      <td>Afghanistan</td>\n",
              "      <td>3.326645e+05</td>\n",
              "      <td>Asia</td>\n",
              "      <td>Population - Est. &amp; Proj.</td>\n",
              "      <td>Total Population - Both sexes</td>\n",
              "      <td>2019</td>\n",
              "      <td>1000 persons</td>\n",
              "      <td>38041.754</td>\n",
              "    </tr>\n",
              "    <tr>\n",
              "      <th>1</th>\n",
              "      <td>Albania</td>\n",
              "      <td>7.254900e+04</td>\n",
              "      <td>Europe</td>\n",
              "      <td>Population - Est. &amp; Proj.</td>\n",
              "      <td>Total Population - Both sexes</td>\n",
              "      <td>2019</td>\n",
              "      <td>1000 persons</td>\n",
              "      <td>2880.917</td>\n",
              "    </tr>\n",
              "    <tr>\n",
              "      <th>2</th>\n",
              "      <td>Algeria</td>\n",
              "      <td>2.576888e+05</td>\n",
              "      <td>Africa</td>\n",
              "      <td>Population - Est. &amp; Proj.</td>\n",
              "      <td>Total Population - Both sexes</td>\n",
              "      <td>2019</td>\n",
              "      <td>1000 persons</td>\n",
              "      <td>43053.054</td>\n",
              "    </tr>\n",
              "    <tr>\n",
              "      <th>3</th>\n",
              "      <td>Angola</td>\n",
              "      <td>1.657945e+06</td>\n",
              "      <td>Africa</td>\n",
              "      <td>Population - Est. &amp; Proj.</td>\n",
              "      <td>Total Population - Both sexes</td>\n",
              "      <td>2019</td>\n",
              "      <td>1000 persons</td>\n",
              "      <td>31825.295</td>\n",
              "    </tr>\n",
              "    <tr>\n",
              "      <th>4</th>\n",
              "      <td>Antigua and Barbuda</td>\n",
              "      <td>8.139984e+02</td>\n",
              "      <td>Americas</td>\n",
              "      <td>Population - Est. &amp; Proj.</td>\n",
              "      <td>Total Population - Both sexes</td>\n",
              "      <td>2019</td>\n",
              "      <td>1000 persons</td>\n",
              "      <td>97.118</td>\n",
              "    </tr>\n",
              "  </tbody>\n",
              "</table>\n",
              "</div>\n",
              "      <button class=\"colab-df-convert\" onclick=\"convertToInteractive('df-7c27c550-8097-4cba-baf8-1655be8fc372')\"\n",
              "              title=\"Convert this dataframe to an interactive table.\"\n",
              "              style=\"display:none;\">\n",
              "        \n",
              "  <svg xmlns=\"http://www.w3.org/2000/svg\" height=\"24px\"viewBox=\"0 0 24 24\"\n",
              "       width=\"24px\">\n",
              "    <path d=\"M0 0h24v24H0V0z\" fill=\"none\"/>\n",
              "    <path d=\"M18.56 5.44l.94 2.06.94-2.06 2.06-.94-2.06-.94-.94-2.06-.94 2.06-2.06.94zm-11 1L8.5 8.5l.94-2.06 2.06-.94-2.06-.94L8.5 2.5l-.94 2.06-2.06.94zm10 10l.94 2.06.94-2.06 2.06-.94-2.06-.94-.94-2.06-.94 2.06-2.06.94z\"/><path d=\"M17.41 7.96l-1.37-1.37c-.4-.4-.92-.59-1.43-.59-.52 0-1.04.2-1.43.59L10.3 9.45l-7.72 7.72c-.78.78-.78 2.05 0 2.83L4 21.41c.39.39.9.59 1.41.59.51 0 1.02-.2 1.41-.59l7.78-7.78 2.81-2.81c.8-.78.8-2.07 0-2.86zM5.41 20L4 18.59l7.72-7.72 1.47 1.35L5.41 20z\"/>\n",
              "  </svg>\n",
              "      </button>\n",
              "      \n",
              "  <style>\n",
              "    .colab-df-container {\n",
              "      display:flex;\n",
              "      flex-wrap:wrap;\n",
              "      gap: 12px;\n",
              "    }\n",
              "\n",
              "    .colab-df-convert {\n",
              "      background-color: #E8F0FE;\n",
              "      border: none;\n",
              "      border-radius: 50%;\n",
              "      cursor: pointer;\n",
              "      display: none;\n",
              "      fill: #1967D2;\n",
              "      height: 32px;\n",
              "      padding: 0 0 0 0;\n",
              "      width: 32px;\n",
              "    }\n",
              "\n",
              "    .colab-df-convert:hover {\n",
              "      background-color: #E2EBFA;\n",
              "      box-shadow: 0px 1px 2px rgba(60, 64, 67, 0.3), 0px 1px 3px 1px rgba(60, 64, 67, 0.15);\n",
              "      fill: #174EA6;\n",
              "    }\n",
              "\n",
              "    [theme=dark] .colab-df-convert {\n",
              "      background-color: #3B4455;\n",
              "      fill: #D2E3FC;\n",
              "    }\n",
              "\n",
              "    [theme=dark] .colab-df-convert:hover {\n",
              "      background-color: #434B5C;\n",
              "      box-shadow: 0px 1px 3px 1px rgba(0, 0, 0, 0.15);\n",
              "      filter: drop-shadow(0px 1px 2px rgba(0, 0, 0, 0.3));\n",
              "      fill: #FFFFFF;\n",
              "    }\n",
              "  </style>\n",
              "\n",
              "      <script>\n",
              "        const buttonEl =\n",
              "          document.querySelector('#df-7c27c550-8097-4cba-baf8-1655be8fc372 button.colab-df-convert');\n",
              "        buttonEl.style.display =\n",
              "          google.colab.kernel.accessAllowed ? 'block' : 'none';\n",
              "\n",
              "        async function convertToInteractive(key) {\n",
              "          const element = document.querySelector('#df-7c27c550-8097-4cba-baf8-1655be8fc372');\n",
              "          const dataTable =\n",
              "            await google.colab.kernel.invokeFunction('convertToInteractive',\n",
              "                                                     [key], {});\n",
              "          if (!dataTable) return;\n",
              "\n",
              "          const docLinkHtml = 'Like what you see? Visit the ' +\n",
              "            '<a target=\"_blank\" href=https://colab.research.google.com/notebooks/data_table.ipynb>data table notebook</a>'\n",
              "            + ' to learn more about interactive tables.';\n",
              "          element.innerHTML = '';\n",
              "          dataTable['output_type'] = 'display_data';\n",
              "          await google.colab.output.renderOutput(dataTable, element);\n",
              "          const docLink = document.createElement('div');\n",
              "          docLink.innerHTML = docLinkHtml;\n",
              "          element.appendChild(docLink);\n",
              "        }\n",
              "      </script>\n",
              "    </div>\n",
              "  </div>\n",
              "  "
            ]
          },
          "metadata": {},
          "execution_count": 35
        }
      ]
    },
    {
      "cell_type": "code",
      "source": [
        "Emisiones_final_2019_cluster = Emisiones_final_2019_cluster [[\"Country\", \"Country Group\", \"total_emissions\", \"Value\"]]"
      ],
      "metadata": {
        "id": "APMAWztC_HlE"
      },
      "execution_count": 36,
      "outputs": []
    },
    {
      "cell_type": "code",
      "source": [
        "Emisiones_final_2019_cluster.head()"
      ],
      "metadata": {
        "colab": {
          "base_uri": "https://localhost:8080/",
          "height": 206
        },
        "id": "bGj_XZLR_Vyd",
        "outputId": "4dac149a-d172-4db6-eb40-a58d735f3f51"
      },
      "execution_count": 37,
      "outputs": [
        {
          "output_type": "execute_result",
          "data": {
            "text/plain": [
              "               Country Country Group  total_emissions      Value\n",
              "0          Afghanistan          Asia     3.326645e+05  38041.754\n",
              "1              Albania        Europe     7.254900e+04   2880.917\n",
              "2              Algeria        Africa     2.576888e+05  43053.054\n",
              "3               Angola        Africa     1.657945e+06  31825.295\n",
              "4  Antigua and Barbuda      Americas     8.139984e+02     97.118"
            ],
            "text/html": [
              "\n",
              "  <div id=\"df-d88f2938-2ce6-4f26-b57f-7ceb3a00edee\">\n",
              "    <div class=\"colab-df-container\">\n",
              "      <div>\n",
              "<style scoped>\n",
              "    .dataframe tbody tr th:only-of-type {\n",
              "        vertical-align: middle;\n",
              "    }\n",
              "\n",
              "    .dataframe tbody tr th {\n",
              "        vertical-align: top;\n",
              "    }\n",
              "\n",
              "    .dataframe thead th {\n",
              "        text-align: right;\n",
              "    }\n",
              "</style>\n",
              "<table border=\"1\" class=\"dataframe\">\n",
              "  <thead>\n",
              "    <tr style=\"text-align: right;\">\n",
              "      <th></th>\n",
              "      <th>Country</th>\n",
              "      <th>Country Group</th>\n",
              "      <th>total_emissions</th>\n",
              "      <th>Value</th>\n",
              "    </tr>\n",
              "  </thead>\n",
              "  <tbody>\n",
              "    <tr>\n",
              "      <th>0</th>\n",
              "      <td>Afghanistan</td>\n",
              "      <td>Asia</td>\n",
              "      <td>3.326645e+05</td>\n",
              "      <td>38041.754</td>\n",
              "    </tr>\n",
              "    <tr>\n",
              "      <th>1</th>\n",
              "      <td>Albania</td>\n",
              "      <td>Europe</td>\n",
              "      <td>7.254900e+04</td>\n",
              "      <td>2880.917</td>\n",
              "    </tr>\n",
              "    <tr>\n",
              "      <th>2</th>\n",
              "      <td>Algeria</td>\n",
              "      <td>Africa</td>\n",
              "      <td>2.576888e+05</td>\n",
              "      <td>43053.054</td>\n",
              "    </tr>\n",
              "    <tr>\n",
              "      <th>3</th>\n",
              "      <td>Angola</td>\n",
              "      <td>Africa</td>\n",
              "      <td>1.657945e+06</td>\n",
              "      <td>31825.295</td>\n",
              "    </tr>\n",
              "    <tr>\n",
              "      <th>4</th>\n",
              "      <td>Antigua and Barbuda</td>\n",
              "      <td>Americas</td>\n",
              "      <td>8.139984e+02</td>\n",
              "      <td>97.118</td>\n",
              "    </tr>\n",
              "  </tbody>\n",
              "</table>\n",
              "</div>\n",
              "      <button class=\"colab-df-convert\" onclick=\"convertToInteractive('df-d88f2938-2ce6-4f26-b57f-7ceb3a00edee')\"\n",
              "              title=\"Convert this dataframe to an interactive table.\"\n",
              "              style=\"display:none;\">\n",
              "        \n",
              "  <svg xmlns=\"http://www.w3.org/2000/svg\" height=\"24px\"viewBox=\"0 0 24 24\"\n",
              "       width=\"24px\">\n",
              "    <path d=\"M0 0h24v24H0V0z\" fill=\"none\"/>\n",
              "    <path d=\"M18.56 5.44l.94 2.06.94-2.06 2.06-.94-2.06-.94-.94-2.06-.94 2.06-2.06.94zm-11 1L8.5 8.5l.94-2.06 2.06-.94-2.06-.94L8.5 2.5l-.94 2.06-2.06.94zm10 10l.94 2.06.94-2.06 2.06-.94-2.06-.94-.94-2.06-.94 2.06-2.06.94z\"/><path d=\"M17.41 7.96l-1.37-1.37c-.4-.4-.92-.59-1.43-.59-.52 0-1.04.2-1.43.59L10.3 9.45l-7.72 7.72c-.78.78-.78 2.05 0 2.83L4 21.41c.39.39.9.59 1.41.59.51 0 1.02-.2 1.41-.59l7.78-7.78 2.81-2.81c.8-.78.8-2.07 0-2.86zM5.41 20L4 18.59l7.72-7.72 1.47 1.35L5.41 20z\"/>\n",
              "  </svg>\n",
              "      </button>\n",
              "      \n",
              "  <style>\n",
              "    .colab-df-container {\n",
              "      display:flex;\n",
              "      flex-wrap:wrap;\n",
              "      gap: 12px;\n",
              "    }\n",
              "\n",
              "    .colab-df-convert {\n",
              "      background-color: #E8F0FE;\n",
              "      border: none;\n",
              "      border-radius: 50%;\n",
              "      cursor: pointer;\n",
              "      display: none;\n",
              "      fill: #1967D2;\n",
              "      height: 32px;\n",
              "      padding: 0 0 0 0;\n",
              "      width: 32px;\n",
              "    }\n",
              "\n",
              "    .colab-df-convert:hover {\n",
              "      background-color: #E2EBFA;\n",
              "      box-shadow: 0px 1px 2px rgba(60, 64, 67, 0.3), 0px 1px 3px 1px rgba(60, 64, 67, 0.15);\n",
              "      fill: #174EA6;\n",
              "    }\n",
              "\n",
              "    [theme=dark] .colab-df-convert {\n",
              "      background-color: #3B4455;\n",
              "      fill: #D2E3FC;\n",
              "    }\n",
              "\n",
              "    [theme=dark] .colab-df-convert:hover {\n",
              "      background-color: #434B5C;\n",
              "      box-shadow: 0px 1px 3px 1px rgba(0, 0, 0, 0.15);\n",
              "      filter: drop-shadow(0px 1px 2px rgba(0, 0, 0, 0.3));\n",
              "      fill: #FFFFFF;\n",
              "    }\n",
              "  </style>\n",
              "\n",
              "      <script>\n",
              "        const buttonEl =\n",
              "          document.querySelector('#df-d88f2938-2ce6-4f26-b57f-7ceb3a00edee button.colab-df-convert');\n",
              "        buttonEl.style.display =\n",
              "          google.colab.kernel.accessAllowed ? 'block' : 'none';\n",
              "\n",
              "        async function convertToInteractive(key) {\n",
              "          const element = document.querySelector('#df-d88f2938-2ce6-4f26-b57f-7ceb3a00edee');\n",
              "          const dataTable =\n",
              "            await google.colab.kernel.invokeFunction('convertToInteractive',\n",
              "                                                     [key], {});\n",
              "          if (!dataTable) return;\n",
              "\n",
              "          const docLinkHtml = 'Like what you see? Visit the ' +\n",
              "            '<a target=\"_blank\" href=https://colab.research.google.com/notebooks/data_table.ipynb>data table notebook</a>'\n",
              "            + ' to learn more about interactive tables.';\n",
              "          element.innerHTML = '';\n",
              "          dataTable['output_type'] = 'display_data';\n",
              "          await google.colab.output.renderOutput(dataTable, element);\n",
              "          const docLink = document.createElement('div');\n",
              "          docLink.innerHTML = docLinkHtml;\n",
              "          element.appendChild(docLink);\n",
              "        }\n",
              "      </script>\n",
              "    </div>\n",
              "  </div>\n",
              "  "
            ]
          },
          "metadata": {},
          "execution_count": 37
        }
      ]
    },
    {
      "cell_type": "code",
      "source": [
        "Emisiones_final_2019_cluster.isnull().sum()"
      ],
      "metadata": {
        "colab": {
          "base_uri": "https://localhost:8080/"
        },
        "id": "kjy7CfTzBV4c",
        "outputId": "d6d5c973-0e7d-4faa-81e8-c8f05f0eca71"
      },
      "execution_count": 38,
      "outputs": [
        {
          "output_type": "execute_result",
          "data": {
            "text/plain": [
              "Country            0\n",
              "Country Group      0\n",
              "total_emissions    3\n",
              "Value              0\n",
              "dtype: int64"
            ]
          },
          "metadata": {},
          "execution_count": 38
        }
      ]
    },
    {
      "cell_type": "code",
      "source": [
        "Emisiones_final_2019_cluster[\"total_population\"] = Emisiones_final_2019_cluster[\"Value\"] "
      ],
      "metadata": {
        "id": "x6XUmu4A_YJ3"
      },
      "execution_count": 39,
      "outputs": []
    },
    {
      "cell_type": "code",
      "source": [
        "Emisiones_final_2019_cluster.drop(\"Value\", axis = 1, inplace = True)"
      ],
      "metadata": {
        "id": "N_W7Dlk6_iM6"
      },
      "execution_count": 40,
      "outputs": []
    },
    {
      "cell_type": "code",
      "source": [
        "Emisiones_final_2019_cluster.tail(10)"
      ],
      "metadata": {
        "colab": {
          "base_uri": "https://localhost:8080/",
          "height": 363
        },
        "id": "Tl4iHpNs_tsF",
        "outputId": "4d01c210-880f-4386-c405-81a83de8e697"
      },
      "execution_count": 41,
      "outputs": [
        {
          "output_type": "execute_result",
          "data": {
            "text/plain": [
              "                                               Country Country Group  \\\n",
              "188  United Kingdom of Great Britain and Northern I...        Europe   \n",
              "189                        United Republic of Tanzania        Africa   \n",
              "190                           United States of America      Americas   \n",
              "191                                            Uruguay      Americas   \n",
              "192                                         Uzbekistan          Asia   \n",
              "193                                            Vanuatu       Oceania   \n",
              "194                 Venezuela (Bolivarian Republic of)      Americas   \n",
              "195                                              Yemen          Asia   \n",
              "196                                             Zambia        Africa   \n",
              "197                                           Zimbabwe        Africa   \n",
              "\n",
              "     total_emissions  total_population  \n",
              "188     1.113037e+06         67530.172  \n",
              "189     2.371497e+06         58005.463  \n",
              "190     9.928668e+06        329064.917  \n",
              "191     5.834968e+05          3461.734  \n",
              "192     7.012077e+05         32981.716  \n",
              "193     1.530273e+04           299.882  \n",
              "194     2.440284e+06         28515.829  \n",
              "195              NaN         29161.922  \n",
              "196              NaN         17861.030  \n",
              "197              NaN         14645.468  "
            ],
            "text/html": [
              "\n",
              "  <div id=\"df-e1d5e091-1d58-4189-b4f6-b4ed940e62fc\">\n",
              "    <div class=\"colab-df-container\">\n",
              "      <div>\n",
              "<style scoped>\n",
              "    .dataframe tbody tr th:only-of-type {\n",
              "        vertical-align: middle;\n",
              "    }\n",
              "\n",
              "    .dataframe tbody tr th {\n",
              "        vertical-align: top;\n",
              "    }\n",
              "\n",
              "    .dataframe thead th {\n",
              "        text-align: right;\n",
              "    }\n",
              "</style>\n",
              "<table border=\"1\" class=\"dataframe\">\n",
              "  <thead>\n",
              "    <tr style=\"text-align: right;\">\n",
              "      <th></th>\n",
              "      <th>Country</th>\n",
              "      <th>Country Group</th>\n",
              "      <th>total_emissions</th>\n",
              "      <th>total_population</th>\n",
              "    </tr>\n",
              "  </thead>\n",
              "  <tbody>\n",
              "    <tr>\n",
              "      <th>188</th>\n",
              "      <td>United Kingdom of Great Britain and Northern I...</td>\n",
              "      <td>Europe</td>\n",
              "      <td>1.113037e+06</td>\n",
              "      <td>67530.172</td>\n",
              "    </tr>\n",
              "    <tr>\n",
              "      <th>189</th>\n",
              "      <td>United Republic of Tanzania</td>\n",
              "      <td>Africa</td>\n",
              "      <td>2.371497e+06</td>\n",
              "      <td>58005.463</td>\n",
              "    </tr>\n",
              "    <tr>\n",
              "      <th>190</th>\n",
              "      <td>United States of America</td>\n",
              "      <td>Americas</td>\n",
              "      <td>9.928668e+06</td>\n",
              "      <td>329064.917</td>\n",
              "    </tr>\n",
              "    <tr>\n",
              "      <th>191</th>\n",
              "      <td>Uruguay</td>\n",
              "      <td>Americas</td>\n",
              "      <td>5.834968e+05</td>\n",
              "      <td>3461.734</td>\n",
              "    </tr>\n",
              "    <tr>\n",
              "      <th>192</th>\n",
              "      <td>Uzbekistan</td>\n",
              "      <td>Asia</td>\n",
              "      <td>7.012077e+05</td>\n",
              "      <td>32981.716</td>\n",
              "    </tr>\n",
              "    <tr>\n",
              "      <th>193</th>\n",
              "      <td>Vanuatu</td>\n",
              "      <td>Oceania</td>\n",
              "      <td>1.530273e+04</td>\n",
              "      <td>299.882</td>\n",
              "    </tr>\n",
              "    <tr>\n",
              "      <th>194</th>\n",
              "      <td>Venezuela (Bolivarian Republic of)</td>\n",
              "      <td>Americas</td>\n",
              "      <td>2.440284e+06</td>\n",
              "      <td>28515.829</td>\n",
              "    </tr>\n",
              "    <tr>\n",
              "      <th>195</th>\n",
              "      <td>Yemen</td>\n",
              "      <td>Asia</td>\n",
              "      <td>NaN</td>\n",
              "      <td>29161.922</td>\n",
              "    </tr>\n",
              "    <tr>\n",
              "      <th>196</th>\n",
              "      <td>Zambia</td>\n",
              "      <td>Africa</td>\n",
              "      <td>NaN</td>\n",
              "      <td>17861.030</td>\n",
              "    </tr>\n",
              "    <tr>\n",
              "      <th>197</th>\n",
              "      <td>Zimbabwe</td>\n",
              "      <td>Africa</td>\n",
              "      <td>NaN</td>\n",
              "      <td>14645.468</td>\n",
              "    </tr>\n",
              "  </tbody>\n",
              "</table>\n",
              "</div>\n",
              "      <button class=\"colab-df-convert\" onclick=\"convertToInteractive('df-e1d5e091-1d58-4189-b4f6-b4ed940e62fc')\"\n",
              "              title=\"Convert this dataframe to an interactive table.\"\n",
              "              style=\"display:none;\">\n",
              "        \n",
              "  <svg xmlns=\"http://www.w3.org/2000/svg\" height=\"24px\"viewBox=\"0 0 24 24\"\n",
              "       width=\"24px\">\n",
              "    <path d=\"M0 0h24v24H0V0z\" fill=\"none\"/>\n",
              "    <path d=\"M18.56 5.44l.94 2.06.94-2.06 2.06-.94-2.06-.94-.94-2.06-.94 2.06-2.06.94zm-11 1L8.5 8.5l.94-2.06 2.06-.94-2.06-.94L8.5 2.5l-.94 2.06-2.06.94zm10 10l.94 2.06.94-2.06 2.06-.94-2.06-.94-.94-2.06-.94 2.06-2.06.94z\"/><path d=\"M17.41 7.96l-1.37-1.37c-.4-.4-.92-.59-1.43-.59-.52 0-1.04.2-1.43.59L10.3 9.45l-7.72 7.72c-.78.78-.78 2.05 0 2.83L4 21.41c.39.39.9.59 1.41.59.51 0 1.02-.2 1.41-.59l7.78-7.78 2.81-2.81c.8-.78.8-2.07 0-2.86zM5.41 20L4 18.59l7.72-7.72 1.47 1.35L5.41 20z\"/>\n",
              "  </svg>\n",
              "      </button>\n",
              "      \n",
              "  <style>\n",
              "    .colab-df-container {\n",
              "      display:flex;\n",
              "      flex-wrap:wrap;\n",
              "      gap: 12px;\n",
              "    }\n",
              "\n",
              "    .colab-df-convert {\n",
              "      background-color: #E8F0FE;\n",
              "      border: none;\n",
              "      border-radius: 50%;\n",
              "      cursor: pointer;\n",
              "      display: none;\n",
              "      fill: #1967D2;\n",
              "      height: 32px;\n",
              "      padding: 0 0 0 0;\n",
              "      width: 32px;\n",
              "    }\n",
              "\n",
              "    .colab-df-convert:hover {\n",
              "      background-color: #E2EBFA;\n",
              "      box-shadow: 0px 1px 2px rgba(60, 64, 67, 0.3), 0px 1px 3px 1px rgba(60, 64, 67, 0.15);\n",
              "      fill: #174EA6;\n",
              "    }\n",
              "\n",
              "    [theme=dark] .colab-df-convert {\n",
              "      background-color: #3B4455;\n",
              "      fill: #D2E3FC;\n",
              "    }\n",
              "\n",
              "    [theme=dark] .colab-df-convert:hover {\n",
              "      background-color: #434B5C;\n",
              "      box-shadow: 0px 1px 3px 1px rgba(0, 0, 0, 0.15);\n",
              "      filter: drop-shadow(0px 1px 2px rgba(0, 0, 0, 0.3));\n",
              "      fill: #FFFFFF;\n",
              "    }\n",
              "  </style>\n",
              "\n",
              "      <script>\n",
              "        const buttonEl =\n",
              "          document.querySelector('#df-e1d5e091-1d58-4189-b4f6-b4ed940e62fc button.colab-df-convert');\n",
              "        buttonEl.style.display =\n",
              "          google.colab.kernel.accessAllowed ? 'block' : 'none';\n",
              "\n",
              "        async function convertToInteractive(key) {\n",
              "          const element = document.querySelector('#df-e1d5e091-1d58-4189-b4f6-b4ed940e62fc');\n",
              "          const dataTable =\n",
              "            await google.colab.kernel.invokeFunction('convertToInteractive',\n",
              "                                                     [key], {});\n",
              "          if (!dataTable) return;\n",
              "\n",
              "          const docLinkHtml = 'Like what you see? Visit the ' +\n",
              "            '<a target=\"_blank\" href=https://colab.research.google.com/notebooks/data_table.ipynb>data table notebook</a>'\n",
              "            + ' to learn more about interactive tables.';\n",
              "          element.innerHTML = '';\n",
              "          dataTable['output_type'] = 'display_data';\n",
              "          await google.colab.output.renderOutput(dataTable, element);\n",
              "          const docLink = document.createElement('div');\n",
              "          docLink.innerHTML = docLinkHtml;\n",
              "          element.appendChild(docLink);\n",
              "        }\n",
              "      </script>\n",
              "    </div>\n",
              "  </div>\n",
              "  "
            ]
          },
          "metadata": {},
          "execution_count": 41
        }
      ]
    },
    {
      "cell_type": "code",
      "source": [
        "Emisiones_final_2019_cluster[\"Country\"].nunique()"
      ],
      "metadata": {
        "colab": {
          "base_uri": "https://localhost:8080/"
        },
        "id": "s7VUBP_7AGQ2",
        "outputId": "1cdc09c5-ce79-4f33-d7a5-3a1944ac712c"
      },
      "execution_count": 42,
      "outputs": [
        {
          "output_type": "execute_result",
          "data": {
            "text/plain": [
              "198"
            ]
          },
          "metadata": {},
          "execution_count": 42
        }
      ]
    },
    {
      "cell_type": "code",
      "source": [
        "Emisiones_final_2019_cluster.to_csv(\"/content/drive/MyDrive/BOOTCAMP DATA SCIENCE/PROYECTO NUCLIO/DATASETS FINALES/Emisiones_final_2019_cluster\")"
      ],
      "metadata": {
        "id": "H_sYa45w_wXI"
      },
      "execution_count": 43,
      "outputs": []
    },
    {
      "cell_type": "code",
      "source": [
        "Emisiones_final_2019_cluster.head()"
      ],
      "metadata": {
        "id": "UgGvDB2PDkRW",
        "colab": {
          "base_uri": "https://localhost:8080/",
          "height": 206
        },
        "outputId": "358f8f55-548f-4454-b502-e84cfebd2aa3"
      },
      "execution_count": 44,
      "outputs": [
        {
          "output_type": "execute_result",
          "data": {
            "text/plain": [
              "               Country Country Group  total_emissions  total_population\n",
              "0          Afghanistan          Asia     3.326645e+05         38041.754\n",
              "1              Albania        Europe     7.254900e+04          2880.917\n",
              "2              Algeria        Africa     2.576888e+05         43053.054\n",
              "3               Angola        Africa     1.657945e+06         31825.295\n",
              "4  Antigua and Barbuda      Americas     8.139984e+02            97.118"
            ],
            "text/html": [
              "\n",
              "  <div id=\"df-5bb2fa09-c623-468a-90b5-593890d44d53\">\n",
              "    <div class=\"colab-df-container\">\n",
              "      <div>\n",
              "<style scoped>\n",
              "    .dataframe tbody tr th:only-of-type {\n",
              "        vertical-align: middle;\n",
              "    }\n",
              "\n",
              "    .dataframe tbody tr th {\n",
              "        vertical-align: top;\n",
              "    }\n",
              "\n",
              "    .dataframe thead th {\n",
              "        text-align: right;\n",
              "    }\n",
              "</style>\n",
              "<table border=\"1\" class=\"dataframe\">\n",
              "  <thead>\n",
              "    <tr style=\"text-align: right;\">\n",
              "      <th></th>\n",
              "      <th>Country</th>\n",
              "      <th>Country Group</th>\n",
              "      <th>total_emissions</th>\n",
              "      <th>total_population</th>\n",
              "    </tr>\n",
              "  </thead>\n",
              "  <tbody>\n",
              "    <tr>\n",
              "      <th>0</th>\n",
              "      <td>Afghanistan</td>\n",
              "      <td>Asia</td>\n",
              "      <td>3.326645e+05</td>\n",
              "      <td>38041.754</td>\n",
              "    </tr>\n",
              "    <tr>\n",
              "      <th>1</th>\n",
              "      <td>Albania</td>\n",
              "      <td>Europe</td>\n",
              "      <td>7.254900e+04</td>\n",
              "      <td>2880.917</td>\n",
              "    </tr>\n",
              "    <tr>\n",
              "      <th>2</th>\n",
              "      <td>Algeria</td>\n",
              "      <td>Africa</td>\n",
              "      <td>2.576888e+05</td>\n",
              "      <td>43053.054</td>\n",
              "    </tr>\n",
              "    <tr>\n",
              "      <th>3</th>\n",
              "      <td>Angola</td>\n",
              "      <td>Africa</td>\n",
              "      <td>1.657945e+06</td>\n",
              "      <td>31825.295</td>\n",
              "    </tr>\n",
              "    <tr>\n",
              "      <th>4</th>\n",
              "      <td>Antigua and Barbuda</td>\n",
              "      <td>Americas</td>\n",
              "      <td>8.139984e+02</td>\n",
              "      <td>97.118</td>\n",
              "    </tr>\n",
              "  </tbody>\n",
              "</table>\n",
              "</div>\n",
              "      <button class=\"colab-df-convert\" onclick=\"convertToInteractive('df-5bb2fa09-c623-468a-90b5-593890d44d53')\"\n",
              "              title=\"Convert this dataframe to an interactive table.\"\n",
              "              style=\"display:none;\">\n",
              "        \n",
              "  <svg xmlns=\"http://www.w3.org/2000/svg\" height=\"24px\"viewBox=\"0 0 24 24\"\n",
              "       width=\"24px\">\n",
              "    <path d=\"M0 0h24v24H0V0z\" fill=\"none\"/>\n",
              "    <path d=\"M18.56 5.44l.94 2.06.94-2.06 2.06-.94-2.06-.94-.94-2.06-.94 2.06-2.06.94zm-11 1L8.5 8.5l.94-2.06 2.06-.94-2.06-.94L8.5 2.5l-.94 2.06-2.06.94zm10 10l.94 2.06.94-2.06 2.06-.94-2.06-.94-.94-2.06-.94 2.06-2.06.94z\"/><path d=\"M17.41 7.96l-1.37-1.37c-.4-.4-.92-.59-1.43-.59-.52 0-1.04.2-1.43.59L10.3 9.45l-7.72 7.72c-.78.78-.78 2.05 0 2.83L4 21.41c.39.39.9.59 1.41.59.51 0 1.02-.2 1.41-.59l7.78-7.78 2.81-2.81c.8-.78.8-2.07 0-2.86zM5.41 20L4 18.59l7.72-7.72 1.47 1.35L5.41 20z\"/>\n",
              "  </svg>\n",
              "      </button>\n",
              "      \n",
              "  <style>\n",
              "    .colab-df-container {\n",
              "      display:flex;\n",
              "      flex-wrap:wrap;\n",
              "      gap: 12px;\n",
              "    }\n",
              "\n",
              "    .colab-df-convert {\n",
              "      background-color: #E8F0FE;\n",
              "      border: none;\n",
              "      border-radius: 50%;\n",
              "      cursor: pointer;\n",
              "      display: none;\n",
              "      fill: #1967D2;\n",
              "      height: 32px;\n",
              "      padding: 0 0 0 0;\n",
              "      width: 32px;\n",
              "    }\n",
              "\n",
              "    .colab-df-convert:hover {\n",
              "      background-color: #E2EBFA;\n",
              "      box-shadow: 0px 1px 2px rgba(60, 64, 67, 0.3), 0px 1px 3px 1px rgba(60, 64, 67, 0.15);\n",
              "      fill: #174EA6;\n",
              "    }\n",
              "\n",
              "    [theme=dark] .colab-df-convert {\n",
              "      background-color: #3B4455;\n",
              "      fill: #D2E3FC;\n",
              "    }\n",
              "\n",
              "    [theme=dark] .colab-df-convert:hover {\n",
              "      background-color: #434B5C;\n",
              "      box-shadow: 0px 1px 3px 1px rgba(0, 0, 0, 0.15);\n",
              "      filter: drop-shadow(0px 1px 2px rgba(0, 0, 0, 0.3));\n",
              "      fill: #FFFFFF;\n",
              "    }\n",
              "  </style>\n",
              "\n",
              "      <script>\n",
              "        const buttonEl =\n",
              "          document.querySelector('#df-5bb2fa09-c623-468a-90b5-593890d44d53 button.colab-df-convert');\n",
              "        buttonEl.style.display =\n",
              "          google.colab.kernel.accessAllowed ? 'block' : 'none';\n",
              "\n",
              "        async function convertToInteractive(key) {\n",
              "          const element = document.querySelector('#df-5bb2fa09-c623-468a-90b5-593890d44d53');\n",
              "          const dataTable =\n",
              "            await google.colab.kernel.invokeFunction('convertToInteractive',\n",
              "                                                     [key], {});\n",
              "          if (!dataTable) return;\n",
              "\n",
              "          const docLinkHtml = 'Like what you see? Visit the ' +\n",
              "            '<a target=\"_blank\" href=https://colab.research.google.com/notebooks/data_table.ipynb>data table notebook</a>'\n",
              "            + ' to learn more about interactive tables.';\n",
              "          element.innerHTML = '';\n",
              "          dataTable['output_type'] = 'display_data';\n",
              "          await google.colab.output.renderOutput(dataTable, element);\n",
              "          const docLink = document.createElement('div');\n",
              "          docLink.innerHTML = docLinkHtml;\n",
              "          element.appendChild(docLink);\n",
              "        }\n",
              "      </script>\n",
              "    </div>\n",
              "  </div>\n",
              "  "
            ]
          },
          "metadata": {},
          "execution_count": 44
        }
      ]
    },
    {
      "cell_type": "code",
      "source": [
        "Emisiones_final_2019_cluster = Emisiones_final_2019_cluster.iloc[::2].reset_index(drop = True)"
      ],
      "metadata": {
        "id": "WQevCN6wSASY"
      },
      "execution_count": 45,
      "outputs": []
    },
    {
      "cell_type": "markdown",
      "source": [
        "### New features\n"
      ],
      "metadata": {
        "id": "5gcv3db3AB0X"
      }
    },
    {
      "cell_type": "code",
      "source": [
        "Emisiones_final_2019_cluster = pd.read_csv (\"/content/drive/MyDrive/BOOTCAMP DATA SCIENCE/PROYECTO NUCLIO/DATASETS FINALES/Emisiones_final_2019_cluster\",sep=\",\", encoding = \"ISO-8859-1\", index_col = 0)"
      ],
      "metadata": {
        "id": "NxRBJxjfABlp"
      },
      "execution_count": 46,
      "outputs": []
    },
    {
      "cell_type": "code",
      "source": [
        "Emisiones_final_2019_cluster.head()"
      ],
      "metadata": {
        "colab": {
          "base_uri": "https://localhost:8080/",
          "height": 206
        },
        "id": "ujgFJ2PmABi7",
        "outputId": "d344c8e8-3fb0-4bb1-8cc0-dbd72148797c"
      },
      "execution_count": 47,
      "outputs": [
        {
          "output_type": "execute_result",
          "data": {
            "text/plain": [
              "               Country Country Group  total_emissions  total_population\n",
              "0          Afghanistan          Asia     3.326645e+05         38041.754\n",
              "1              Albania        Europe     7.254900e+04          2880.917\n",
              "2              Algeria        Africa     2.576888e+05         43053.054\n",
              "3               Angola        Africa     1.657945e+06         31825.295\n",
              "4  Antigua and Barbuda      Americas     8.139984e+02            97.118"
            ],
            "text/html": [
              "\n",
              "  <div id=\"df-7b8b5b5c-00fa-488d-8f2b-b92d79d0fb4a\">\n",
              "    <div class=\"colab-df-container\">\n",
              "      <div>\n",
              "<style scoped>\n",
              "    .dataframe tbody tr th:only-of-type {\n",
              "        vertical-align: middle;\n",
              "    }\n",
              "\n",
              "    .dataframe tbody tr th {\n",
              "        vertical-align: top;\n",
              "    }\n",
              "\n",
              "    .dataframe thead th {\n",
              "        text-align: right;\n",
              "    }\n",
              "</style>\n",
              "<table border=\"1\" class=\"dataframe\">\n",
              "  <thead>\n",
              "    <tr style=\"text-align: right;\">\n",
              "      <th></th>\n",
              "      <th>Country</th>\n",
              "      <th>Country Group</th>\n",
              "      <th>total_emissions</th>\n",
              "      <th>total_population</th>\n",
              "    </tr>\n",
              "  </thead>\n",
              "  <tbody>\n",
              "    <tr>\n",
              "      <th>0</th>\n",
              "      <td>Afghanistan</td>\n",
              "      <td>Asia</td>\n",
              "      <td>3.326645e+05</td>\n",
              "      <td>38041.754</td>\n",
              "    </tr>\n",
              "    <tr>\n",
              "      <th>1</th>\n",
              "      <td>Albania</td>\n",
              "      <td>Europe</td>\n",
              "      <td>7.254900e+04</td>\n",
              "      <td>2880.917</td>\n",
              "    </tr>\n",
              "    <tr>\n",
              "      <th>2</th>\n",
              "      <td>Algeria</td>\n",
              "      <td>Africa</td>\n",
              "      <td>2.576888e+05</td>\n",
              "      <td>43053.054</td>\n",
              "    </tr>\n",
              "    <tr>\n",
              "      <th>3</th>\n",
              "      <td>Angola</td>\n",
              "      <td>Africa</td>\n",
              "      <td>1.657945e+06</td>\n",
              "      <td>31825.295</td>\n",
              "    </tr>\n",
              "    <tr>\n",
              "      <th>4</th>\n",
              "      <td>Antigua and Barbuda</td>\n",
              "      <td>Americas</td>\n",
              "      <td>8.139984e+02</td>\n",
              "      <td>97.118</td>\n",
              "    </tr>\n",
              "  </tbody>\n",
              "</table>\n",
              "</div>\n",
              "      <button class=\"colab-df-convert\" onclick=\"convertToInteractive('df-7b8b5b5c-00fa-488d-8f2b-b92d79d0fb4a')\"\n",
              "              title=\"Convert this dataframe to an interactive table.\"\n",
              "              style=\"display:none;\">\n",
              "        \n",
              "  <svg xmlns=\"http://www.w3.org/2000/svg\" height=\"24px\"viewBox=\"0 0 24 24\"\n",
              "       width=\"24px\">\n",
              "    <path d=\"M0 0h24v24H0V0z\" fill=\"none\"/>\n",
              "    <path d=\"M18.56 5.44l.94 2.06.94-2.06 2.06-.94-2.06-.94-.94-2.06-.94 2.06-2.06.94zm-11 1L8.5 8.5l.94-2.06 2.06-.94-2.06-.94L8.5 2.5l-.94 2.06-2.06.94zm10 10l.94 2.06.94-2.06 2.06-.94-2.06-.94-.94-2.06-.94 2.06-2.06.94z\"/><path d=\"M17.41 7.96l-1.37-1.37c-.4-.4-.92-.59-1.43-.59-.52 0-1.04.2-1.43.59L10.3 9.45l-7.72 7.72c-.78.78-.78 2.05 0 2.83L4 21.41c.39.39.9.59 1.41.59.51 0 1.02-.2 1.41-.59l7.78-7.78 2.81-2.81c.8-.78.8-2.07 0-2.86zM5.41 20L4 18.59l7.72-7.72 1.47 1.35L5.41 20z\"/>\n",
              "  </svg>\n",
              "      </button>\n",
              "      \n",
              "  <style>\n",
              "    .colab-df-container {\n",
              "      display:flex;\n",
              "      flex-wrap:wrap;\n",
              "      gap: 12px;\n",
              "    }\n",
              "\n",
              "    .colab-df-convert {\n",
              "      background-color: #E8F0FE;\n",
              "      border: none;\n",
              "      border-radius: 50%;\n",
              "      cursor: pointer;\n",
              "      display: none;\n",
              "      fill: #1967D2;\n",
              "      height: 32px;\n",
              "      padding: 0 0 0 0;\n",
              "      width: 32px;\n",
              "    }\n",
              "\n",
              "    .colab-df-convert:hover {\n",
              "      background-color: #E2EBFA;\n",
              "      box-shadow: 0px 1px 2px rgba(60, 64, 67, 0.3), 0px 1px 3px 1px rgba(60, 64, 67, 0.15);\n",
              "      fill: #174EA6;\n",
              "    }\n",
              "\n",
              "    [theme=dark] .colab-df-convert {\n",
              "      background-color: #3B4455;\n",
              "      fill: #D2E3FC;\n",
              "    }\n",
              "\n",
              "    [theme=dark] .colab-df-convert:hover {\n",
              "      background-color: #434B5C;\n",
              "      box-shadow: 0px 1px 3px 1px rgba(0, 0, 0, 0.15);\n",
              "      filter: drop-shadow(0px 1px 2px rgba(0, 0, 0, 0.3));\n",
              "      fill: #FFFFFF;\n",
              "    }\n",
              "  </style>\n",
              "\n",
              "      <script>\n",
              "        const buttonEl =\n",
              "          document.querySelector('#df-7b8b5b5c-00fa-488d-8f2b-b92d79d0fb4a button.colab-df-convert');\n",
              "        buttonEl.style.display =\n",
              "          google.colab.kernel.accessAllowed ? 'block' : 'none';\n",
              "\n",
              "        async function convertToInteractive(key) {\n",
              "          const element = document.querySelector('#df-7b8b5b5c-00fa-488d-8f2b-b92d79d0fb4a');\n",
              "          const dataTable =\n",
              "            await google.colab.kernel.invokeFunction('convertToInteractive',\n",
              "                                                     [key], {});\n",
              "          if (!dataTable) return;\n",
              "\n",
              "          const docLinkHtml = 'Like what you see? Visit the ' +\n",
              "            '<a target=\"_blank\" href=https://colab.research.google.com/notebooks/data_table.ipynb>data table notebook</a>'\n",
              "            + ' to learn more about interactive tables.';\n",
              "          element.innerHTML = '';\n",
              "          dataTable['output_type'] = 'display_data';\n",
              "          await google.colab.output.renderOutput(dataTable, element);\n",
              "          const docLink = document.createElement('div');\n",
              "          docLink.innerHTML = docLinkHtml;\n",
              "          element.appendChild(docLink);\n",
              "        }\n",
              "      </script>\n",
              "    </div>\n",
              "  </div>\n",
              "  "
            ]
          },
          "metadata": {},
          "execution_count": 47
        }
      ]
    },
    {
      "cell_type": "code",
      "source": [
        "Emisiones_final_2019_cluster[\"%_population\"] = (Emisiones_final_2019_cluster[\"total_population\"] / Emisiones_final_2019_cluster[\"total_population\"].sum()) "
      ],
      "metadata": {
        "id": "TctPYxycFyKu"
      },
      "execution_count": 48,
      "outputs": []
    },
    {
      "cell_type": "code",
      "source": [
        "43053.054\t / Emisiones_final_2019_cluster[\"total_population\"].sum()"
      ],
      "metadata": {
        "colab": {
          "base_uri": "https://localhost:8080/"
        },
        "id": "pNqEFBXFGBzn",
        "outputId": "6373a627-a029-4df8-dc0a-6544653b0101"
      },
      "execution_count": 49,
      "outputs": [
        {
          "output_type": "execute_result",
          "data": {
            "text/plain": [
              "0.004743495953759285"
            ]
          },
          "metadata": {},
          "execution_count": 49
        }
      ]
    },
    {
      "cell_type": "code",
      "source": [
        "Emisiones_final_2019_cluster = Emisiones_final_2019_cluster[[\"Country\", 'total_emissions', \"total_population\", \"%_population\"]]"
      ],
      "metadata": {
        "id": "ZGjrh7vEGo4J"
      },
      "execution_count": 50,
      "outputs": []
    },
    {
      "cell_type": "code",
      "source": [
        "Emisiones_final_2019_cluster.head()"
      ],
      "metadata": {
        "colab": {
          "base_uri": "https://localhost:8080/",
          "height": 206
        },
        "id": "DqM4iVE4G5Lp",
        "outputId": "28552da5-332c-4ed7-9cdf-6534579d01de"
      },
      "execution_count": 51,
      "outputs": [
        {
          "output_type": "execute_result",
          "data": {
            "text/plain": [
              "               Country  total_emissions  total_population  %_population\n",
              "0          Afghanistan     3.326645e+05         38041.754      0.004191\n",
              "1              Albania     7.254900e+04          2880.917      0.000317\n",
              "2              Algeria     2.576888e+05         43053.054      0.004743\n",
              "3               Angola     1.657945e+06         31825.295      0.003506\n",
              "4  Antigua and Barbuda     8.139984e+02            97.118      0.000011"
            ],
            "text/html": [
              "\n",
              "  <div id=\"df-76fe020d-69b4-41c5-a403-7255751c0ab7\">\n",
              "    <div class=\"colab-df-container\">\n",
              "      <div>\n",
              "<style scoped>\n",
              "    .dataframe tbody tr th:only-of-type {\n",
              "        vertical-align: middle;\n",
              "    }\n",
              "\n",
              "    .dataframe tbody tr th {\n",
              "        vertical-align: top;\n",
              "    }\n",
              "\n",
              "    .dataframe thead th {\n",
              "        text-align: right;\n",
              "    }\n",
              "</style>\n",
              "<table border=\"1\" class=\"dataframe\">\n",
              "  <thead>\n",
              "    <tr style=\"text-align: right;\">\n",
              "      <th></th>\n",
              "      <th>Country</th>\n",
              "      <th>total_emissions</th>\n",
              "      <th>total_population</th>\n",
              "      <th>%_population</th>\n",
              "    </tr>\n",
              "  </thead>\n",
              "  <tbody>\n",
              "    <tr>\n",
              "      <th>0</th>\n",
              "      <td>Afghanistan</td>\n",
              "      <td>3.326645e+05</td>\n",
              "      <td>38041.754</td>\n",
              "      <td>0.004191</td>\n",
              "    </tr>\n",
              "    <tr>\n",
              "      <th>1</th>\n",
              "      <td>Albania</td>\n",
              "      <td>7.254900e+04</td>\n",
              "      <td>2880.917</td>\n",
              "      <td>0.000317</td>\n",
              "    </tr>\n",
              "    <tr>\n",
              "      <th>2</th>\n",
              "      <td>Algeria</td>\n",
              "      <td>2.576888e+05</td>\n",
              "      <td>43053.054</td>\n",
              "      <td>0.004743</td>\n",
              "    </tr>\n",
              "    <tr>\n",
              "      <th>3</th>\n",
              "      <td>Angola</td>\n",
              "      <td>1.657945e+06</td>\n",
              "      <td>31825.295</td>\n",
              "      <td>0.003506</td>\n",
              "    </tr>\n",
              "    <tr>\n",
              "      <th>4</th>\n",
              "      <td>Antigua and Barbuda</td>\n",
              "      <td>8.139984e+02</td>\n",
              "      <td>97.118</td>\n",
              "      <td>0.000011</td>\n",
              "    </tr>\n",
              "  </tbody>\n",
              "</table>\n",
              "</div>\n",
              "      <button class=\"colab-df-convert\" onclick=\"convertToInteractive('df-76fe020d-69b4-41c5-a403-7255751c0ab7')\"\n",
              "              title=\"Convert this dataframe to an interactive table.\"\n",
              "              style=\"display:none;\">\n",
              "        \n",
              "  <svg xmlns=\"http://www.w3.org/2000/svg\" height=\"24px\"viewBox=\"0 0 24 24\"\n",
              "       width=\"24px\">\n",
              "    <path d=\"M0 0h24v24H0V0z\" fill=\"none\"/>\n",
              "    <path d=\"M18.56 5.44l.94 2.06.94-2.06 2.06-.94-2.06-.94-.94-2.06-.94 2.06-2.06.94zm-11 1L8.5 8.5l.94-2.06 2.06-.94-2.06-.94L8.5 2.5l-.94 2.06-2.06.94zm10 10l.94 2.06.94-2.06 2.06-.94-2.06-.94-.94-2.06-.94 2.06-2.06.94z\"/><path d=\"M17.41 7.96l-1.37-1.37c-.4-.4-.92-.59-1.43-.59-.52 0-1.04.2-1.43.59L10.3 9.45l-7.72 7.72c-.78.78-.78 2.05 0 2.83L4 21.41c.39.39.9.59 1.41.59.51 0 1.02-.2 1.41-.59l7.78-7.78 2.81-2.81c.8-.78.8-2.07 0-2.86zM5.41 20L4 18.59l7.72-7.72 1.47 1.35L5.41 20z\"/>\n",
              "  </svg>\n",
              "      </button>\n",
              "      \n",
              "  <style>\n",
              "    .colab-df-container {\n",
              "      display:flex;\n",
              "      flex-wrap:wrap;\n",
              "      gap: 12px;\n",
              "    }\n",
              "\n",
              "    .colab-df-convert {\n",
              "      background-color: #E8F0FE;\n",
              "      border: none;\n",
              "      border-radius: 50%;\n",
              "      cursor: pointer;\n",
              "      display: none;\n",
              "      fill: #1967D2;\n",
              "      height: 32px;\n",
              "      padding: 0 0 0 0;\n",
              "      width: 32px;\n",
              "    }\n",
              "\n",
              "    .colab-df-convert:hover {\n",
              "      background-color: #E2EBFA;\n",
              "      box-shadow: 0px 1px 2px rgba(60, 64, 67, 0.3), 0px 1px 3px 1px rgba(60, 64, 67, 0.15);\n",
              "      fill: #174EA6;\n",
              "    }\n",
              "\n",
              "    [theme=dark] .colab-df-convert {\n",
              "      background-color: #3B4455;\n",
              "      fill: #D2E3FC;\n",
              "    }\n",
              "\n",
              "    [theme=dark] .colab-df-convert:hover {\n",
              "      background-color: #434B5C;\n",
              "      box-shadow: 0px 1px 3px 1px rgba(0, 0, 0, 0.15);\n",
              "      filter: drop-shadow(0px 1px 2px rgba(0, 0, 0, 0.3));\n",
              "      fill: #FFFFFF;\n",
              "    }\n",
              "  </style>\n",
              "\n",
              "      <script>\n",
              "        const buttonEl =\n",
              "          document.querySelector('#df-76fe020d-69b4-41c5-a403-7255751c0ab7 button.colab-df-convert');\n",
              "        buttonEl.style.display =\n",
              "          google.colab.kernel.accessAllowed ? 'block' : 'none';\n",
              "\n",
              "        async function convertToInteractive(key) {\n",
              "          const element = document.querySelector('#df-76fe020d-69b4-41c5-a403-7255751c0ab7');\n",
              "          const dataTable =\n",
              "            await google.colab.kernel.invokeFunction('convertToInteractive',\n",
              "                                                     [key], {});\n",
              "          if (!dataTable) return;\n",
              "\n",
              "          const docLinkHtml = 'Like what you see? Visit the ' +\n",
              "            '<a target=\"_blank\" href=https://colab.research.google.com/notebooks/data_table.ipynb>data table notebook</a>'\n",
              "            + ' to learn more about interactive tables.';\n",
              "          element.innerHTML = '';\n",
              "          dataTable['output_type'] = 'display_data';\n",
              "          await google.colab.output.renderOutput(dataTable, element);\n",
              "          const docLink = document.createElement('div');\n",
              "          docLink.innerHTML = docLinkHtml;\n",
              "          element.appendChild(docLink);\n",
              "        }\n",
              "      </script>\n",
              "    </div>\n",
              "  </div>\n",
              "  "
            ]
          },
          "metadata": {},
          "execution_count": 51
        }
      ]
    },
    {
      "cell_type": "code",
      "source": [
        "Emisiones_final_2019_cluster.to_csv(\"/content/drive/MyDrive/BOOTCAMP DATA SCIENCE/PROYECTO NUCLIO/DATASETS FINALES/Emisiones_final_2019_cluster\")"
      ],
      "metadata": {
        "id": "HLhvwjmHG8cV"
      },
      "execution_count": 52,
      "outputs": []
    },
    {
      "cell_type": "code",
      "source": [
        "Emisiones_final_2019_cluster[\"%_emissions\"] = (Emisiones_final_2019_cluster[\"total_emissions\"] / Emisiones_final_2019_cluster[\"total_emissions\"].sum()) "
      ],
      "metadata": {
        "id": "rg6QstfrACwr"
      },
      "execution_count": 53,
      "outputs": []
    },
    {
      "cell_type": "code",
      "source": [
        "Emisiones_final_2019_cluster[\"total_emissions\"].sum()"
      ],
      "metadata": {
        "colab": {
          "base_uri": "https://localhost:8080/"
        },
        "id": "QwmOVPa9Fq2d",
        "outputId": "41c39f52-cdad-4fa0-b93b-a8dddc4ff05d"
      },
      "execution_count": 54,
      "outputs": [
        {
          "output_type": "execute_result",
          "data": {
            "text/plain": [
              "227230515.3213"
            ]
          },
          "metadata": {},
          "execution_count": 54
        }
      ]
    },
    {
      "cell_type": "code",
      "source": [
        "Emisiones_final_2019_cluster.head()"
      ],
      "metadata": {
        "colab": {
          "base_uri": "https://localhost:8080/",
          "height": 206
        },
        "id": "gvFpbQMOACmK",
        "outputId": "bacc27c6-5619-47d9-9ce7-d26de7398bbe"
      },
      "execution_count": 55,
      "outputs": [
        {
          "output_type": "execute_result",
          "data": {
            "text/plain": [
              "               Country  total_emissions  total_population  %_population  \\\n",
              "0          Afghanistan     3.326645e+05         38041.754      0.004191   \n",
              "1              Albania     7.254900e+04          2880.917      0.000317   \n",
              "2              Algeria     2.576888e+05         43053.054      0.004743   \n",
              "3               Angola     1.657945e+06         31825.295      0.003506   \n",
              "4  Antigua and Barbuda     8.139984e+02            97.118      0.000011   \n",
              "\n",
              "   %_emissions  \n",
              "0     0.001464  \n",
              "1     0.000319  \n",
              "2     0.001134  \n",
              "3     0.007296  \n",
              "4     0.000004  "
            ],
            "text/html": [
              "\n",
              "  <div id=\"df-78c7a455-7fb0-48a3-a98c-0ae2e1674924\">\n",
              "    <div class=\"colab-df-container\">\n",
              "      <div>\n",
              "<style scoped>\n",
              "    .dataframe tbody tr th:only-of-type {\n",
              "        vertical-align: middle;\n",
              "    }\n",
              "\n",
              "    .dataframe tbody tr th {\n",
              "        vertical-align: top;\n",
              "    }\n",
              "\n",
              "    .dataframe thead th {\n",
              "        text-align: right;\n",
              "    }\n",
              "</style>\n",
              "<table border=\"1\" class=\"dataframe\">\n",
              "  <thead>\n",
              "    <tr style=\"text-align: right;\">\n",
              "      <th></th>\n",
              "      <th>Country</th>\n",
              "      <th>total_emissions</th>\n",
              "      <th>total_population</th>\n",
              "      <th>%_population</th>\n",
              "      <th>%_emissions</th>\n",
              "    </tr>\n",
              "  </thead>\n",
              "  <tbody>\n",
              "    <tr>\n",
              "      <th>0</th>\n",
              "      <td>Afghanistan</td>\n",
              "      <td>3.326645e+05</td>\n",
              "      <td>38041.754</td>\n",
              "      <td>0.004191</td>\n",
              "      <td>0.001464</td>\n",
              "    </tr>\n",
              "    <tr>\n",
              "      <th>1</th>\n",
              "      <td>Albania</td>\n",
              "      <td>7.254900e+04</td>\n",
              "      <td>2880.917</td>\n",
              "      <td>0.000317</td>\n",
              "      <td>0.000319</td>\n",
              "    </tr>\n",
              "    <tr>\n",
              "      <th>2</th>\n",
              "      <td>Algeria</td>\n",
              "      <td>2.576888e+05</td>\n",
              "      <td>43053.054</td>\n",
              "      <td>0.004743</td>\n",
              "      <td>0.001134</td>\n",
              "    </tr>\n",
              "    <tr>\n",
              "      <th>3</th>\n",
              "      <td>Angola</td>\n",
              "      <td>1.657945e+06</td>\n",
              "      <td>31825.295</td>\n",
              "      <td>0.003506</td>\n",
              "      <td>0.007296</td>\n",
              "    </tr>\n",
              "    <tr>\n",
              "      <th>4</th>\n",
              "      <td>Antigua and Barbuda</td>\n",
              "      <td>8.139984e+02</td>\n",
              "      <td>97.118</td>\n",
              "      <td>0.000011</td>\n",
              "      <td>0.000004</td>\n",
              "    </tr>\n",
              "  </tbody>\n",
              "</table>\n",
              "</div>\n",
              "      <button class=\"colab-df-convert\" onclick=\"convertToInteractive('df-78c7a455-7fb0-48a3-a98c-0ae2e1674924')\"\n",
              "              title=\"Convert this dataframe to an interactive table.\"\n",
              "              style=\"display:none;\">\n",
              "        \n",
              "  <svg xmlns=\"http://www.w3.org/2000/svg\" height=\"24px\"viewBox=\"0 0 24 24\"\n",
              "       width=\"24px\">\n",
              "    <path d=\"M0 0h24v24H0V0z\" fill=\"none\"/>\n",
              "    <path d=\"M18.56 5.44l.94 2.06.94-2.06 2.06-.94-2.06-.94-.94-2.06-.94 2.06-2.06.94zm-11 1L8.5 8.5l.94-2.06 2.06-.94-2.06-.94L8.5 2.5l-.94 2.06-2.06.94zm10 10l.94 2.06.94-2.06 2.06-.94-2.06-.94-.94-2.06-.94 2.06-2.06.94z\"/><path d=\"M17.41 7.96l-1.37-1.37c-.4-.4-.92-.59-1.43-.59-.52 0-1.04.2-1.43.59L10.3 9.45l-7.72 7.72c-.78.78-.78 2.05 0 2.83L4 21.41c.39.39.9.59 1.41.59.51 0 1.02-.2 1.41-.59l7.78-7.78 2.81-2.81c.8-.78.8-2.07 0-2.86zM5.41 20L4 18.59l7.72-7.72 1.47 1.35L5.41 20z\"/>\n",
              "  </svg>\n",
              "      </button>\n",
              "      \n",
              "  <style>\n",
              "    .colab-df-container {\n",
              "      display:flex;\n",
              "      flex-wrap:wrap;\n",
              "      gap: 12px;\n",
              "    }\n",
              "\n",
              "    .colab-df-convert {\n",
              "      background-color: #E8F0FE;\n",
              "      border: none;\n",
              "      border-radius: 50%;\n",
              "      cursor: pointer;\n",
              "      display: none;\n",
              "      fill: #1967D2;\n",
              "      height: 32px;\n",
              "      padding: 0 0 0 0;\n",
              "      width: 32px;\n",
              "    }\n",
              "\n",
              "    .colab-df-convert:hover {\n",
              "      background-color: #E2EBFA;\n",
              "      box-shadow: 0px 1px 2px rgba(60, 64, 67, 0.3), 0px 1px 3px 1px rgba(60, 64, 67, 0.15);\n",
              "      fill: #174EA6;\n",
              "    }\n",
              "\n",
              "    [theme=dark] .colab-df-convert {\n",
              "      background-color: #3B4455;\n",
              "      fill: #D2E3FC;\n",
              "    }\n",
              "\n",
              "    [theme=dark] .colab-df-convert:hover {\n",
              "      background-color: #434B5C;\n",
              "      box-shadow: 0px 1px 3px 1px rgba(0, 0, 0, 0.15);\n",
              "      filter: drop-shadow(0px 1px 2px rgba(0, 0, 0, 0.3));\n",
              "      fill: #FFFFFF;\n",
              "    }\n",
              "  </style>\n",
              "\n",
              "      <script>\n",
              "        const buttonEl =\n",
              "          document.querySelector('#df-78c7a455-7fb0-48a3-a98c-0ae2e1674924 button.colab-df-convert');\n",
              "        buttonEl.style.display =\n",
              "          google.colab.kernel.accessAllowed ? 'block' : 'none';\n",
              "\n",
              "        async function convertToInteractive(key) {\n",
              "          const element = document.querySelector('#df-78c7a455-7fb0-48a3-a98c-0ae2e1674924');\n",
              "          const dataTable =\n",
              "            await google.colab.kernel.invokeFunction('convertToInteractive',\n",
              "                                                     [key], {});\n",
              "          if (!dataTable) return;\n",
              "\n",
              "          const docLinkHtml = 'Like what you see? Visit the ' +\n",
              "            '<a target=\"_blank\" href=https://colab.research.google.com/notebooks/data_table.ipynb>data table notebook</a>'\n",
              "            + ' to learn more about interactive tables.';\n",
              "          element.innerHTML = '';\n",
              "          dataTable['output_type'] = 'display_data';\n",
              "          await google.colab.output.renderOutput(dataTable, element);\n",
              "          const docLink = document.createElement('div');\n",
              "          docLink.innerHTML = docLinkHtml;\n",
              "          element.appendChild(docLink);\n",
              "        }\n",
              "      </script>\n",
              "    </div>\n",
              "  </div>\n",
              "  "
            ]
          },
          "metadata": {},
          "execution_count": 55
        }
      ]
    },
    {
      "cell_type": "markdown",
      "source": [
        "## Adding GDP"
      ],
      "metadata": {
        "id": "t29wzAATG66e"
      }
    },
    {
      "cell_type": "code",
      "source": [
        "GDP = pd.read_csv (\"/content/drive/MyDrive/BOOTCAMP DATA SCIENCE/PROYECTO NUCLIO/GDP_2019.csv\",sep=\",\", encoding = \"ISO-8859-1\")"
      ],
      "metadata": {
        "id": "GBMSjY8VLYYr"
      },
      "execution_count": 56,
      "outputs": []
    },
    {
      "cell_type": "code",
      "source": [
        "GDP.head()"
      ],
      "metadata": {
        "id": "GWGzWJIULqdG",
        "colab": {
          "base_uri": "https://localhost:8080/",
          "height": 458
        },
        "outputId": "1a53b58b-8789-4591-b516-26da8965b418"
      },
      "execution_count": 57,
      "outputs": [
        {
          "output_type": "execute_result",
          "data": {
            "text/plain": [
              "  ï»¿Domain Code            Domain  Area Code (FAO)         Area  \\\n",
              "0             MK  Macro Indicators                2  Afghanistan   \n",
              "1             MK  Macro Indicators                3      Albania   \n",
              "2             MK  Macro Indicators                4      Algeria   \n",
              "3             MK  Macro Indicators                6      Andorra   \n",
              "4             MK  Macro Indicators                7       Angola   \n",
              "\n",
              "   Element Code    Element  Item Code                    Item  Year Code  \\\n",
              "0          6110  Value US$      22008  Gross Domestic Product       2019   \n",
              "1          6110  Value US$      22008  Gross Domestic Product       2019   \n",
              "2          6110  Value US$      22008  Gross Domestic Product       2019   \n",
              "3          6110  Value US$      22008  Gross Domestic Product       2019   \n",
              "4          6110  Value US$      22008  Gross Domestic Product       2019   \n",
              "\n",
              "   Year      Unit          Value Flag                Flag Description  Note  \n",
              "0  2019  millions   17876.546427    X  International reliable sources   NaN  \n",
              "1  2019  millions   15278.072762    X  International reliable sources   NaN  \n",
              "2  2019  millions  171157.863119    X  International reliable sources   NaN  \n",
              "3  2019  millions    3154.137481    X  International reliable sources   NaN  \n",
              "4  2019  millions   85000.612455    X  International reliable sources   NaN  "
            ],
            "text/html": [
              "\n",
              "  <div id=\"df-98af4c73-f182-4e54-837f-b7ba91e32be8\">\n",
              "    <div class=\"colab-df-container\">\n",
              "      <div>\n",
              "<style scoped>\n",
              "    .dataframe tbody tr th:only-of-type {\n",
              "        vertical-align: middle;\n",
              "    }\n",
              "\n",
              "    .dataframe tbody tr th {\n",
              "        vertical-align: top;\n",
              "    }\n",
              "\n",
              "    .dataframe thead th {\n",
              "        text-align: right;\n",
              "    }\n",
              "</style>\n",
              "<table border=\"1\" class=\"dataframe\">\n",
              "  <thead>\n",
              "    <tr style=\"text-align: right;\">\n",
              "      <th></th>\n",
              "      <th>ï»¿Domain Code</th>\n",
              "      <th>Domain</th>\n",
              "      <th>Area Code (FAO)</th>\n",
              "      <th>Area</th>\n",
              "      <th>Element Code</th>\n",
              "      <th>Element</th>\n",
              "      <th>Item Code</th>\n",
              "      <th>Item</th>\n",
              "      <th>Year Code</th>\n",
              "      <th>Year</th>\n",
              "      <th>Unit</th>\n",
              "      <th>Value</th>\n",
              "      <th>Flag</th>\n",
              "      <th>Flag Description</th>\n",
              "      <th>Note</th>\n",
              "    </tr>\n",
              "  </thead>\n",
              "  <tbody>\n",
              "    <tr>\n",
              "      <th>0</th>\n",
              "      <td>MK</td>\n",
              "      <td>Macro Indicators</td>\n",
              "      <td>2</td>\n",
              "      <td>Afghanistan</td>\n",
              "      <td>6110</td>\n",
              "      <td>Value US$</td>\n",
              "      <td>22008</td>\n",
              "      <td>Gross Domestic Product</td>\n",
              "      <td>2019</td>\n",
              "      <td>2019</td>\n",
              "      <td>millions</td>\n",
              "      <td>17876.546427</td>\n",
              "      <td>X</td>\n",
              "      <td>International reliable sources</td>\n",
              "      <td>NaN</td>\n",
              "    </tr>\n",
              "    <tr>\n",
              "      <th>1</th>\n",
              "      <td>MK</td>\n",
              "      <td>Macro Indicators</td>\n",
              "      <td>3</td>\n",
              "      <td>Albania</td>\n",
              "      <td>6110</td>\n",
              "      <td>Value US$</td>\n",
              "      <td>22008</td>\n",
              "      <td>Gross Domestic Product</td>\n",
              "      <td>2019</td>\n",
              "      <td>2019</td>\n",
              "      <td>millions</td>\n",
              "      <td>15278.072762</td>\n",
              "      <td>X</td>\n",
              "      <td>International reliable sources</td>\n",
              "      <td>NaN</td>\n",
              "    </tr>\n",
              "    <tr>\n",
              "      <th>2</th>\n",
              "      <td>MK</td>\n",
              "      <td>Macro Indicators</td>\n",
              "      <td>4</td>\n",
              "      <td>Algeria</td>\n",
              "      <td>6110</td>\n",
              "      <td>Value US$</td>\n",
              "      <td>22008</td>\n",
              "      <td>Gross Domestic Product</td>\n",
              "      <td>2019</td>\n",
              "      <td>2019</td>\n",
              "      <td>millions</td>\n",
              "      <td>171157.863119</td>\n",
              "      <td>X</td>\n",
              "      <td>International reliable sources</td>\n",
              "      <td>NaN</td>\n",
              "    </tr>\n",
              "    <tr>\n",
              "      <th>3</th>\n",
              "      <td>MK</td>\n",
              "      <td>Macro Indicators</td>\n",
              "      <td>6</td>\n",
              "      <td>Andorra</td>\n",
              "      <td>6110</td>\n",
              "      <td>Value US$</td>\n",
              "      <td>22008</td>\n",
              "      <td>Gross Domestic Product</td>\n",
              "      <td>2019</td>\n",
              "      <td>2019</td>\n",
              "      <td>millions</td>\n",
              "      <td>3154.137481</td>\n",
              "      <td>X</td>\n",
              "      <td>International reliable sources</td>\n",
              "      <td>NaN</td>\n",
              "    </tr>\n",
              "    <tr>\n",
              "      <th>4</th>\n",
              "      <td>MK</td>\n",
              "      <td>Macro Indicators</td>\n",
              "      <td>7</td>\n",
              "      <td>Angola</td>\n",
              "      <td>6110</td>\n",
              "      <td>Value US$</td>\n",
              "      <td>22008</td>\n",
              "      <td>Gross Domestic Product</td>\n",
              "      <td>2019</td>\n",
              "      <td>2019</td>\n",
              "      <td>millions</td>\n",
              "      <td>85000.612455</td>\n",
              "      <td>X</td>\n",
              "      <td>International reliable sources</td>\n",
              "      <td>NaN</td>\n",
              "    </tr>\n",
              "  </tbody>\n",
              "</table>\n",
              "</div>\n",
              "      <button class=\"colab-df-convert\" onclick=\"convertToInteractive('df-98af4c73-f182-4e54-837f-b7ba91e32be8')\"\n",
              "              title=\"Convert this dataframe to an interactive table.\"\n",
              "              style=\"display:none;\">\n",
              "        \n",
              "  <svg xmlns=\"http://www.w3.org/2000/svg\" height=\"24px\"viewBox=\"0 0 24 24\"\n",
              "       width=\"24px\">\n",
              "    <path d=\"M0 0h24v24H0V0z\" fill=\"none\"/>\n",
              "    <path d=\"M18.56 5.44l.94 2.06.94-2.06 2.06-.94-2.06-.94-.94-2.06-.94 2.06-2.06.94zm-11 1L8.5 8.5l.94-2.06 2.06-.94-2.06-.94L8.5 2.5l-.94 2.06-2.06.94zm10 10l.94 2.06.94-2.06 2.06-.94-2.06-.94-.94-2.06-.94 2.06-2.06.94z\"/><path d=\"M17.41 7.96l-1.37-1.37c-.4-.4-.92-.59-1.43-.59-.52 0-1.04.2-1.43.59L10.3 9.45l-7.72 7.72c-.78.78-.78 2.05 0 2.83L4 21.41c.39.39.9.59 1.41.59.51 0 1.02-.2 1.41-.59l7.78-7.78 2.81-2.81c.8-.78.8-2.07 0-2.86zM5.41 20L4 18.59l7.72-7.72 1.47 1.35L5.41 20z\"/>\n",
              "  </svg>\n",
              "      </button>\n",
              "      \n",
              "  <style>\n",
              "    .colab-df-container {\n",
              "      display:flex;\n",
              "      flex-wrap:wrap;\n",
              "      gap: 12px;\n",
              "    }\n",
              "\n",
              "    .colab-df-convert {\n",
              "      background-color: #E8F0FE;\n",
              "      border: none;\n",
              "      border-radius: 50%;\n",
              "      cursor: pointer;\n",
              "      display: none;\n",
              "      fill: #1967D2;\n",
              "      height: 32px;\n",
              "      padding: 0 0 0 0;\n",
              "      width: 32px;\n",
              "    }\n",
              "\n",
              "    .colab-df-convert:hover {\n",
              "      background-color: #E2EBFA;\n",
              "      box-shadow: 0px 1px 2px rgba(60, 64, 67, 0.3), 0px 1px 3px 1px rgba(60, 64, 67, 0.15);\n",
              "      fill: #174EA6;\n",
              "    }\n",
              "\n",
              "    [theme=dark] .colab-df-convert {\n",
              "      background-color: #3B4455;\n",
              "      fill: #D2E3FC;\n",
              "    }\n",
              "\n",
              "    [theme=dark] .colab-df-convert:hover {\n",
              "      background-color: #434B5C;\n",
              "      box-shadow: 0px 1px 3px 1px rgba(0, 0, 0, 0.15);\n",
              "      filter: drop-shadow(0px 1px 2px rgba(0, 0, 0, 0.3));\n",
              "      fill: #FFFFFF;\n",
              "    }\n",
              "  </style>\n",
              "\n",
              "      <script>\n",
              "        const buttonEl =\n",
              "          document.querySelector('#df-98af4c73-f182-4e54-837f-b7ba91e32be8 button.colab-df-convert');\n",
              "        buttonEl.style.display =\n",
              "          google.colab.kernel.accessAllowed ? 'block' : 'none';\n",
              "\n",
              "        async function convertToInteractive(key) {\n",
              "          const element = document.querySelector('#df-98af4c73-f182-4e54-837f-b7ba91e32be8');\n",
              "          const dataTable =\n",
              "            await google.colab.kernel.invokeFunction('convertToInteractive',\n",
              "                                                     [key], {});\n",
              "          if (!dataTable) return;\n",
              "\n",
              "          const docLinkHtml = 'Like what you see? Visit the ' +\n",
              "            '<a target=\"_blank\" href=https://colab.research.google.com/notebooks/data_table.ipynb>data table notebook</a>'\n",
              "            + ' to learn more about interactive tables.';\n",
              "          element.innerHTML = '';\n",
              "          dataTable['output_type'] = 'display_data';\n",
              "          await google.colab.output.renderOutput(dataTable, element);\n",
              "          const docLink = document.createElement('div');\n",
              "          docLink.innerHTML = docLinkHtml;\n",
              "          element.appendChild(docLink);\n",
              "        }\n",
              "      </script>\n",
              "    </div>\n",
              "  </div>\n",
              "  "
            ]
          },
          "metadata": {},
          "execution_count": 57
        }
      ]
    },
    {
      "cell_type": "code",
      "source": [
        "GDP[\"Area\"].replace(\"CÃ´te d'Ivoire\", \"Cote d'Ivoire\")"
      ],
      "metadata": {
        "colab": {
          "base_uri": "https://localhost:8080/"
        },
        "id": "N4nhS422MagT",
        "outputId": "add8568a-c592-4fcf-b050-b06c0d1d2acf"
      },
      "execution_count": 58,
      "outputs": [
        {
          "output_type": "execute_result",
          "data": {
            "text/plain": [
              "0                             Afghanistan\n",
              "1                                 Albania\n",
              "2                                 Algeria\n",
              "3                                 Andorra\n",
              "4                                  Angola\n",
              "                      ...                \n",
              "206    Venezuela (Bolivarian Republic of)\n",
              "207                              Viet Nam\n",
              "208                                 Yemen\n",
              "209                                Zambia\n",
              "210                              Zimbabwe\n",
              "Name: Area, Length: 211, dtype: object"
            ]
          },
          "metadata": {},
          "execution_count": 58
        }
      ]
    },
    {
      "cell_type": "code",
      "source": [
        "GDP[\"Area\"].unique()"
      ],
      "metadata": {
        "id": "ub-Xzq7fMF9Z",
        "colab": {
          "base_uri": "https://localhost:8080/"
        },
        "outputId": "6472a758-24cf-46aa-8d3b-a714519ef5c0"
      },
      "execution_count": 59,
      "outputs": [
        {
          "output_type": "execute_result",
          "data": {
            "text/plain": [
              "array(['Afghanistan', 'Albania', 'Algeria', 'Andorra', 'Angola',\n",
              "       'Anguilla', 'Antigua and Barbuda', 'Argentina', 'Armenia', 'Aruba',\n",
              "       'Australia', 'Austria', 'Azerbaijan', 'Bahamas', 'Bahrain',\n",
              "       'Bangladesh', 'Barbados', 'Belarus', 'Belgium', 'Belize', 'Benin',\n",
              "       'Bermuda', 'Bhutan', 'Bolivia (Plurinational State of)',\n",
              "       'Bosnia and Herzegovina', 'Botswana', 'Brazil',\n",
              "       'British Virgin Islands', 'Brunei Darussalam', 'Bulgaria',\n",
              "       'Burkina Faso', 'Burundi', 'Cabo Verde', 'Cambodia', 'Cameroon',\n",
              "       'Canada', 'Cayman Islands', 'Central African Republic', 'Chad',\n",
              "       'Chile', 'China', 'China, Hong Kong SAR', 'China, Macao SAR',\n",
              "       'China, mainland', 'Colombia', 'Comoros', 'Congo', 'Cook Islands',\n",
              "       'Costa Rica', \"CÃ´te d'Ivoire\", 'Croatia', 'Cuba', 'CuraÃ§ao',\n",
              "       'Cyprus', 'Czechia', \"Democratic People's Republic of Korea\",\n",
              "       'Democratic Republic of the Congo', 'Denmark', 'Djibouti',\n",
              "       'Dominica', 'Dominican Republic', 'Ecuador', 'Egypt',\n",
              "       'El Salvador', 'Equatorial Guinea', 'Eritrea', 'Estonia',\n",
              "       'Eswatini', 'Ethiopia', 'Fiji', 'Finland', 'France',\n",
              "       'French Polynesia', 'Gabon', 'Gambia', 'Georgia', 'Germany',\n",
              "       'Ghana', 'Greece', 'Greenland', 'Grenada', 'Guatemala', 'Guinea',\n",
              "       'Guinea-Bissau', 'Guyana', 'Haiti', 'Honduras', 'Hungary',\n",
              "       'Iceland', 'India', 'Indonesia', 'Iran (Islamic Republic of)',\n",
              "       'Iraq', 'Ireland', 'Israel', 'Italy', 'Jamaica', 'Japan', 'Jordan',\n",
              "       'Kazakhstan', 'Kenya', 'Kiribati', 'Kuwait', 'Kyrgyzstan',\n",
              "       \"Lao People's Democratic Republic\", 'Latvia', 'Lebanon', 'Lesotho',\n",
              "       'Liberia', 'Libya', 'Liechtenstein', 'Lithuania', 'Luxembourg',\n",
              "       'Madagascar', 'Malawi', 'Malaysia', 'Maldives', 'Mali', 'Malta',\n",
              "       'Marshall Islands', 'Mauritania', 'Mauritius', 'Mexico',\n",
              "       'Micronesia (Federated States of)', 'Monaco', 'Mongolia',\n",
              "       'Montenegro', 'Montserrat', 'Morocco', 'Mozambique', 'Myanmar',\n",
              "       'Namibia', 'Nauru', 'Nepal', 'Netherlands', 'New Caledonia',\n",
              "       'New Zealand', 'Nicaragua', 'Niger', 'Nigeria', 'North Macedonia',\n",
              "       'Norway', 'Oman', 'Pakistan', 'Palau', 'Palestine', 'Panama',\n",
              "       'Papua New Guinea', 'Paraguay', 'Peru', 'Philippines', 'Poland',\n",
              "       'Portugal', 'Puerto Rico', 'Qatar', 'Republic of Korea',\n",
              "       'Republic of Moldova', 'Romania', 'Russian Federation', 'Rwanda',\n",
              "       'Saint Kitts and Nevis', 'Saint Lucia',\n",
              "       'Saint Vincent and the Grenadines', 'Samoa', 'San Marino',\n",
              "       'Sao Tome and Principe', 'Saudi Arabia', 'Senegal', 'Serbia',\n",
              "       'Seychelles', 'Sierra Leone', 'Singapore',\n",
              "       'Sint Maarten (Dutch part)', 'Slovakia', 'Slovenia',\n",
              "       'Solomon Islands', 'Somalia', 'South Africa', 'South Sudan',\n",
              "       'Spain', 'Sri Lanka', 'Sudan', 'Suriname', 'Sweden', 'Switzerland',\n",
              "       'Syrian Arab Republic', 'Tajikistan', 'Thailand', 'Timor-Leste',\n",
              "       'Togo', 'Tonga', 'Trinidad and Tobago', 'Tunisia', 'Turkey',\n",
              "       'Turkmenistan', 'Turks and Caicos Islands', 'Tuvalu', 'Uganda',\n",
              "       'Ukraine', 'United Arab Emirates',\n",
              "       'United Kingdom of Great Britain and Northern Ireland',\n",
              "       'United Republic of Tanzania', 'United States of America',\n",
              "       'Uruguay', 'Uzbekistan', 'Vanuatu',\n",
              "       'Venezuela (Bolivarian Republic of)', 'Viet Nam', 'Yemen',\n",
              "       'Zambia', 'Zimbabwe'], dtype=object)"
            ]
          },
          "metadata": {},
          "execution_count": 59
        }
      ]
    },
    {
      "cell_type": "code",
      "source": [
        "GDP = GDP [[ \"Area\", \"Value\"]]"
      ],
      "metadata": {
        "id": "eDpeg9UXLt4h"
      },
      "execution_count": 60,
      "outputs": []
    },
    {
      "cell_type": "code",
      "source": [
        "GDP[\"Country\"] = GDP[\"Area\"]"
      ],
      "metadata": {
        "id": "HhfonQvFHvHp"
      },
      "execution_count": 61,
      "outputs": []
    },
    {
      "cell_type": "code",
      "source": [
        "GDP[\"GDP_2019\"] = GDP[\"Value\"]"
      ],
      "metadata": {
        "id": "m7FUIgkuIIQA"
      },
      "execution_count": 62,
      "outputs": []
    },
    {
      "cell_type": "code",
      "source": [
        "GDP.drop(\"Area\", axis = 1, inplace = True)"
      ],
      "metadata": {
        "id": "HzimsgXeH1CL"
      },
      "execution_count": 63,
      "outputs": []
    },
    {
      "cell_type": "code",
      "source": [
        "GDP.drop(\"Value\", axis = 1, inplace = True)"
      ],
      "metadata": {
        "id": "Lbadw5--IPFl"
      },
      "execution_count": 64,
      "outputs": []
    },
    {
      "cell_type": "code",
      "source": [
        "GDP = GDP [[ \"Country\", \"GDP_2019\"]]"
      ],
      "metadata": {
        "id": "-orimz1MIBHP"
      },
      "execution_count": 65,
      "outputs": []
    },
    {
      "cell_type": "code",
      "source": [
        "GDP.head()"
      ],
      "metadata": {
        "colab": {
          "base_uri": "https://localhost:8080/",
          "height": 206
        },
        "id": "83rPeDWVH784",
        "outputId": "b38f0a5e-461f-4d10-fc92-933ee4d08458"
      },
      "execution_count": 66,
      "outputs": [
        {
          "output_type": "execute_result",
          "data": {
            "text/plain": [
              "       Country       GDP_2019\n",
              "0  Afghanistan   17876.546427\n",
              "1      Albania   15278.072762\n",
              "2      Algeria  171157.863119\n",
              "3      Andorra    3154.137481\n",
              "4       Angola   85000.612455"
            ],
            "text/html": [
              "\n",
              "  <div id=\"df-9579ba22-140b-4585-98f8-6ce0d752ebe9\">\n",
              "    <div class=\"colab-df-container\">\n",
              "      <div>\n",
              "<style scoped>\n",
              "    .dataframe tbody tr th:only-of-type {\n",
              "        vertical-align: middle;\n",
              "    }\n",
              "\n",
              "    .dataframe tbody tr th {\n",
              "        vertical-align: top;\n",
              "    }\n",
              "\n",
              "    .dataframe thead th {\n",
              "        text-align: right;\n",
              "    }\n",
              "</style>\n",
              "<table border=\"1\" class=\"dataframe\">\n",
              "  <thead>\n",
              "    <tr style=\"text-align: right;\">\n",
              "      <th></th>\n",
              "      <th>Country</th>\n",
              "      <th>GDP_2019</th>\n",
              "    </tr>\n",
              "  </thead>\n",
              "  <tbody>\n",
              "    <tr>\n",
              "      <th>0</th>\n",
              "      <td>Afghanistan</td>\n",
              "      <td>17876.546427</td>\n",
              "    </tr>\n",
              "    <tr>\n",
              "      <th>1</th>\n",
              "      <td>Albania</td>\n",
              "      <td>15278.072762</td>\n",
              "    </tr>\n",
              "    <tr>\n",
              "      <th>2</th>\n",
              "      <td>Algeria</td>\n",
              "      <td>171157.863119</td>\n",
              "    </tr>\n",
              "    <tr>\n",
              "      <th>3</th>\n",
              "      <td>Andorra</td>\n",
              "      <td>3154.137481</td>\n",
              "    </tr>\n",
              "    <tr>\n",
              "      <th>4</th>\n",
              "      <td>Angola</td>\n",
              "      <td>85000.612455</td>\n",
              "    </tr>\n",
              "  </tbody>\n",
              "</table>\n",
              "</div>\n",
              "      <button class=\"colab-df-convert\" onclick=\"convertToInteractive('df-9579ba22-140b-4585-98f8-6ce0d752ebe9')\"\n",
              "              title=\"Convert this dataframe to an interactive table.\"\n",
              "              style=\"display:none;\">\n",
              "        \n",
              "  <svg xmlns=\"http://www.w3.org/2000/svg\" height=\"24px\"viewBox=\"0 0 24 24\"\n",
              "       width=\"24px\">\n",
              "    <path d=\"M0 0h24v24H0V0z\" fill=\"none\"/>\n",
              "    <path d=\"M18.56 5.44l.94 2.06.94-2.06 2.06-.94-2.06-.94-.94-2.06-.94 2.06-2.06.94zm-11 1L8.5 8.5l.94-2.06 2.06-.94-2.06-.94L8.5 2.5l-.94 2.06-2.06.94zm10 10l.94 2.06.94-2.06 2.06-.94-2.06-.94-.94-2.06-.94 2.06-2.06.94z\"/><path d=\"M17.41 7.96l-1.37-1.37c-.4-.4-.92-.59-1.43-.59-.52 0-1.04.2-1.43.59L10.3 9.45l-7.72 7.72c-.78.78-.78 2.05 0 2.83L4 21.41c.39.39.9.59 1.41.59.51 0 1.02-.2 1.41-.59l7.78-7.78 2.81-2.81c.8-.78.8-2.07 0-2.86zM5.41 20L4 18.59l7.72-7.72 1.47 1.35L5.41 20z\"/>\n",
              "  </svg>\n",
              "      </button>\n",
              "      \n",
              "  <style>\n",
              "    .colab-df-container {\n",
              "      display:flex;\n",
              "      flex-wrap:wrap;\n",
              "      gap: 12px;\n",
              "    }\n",
              "\n",
              "    .colab-df-convert {\n",
              "      background-color: #E8F0FE;\n",
              "      border: none;\n",
              "      border-radius: 50%;\n",
              "      cursor: pointer;\n",
              "      display: none;\n",
              "      fill: #1967D2;\n",
              "      height: 32px;\n",
              "      padding: 0 0 0 0;\n",
              "      width: 32px;\n",
              "    }\n",
              "\n",
              "    .colab-df-convert:hover {\n",
              "      background-color: #E2EBFA;\n",
              "      box-shadow: 0px 1px 2px rgba(60, 64, 67, 0.3), 0px 1px 3px 1px rgba(60, 64, 67, 0.15);\n",
              "      fill: #174EA6;\n",
              "    }\n",
              "\n",
              "    [theme=dark] .colab-df-convert {\n",
              "      background-color: #3B4455;\n",
              "      fill: #D2E3FC;\n",
              "    }\n",
              "\n",
              "    [theme=dark] .colab-df-convert:hover {\n",
              "      background-color: #434B5C;\n",
              "      box-shadow: 0px 1px 3px 1px rgba(0, 0, 0, 0.15);\n",
              "      filter: drop-shadow(0px 1px 2px rgba(0, 0, 0, 0.3));\n",
              "      fill: #FFFFFF;\n",
              "    }\n",
              "  </style>\n",
              "\n",
              "      <script>\n",
              "        const buttonEl =\n",
              "          document.querySelector('#df-9579ba22-140b-4585-98f8-6ce0d752ebe9 button.colab-df-convert');\n",
              "        buttonEl.style.display =\n",
              "          google.colab.kernel.accessAllowed ? 'block' : 'none';\n",
              "\n",
              "        async function convertToInteractive(key) {\n",
              "          const element = document.querySelector('#df-9579ba22-140b-4585-98f8-6ce0d752ebe9');\n",
              "          const dataTable =\n",
              "            await google.colab.kernel.invokeFunction('convertToInteractive',\n",
              "                                                     [key], {});\n",
              "          if (!dataTable) return;\n",
              "\n",
              "          const docLinkHtml = 'Like what you see? Visit the ' +\n",
              "            '<a target=\"_blank\" href=https://colab.research.google.com/notebooks/data_table.ipynb>data table notebook</a>'\n",
              "            + ' to learn more about interactive tables.';\n",
              "          element.innerHTML = '';\n",
              "          dataTable['output_type'] = 'display_data';\n",
              "          await google.colab.output.renderOutput(dataTable, element);\n",
              "          const docLink = document.createElement('div');\n",
              "          docLink.innerHTML = docLinkHtml;\n",
              "          element.appendChild(docLink);\n",
              "        }\n",
              "      </script>\n",
              "    </div>\n",
              "  </div>\n",
              "  "
            ]
          },
          "metadata": {},
          "execution_count": 66
        }
      ]
    },
    {
      "cell_type": "code",
      "source": [
        "GDP[\"Country\"].nunique()"
      ],
      "metadata": {
        "colab": {
          "base_uri": "https://localhost:8080/"
        },
        "id": "Mxr4BnrAIg6r",
        "outputId": "d1799485-61f9-4ef8-b71a-53943d08db9b"
      },
      "execution_count": 67,
      "outputs": [
        {
          "output_type": "execute_result",
          "data": {
            "text/plain": [
              "211"
            ]
          },
          "metadata": {},
          "execution_count": 67
        }
      ]
    },
    {
      "cell_type": "code",
      "source": [
        "Emisiones_final_2019_cluster[\"Country\"].nunique()"
      ],
      "metadata": {
        "colab": {
          "base_uri": "https://localhost:8080/"
        },
        "id": "Kt6dySq9Iks3",
        "outputId": "7bed2122-ada9-4e29-a5e2-415563e2dd4b"
      },
      "execution_count": 68,
      "outputs": [
        {
          "output_type": "execute_result",
          "data": {
            "text/plain": [
              "198"
            ]
          },
          "metadata": {},
          "execution_count": 68
        }
      ]
    },
    {
      "cell_type": "code",
      "source": [
        "Emisiones_final_2019_cluster = Emisiones_final_2019_cluster.merge(GDP, how= \"left\", on = 'Country')"
      ],
      "metadata": {
        "id": "uOHj-nOoIZRV"
      },
      "execution_count": 69,
      "outputs": []
    },
    {
      "cell_type": "code",
      "source": [
        "Emisiones_final_2019_cluster.head()"
      ],
      "metadata": {
        "id": "gVEmsgfzIsyc",
        "colab": {
          "base_uri": "https://localhost:8080/",
          "height": 206
        },
        "outputId": "3dca542b-bf7d-4439-9dc4-fb100711d66c"
      },
      "execution_count": 70,
      "outputs": [
        {
          "output_type": "execute_result",
          "data": {
            "text/plain": [
              "               Country  total_emissions  total_population  %_population  \\\n",
              "0          Afghanistan     3.326645e+05         38041.754      0.004191   \n",
              "1              Albania     7.254900e+04          2880.917      0.000317   \n",
              "2              Algeria     2.576888e+05         43053.054      0.004743   \n",
              "3               Angola     1.657945e+06         31825.295      0.003506   \n",
              "4  Antigua and Barbuda     8.139984e+02            97.118      0.000011   \n",
              "\n",
              "   %_emissions       GDP_2019  \n",
              "0     0.001464   17876.546427  \n",
              "1     0.000319   15278.072762  \n",
              "2     0.001134  171157.863119  \n",
              "3     0.007296   85000.612455  \n",
              "4     0.000004    1661.962963  "
            ],
            "text/html": [
              "\n",
              "  <div id=\"df-6e556e40-2afe-4fcb-b351-b755883720ad\">\n",
              "    <div class=\"colab-df-container\">\n",
              "      <div>\n",
              "<style scoped>\n",
              "    .dataframe tbody tr th:only-of-type {\n",
              "        vertical-align: middle;\n",
              "    }\n",
              "\n",
              "    .dataframe tbody tr th {\n",
              "        vertical-align: top;\n",
              "    }\n",
              "\n",
              "    .dataframe thead th {\n",
              "        text-align: right;\n",
              "    }\n",
              "</style>\n",
              "<table border=\"1\" class=\"dataframe\">\n",
              "  <thead>\n",
              "    <tr style=\"text-align: right;\">\n",
              "      <th></th>\n",
              "      <th>Country</th>\n",
              "      <th>total_emissions</th>\n",
              "      <th>total_population</th>\n",
              "      <th>%_population</th>\n",
              "      <th>%_emissions</th>\n",
              "      <th>GDP_2019</th>\n",
              "    </tr>\n",
              "  </thead>\n",
              "  <tbody>\n",
              "    <tr>\n",
              "      <th>0</th>\n",
              "      <td>Afghanistan</td>\n",
              "      <td>3.326645e+05</td>\n",
              "      <td>38041.754</td>\n",
              "      <td>0.004191</td>\n",
              "      <td>0.001464</td>\n",
              "      <td>17876.546427</td>\n",
              "    </tr>\n",
              "    <tr>\n",
              "      <th>1</th>\n",
              "      <td>Albania</td>\n",
              "      <td>7.254900e+04</td>\n",
              "      <td>2880.917</td>\n",
              "      <td>0.000317</td>\n",
              "      <td>0.000319</td>\n",
              "      <td>15278.072762</td>\n",
              "    </tr>\n",
              "    <tr>\n",
              "      <th>2</th>\n",
              "      <td>Algeria</td>\n",
              "      <td>2.576888e+05</td>\n",
              "      <td>43053.054</td>\n",
              "      <td>0.004743</td>\n",
              "      <td>0.001134</td>\n",
              "      <td>171157.863119</td>\n",
              "    </tr>\n",
              "    <tr>\n",
              "      <th>3</th>\n",
              "      <td>Angola</td>\n",
              "      <td>1.657945e+06</td>\n",
              "      <td>31825.295</td>\n",
              "      <td>0.003506</td>\n",
              "      <td>0.007296</td>\n",
              "      <td>85000.612455</td>\n",
              "    </tr>\n",
              "    <tr>\n",
              "      <th>4</th>\n",
              "      <td>Antigua and Barbuda</td>\n",
              "      <td>8.139984e+02</td>\n",
              "      <td>97.118</td>\n",
              "      <td>0.000011</td>\n",
              "      <td>0.000004</td>\n",
              "      <td>1661.962963</td>\n",
              "    </tr>\n",
              "  </tbody>\n",
              "</table>\n",
              "</div>\n",
              "      <button class=\"colab-df-convert\" onclick=\"convertToInteractive('df-6e556e40-2afe-4fcb-b351-b755883720ad')\"\n",
              "              title=\"Convert this dataframe to an interactive table.\"\n",
              "              style=\"display:none;\">\n",
              "        \n",
              "  <svg xmlns=\"http://www.w3.org/2000/svg\" height=\"24px\"viewBox=\"0 0 24 24\"\n",
              "       width=\"24px\">\n",
              "    <path d=\"M0 0h24v24H0V0z\" fill=\"none\"/>\n",
              "    <path d=\"M18.56 5.44l.94 2.06.94-2.06 2.06-.94-2.06-.94-.94-2.06-.94 2.06-2.06.94zm-11 1L8.5 8.5l.94-2.06 2.06-.94-2.06-.94L8.5 2.5l-.94 2.06-2.06.94zm10 10l.94 2.06.94-2.06 2.06-.94-2.06-.94-.94-2.06-.94 2.06-2.06.94z\"/><path d=\"M17.41 7.96l-1.37-1.37c-.4-.4-.92-.59-1.43-.59-.52 0-1.04.2-1.43.59L10.3 9.45l-7.72 7.72c-.78.78-.78 2.05 0 2.83L4 21.41c.39.39.9.59 1.41.59.51 0 1.02-.2 1.41-.59l7.78-7.78 2.81-2.81c.8-.78.8-2.07 0-2.86zM5.41 20L4 18.59l7.72-7.72 1.47 1.35L5.41 20z\"/>\n",
              "  </svg>\n",
              "      </button>\n",
              "      \n",
              "  <style>\n",
              "    .colab-df-container {\n",
              "      display:flex;\n",
              "      flex-wrap:wrap;\n",
              "      gap: 12px;\n",
              "    }\n",
              "\n",
              "    .colab-df-convert {\n",
              "      background-color: #E8F0FE;\n",
              "      border: none;\n",
              "      border-radius: 50%;\n",
              "      cursor: pointer;\n",
              "      display: none;\n",
              "      fill: #1967D2;\n",
              "      height: 32px;\n",
              "      padding: 0 0 0 0;\n",
              "      width: 32px;\n",
              "    }\n",
              "\n",
              "    .colab-df-convert:hover {\n",
              "      background-color: #E2EBFA;\n",
              "      box-shadow: 0px 1px 2px rgba(60, 64, 67, 0.3), 0px 1px 3px 1px rgba(60, 64, 67, 0.15);\n",
              "      fill: #174EA6;\n",
              "    }\n",
              "\n",
              "    [theme=dark] .colab-df-convert {\n",
              "      background-color: #3B4455;\n",
              "      fill: #D2E3FC;\n",
              "    }\n",
              "\n",
              "    [theme=dark] .colab-df-convert:hover {\n",
              "      background-color: #434B5C;\n",
              "      box-shadow: 0px 1px 3px 1px rgba(0, 0, 0, 0.15);\n",
              "      filter: drop-shadow(0px 1px 2px rgba(0, 0, 0, 0.3));\n",
              "      fill: #FFFFFF;\n",
              "    }\n",
              "  </style>\n",
              "\n",
              "      <script>\n",
              "        const buttonEl =\n",
              "          document.querySelector('#df-6e556e40-2afe-4fcb-b351-b755883720ad button.colab-df-convert');\n",
              "        buttonEl.style.display =\n",
              "          google.colab.kernel.accessAllowed ? 'block' : 'none';\n",
              "\n",
              "        async function convertToInteractive(key) {\n",
              "          const element = document.querySelector('#df-6e556e40-2afe-4fcb-b351-b755883720ad');\n",
              "          const dataTable =\n",
              "            await google.colab.kernel.invokeFunction('convertToInteractive',\n",
              "                                                     [key], {});\n",
              "          if (!dataTable) return;\n",
              "\n",
              "          const docLinkHtml = 'Like what you see? Visit the ' +\n",
              "            '<a target=\"_blank\" href=https://colab.research.google.com/notebooks/data_table.ipynb>data table notebook</a>'\n",
              "            + ' to learn more about interactive tables.';\n",
              "          element.innerHTML = '';\n",
              "          dataTable['output_type'] = 'display_data';\n",
              "          await google.colab.output.renderOutput(dataTable, element);\n",
              "          const docLink = document.createElement('div');\n",
              "          docLink.innerHTML = docLinkHtml;\n",
              "          element.appendChild(docLink);\n",
              "        }\n",
              "      </script>\n",
              "    </div>\n",
              "  </div>\n",
              "  "
            ]
          },
          "metadata": {},
          "execution_count": 70
        }
      ]
    },
    {
      "cell_type": "markdown",
      "source": [
        "### New features"
      ],
      "metadata": {
        "id": "69N-R99vVnSk"
      }
    },
    {
      "cell_type": "code",
      "source": [
        "Emisiones_final_2019_cluster[\"%_emissions\"] = (Emisiones_final_2019_cluster[\"total_emissions\"] / Emisiones_final_2019_cluster[\"total_emissions\"].sum()) "
      ],
      "metadata": {
        "id": "XBwLQ_caUEff"
      },
      "execution_count": 71,
      "outputs": []
    },
    {
      "cell_type": "code",
      "source": [
        "Emisiones_final_2019_cluster[\"emissions_per_capita\"] = Emisiones_final_2019_cluster[\"total_emissions\"] / Emisiones_final_2019_cluster[\"total_population\"]"
      ],
      "metadata": {
        "id": "6eKwcoY8dXOp"
      },
      "execution_count": 72,
      "outputs": []
    },
    {
      "cell_type": "code",
      "source": [
        "Emisiones_final_2019_cluster[\"emissions_per_capita_mundial\"] = Emisiones_final_2019_cluster[\"total_emissions\"] / Emisiones_final_2019_cluster[\"total_population\"].sum()"
      ],
      "metadata": {
        "id": "Tg19cf7eenkm"
      },
      "execution_count": 73,
      "outputs": []
    },
    {
      "cell_type": "code",
      "source": [
        "Emisiones_final_2019_cluster[\"GDP19_per_capita\"] = Emisiones_final_2019_cluster[\"GDP_2019\"] / Emisiones_final_2019_cluster[\"total_population\"]"
      ],
      "metadata": {
        "id": "WMhasc8gdXJM"
      },
      "execution_count": 74,
      "outputs": []
    },
    {
      "cell_type": "code",
      "source": [
        "Emisiones_final_2019_cluster[\"GDP19_per_capita_mundial\"] = Emisiones_final_2019_cluster[\"GDP_2019\"] / Emisiones_final_2019_cluster[\"total_population\"].sum()"
      ],
      "metadata": {
        "id": "62RW_HgNezGj"
      },
      "execution_count": 75,
      "outputs": []
    },
    {
      "cell_type": "code",
      "source": [
        "Emisiones_final_2019_cluster[\"emissions_per_GDP\"] = Emisiones_final_2019_cluster[\"total_emissions\"] / Emisiones_final_2019_cluster[\"GDP_2019\"]"
      ],
      "metadata": {
        "id": "PlO0XVDYjA4r"
      },
      "execution_count": 76,
      "outputs": []
    },
    {
      "cell_type": "code",
      "source": [
        "Emisiones_final_2019_cluster[\"emissions_per_GDP_mundial\"] = Emisiones_final_2019_cluster[\"total_emissions\"] / Emisiones_final_2019_cluster[\"GDP_2019\"].sum()"
      ],
      "metadata": {
        "id": "UL-FalCTjGUa"
      },
      "execution_count": 77,
      "outputs": []
    },
    {
      "cell_type": "code",
      "source": [
        "Emisiones_final_2019_cluster.head()"
      ],
      "metadata": {
        "colab": {
          "base_uri": "https://localhost:8080/",
          "height": 305
        },
        "id": "c-tPHEdreKug",
        "outputId": "2079369b-23e9-49de-f4eb-8e6032ed05bf"
      },
      "execution_count": 78,
      "outputs": [
        {
          "output_type": "execute_result",
          "data": {
            "text/plain": [
              "               Country  total_emissions  total_population  %_population  \\\n",
              "0          Afghanistan     3.326645e+05         38041.754      0.004191   \n",
              "1              Albania     7.254900e+04          2880.917      0.000317   \n",
              "2              Algeria     2.576888e+05         43053.054      0.004743   \n",
              "3               Angola     1.657945e+06         31825.295      0.003506   \n",
              "4  Antigua and Barbuda     8.139984e+02            97.118      0.000011   \n",
              "\n",
              "   %_emissions       GDP_2019  emissions_per_capita  \\\n",
              "0     0.001464   17876.546427              8.744721   \n",
              "1     0.000319   15278.072762             25.182606   \n",
              "2     0.001134  171157.863119              5.985378   \n",
              "3     0.007296   85000.612455             52.095210   \n",
              "4     0.000004    1661.962963              8.381540   \n",
              "\n",
              "   emissions_per_capita_mundial  GDP19_per_capita  GDP19_per_capita_mundial  \\\n",
              "0                      0.036652          0.469919                  0.001970   \n",
              "1                      0.007993          5.303198                  0.001683   \n",
              "2                      0.028392          3.975510                  0.018858   \n",
              "3                      0.182669          2.670851                  0.009365   \n",
              "4                      0.000090         17.112821                  0.000183   \n",
              "\n",
              "   emissions_per_GDP  emissions_per_GDP_mundial  \n",
              "0          18.608993                   0.003290  \n",
              "1           4.748570                   0.000717  \n",
              "2           1.505562                   0.002548  \n",
              "3          19.505100                   0.016396  \n",
              "4           0.489781                   0.000008  "
            ],
            "text/html": [
              "\n",
              "  <div id=\"df-4607b951-2e00-4b14-b929-009af438f6cb\">\n",
              "    <div class=\"colab-df-container\">\n",
              "      <div>\n",
              "<style scoped>\n",
              "    .dataframe tbody tr th:only-of-type {\n",
              "        vertical-align: middle;\n",
              "    }\n",
              "\n",
              "    .dataframe tbody tr th {\n",
              "        vertical-align: top;\n",
              "    }\n",
              "\n",
              "    .dataframe thead th {\n",
              "        text-align: right;\n",
              "    }\n",
              "</style>\n",
              "<table border=\"1\" class=\"dataframe\">\n",
              "  <thead>\n",
              "    <tr style=\"text-align: right;\">\n",
              "      <th></th>\n",
              "      <th>Country</th>\n",
              "      <th>total_emissions</th>\n",
              "      <th>total_population</th>\n",
              "      <th>%_population</th>\n",
              "      <th>%_emissions</th>\n",
              "      <th>GDP_2019</th>\n",
              "      <th>emissions_per_capita</th>\n",
              "      <th>emissions_per_capita_mundial</th>\n",
              "      <th>GDP19_per_capita</th>\n",
              "      <th>GDP19_per_capita_mundial</th>\n",
              "      <th>emissions_per_GDP</th>\n",
              "      <th>emissions_per_GDP_mundial</th>\n",
              "    </tr>\n",
              "  </thead>\n",
              "  <tbody>\n",
              "    <tr>\n",
              "      <th>0</th>\n",
              "      <td>Afghanistan</td>\n",
              "      <td>3.326645e+05</td>\n",
              "      <td>38041.754</td>\n",
              "      <td>0.004191</td>\n",
              "      <td>0.001464</td>\n",
              "      <td>17876.546427</td>\n",
              "      <td>8.744721</td>\n",
              "      <td>0.036652</td>\n",
              "      <td>0.469919</td>\n",
              "      <td>0.001970</td>\n",
              "      <td>18.608993</td>\n",
              "      <td>0.003290</td>\n",
              "    </tr>\n",
              "    <tr>\n",
              "      <th>1</th>\n",
              "      <td>Albania</td>\n",
              "      <td>7.254900e+04</td>\n",
              "      <td>2880.917</td>\n",
              "      <td>0.000317</td>\n",
              "      <td>0.000319</td>\n",
              "      <td>15278.072762</td>\n",
              "      <td>25.182606</td>\n",
              "      <td>0.007993</td>\n",
              "      <td>5.303198</td>\n",
              "      <td>0.001683</td>\n",
              "      <td>4.748570</td>\n",
              "      <td>0.000717</td>\n",
              "    </tr>\n",
              "    <tr>\n",
              "      <th>2</th>\n",
              "      <td>Algeria</td>\n",
              "      <td>2.576888e+05</td>\n",
              "      <td>43053.054</td>\n",
              "      <td>0.004743</td>\n",
              "      <td>0.001134</td>\n",
              "      <td>171157.863119</td>\n",
              "      <td>5.985378</td>\n",
              "      <td>0.028392</td>\n",
              "      <td>3.975510</td>\n",
              "      <td>0.018858</td>\n",
              "      <td>1.505562</td>\n",
              "      <td>0.002548</td>\n",
              "    </tr>\n",
              "    <tr>\n",
              "      <th>3</th>\n",
              "      <td>Angola</td>\n",
              "      <td>1.657945e+06</td>\n",
              "      <td>31825.295</td>\n",
              "      <td>0.003506</td>\n",
              "      <td>0.007296</td>\n",
              "      <td>85000.612455</td>\n",
              "      <td>52.095210</td>\n",
              "      <td>0.182669</td>\n",
              "      <td>2.670851</td>\n",
              "      <td>0.009365</td>\n",
              "      <td>19.505100</td>\n",
              "      <td>0.016396</td>\n",
              "    </tr>\n",
              "    <tr>\n",
              "      <th>4</th>\n",
              "      <td>Antigua and Barbuda</td>\n",
              "      <td>8.139984e+02</td>\n",
              "      <td>97.118</td>\n",
              "      <td>0.000011</td>\n",
              "      <td>0.000004</td>\n",
              "      <td>1661.962963</td>\n",
              "      <td>8.381540</td>\n",
              "      <td>0.000090</td>\n",
              "      <td>17.112821</td>\n",
              "      <td>0.000183</td>\n",
              "      <td>0.489781</td>\n",
              "      <td>0.000008</td>\n",
              "    </tr>\n",
              "  </tbody>\n",
              "</table>\n",
              "</div>\n",
              "      <button class=\"colab-df-convert\" onclick=\"convertToInteractive('df-4607b951-2e00-4b14-b929-009af438f6cb')\"\n",
              "              title=\"Convert this dataframe to an interactive table.\"\n",
              "              style=\"display:none;\">\n",
              "        \n",
              "  <svg xmlns=\"http://www.w3.org/2000/svg\" height=\"24px\"viewBox=\"0 0 24 24\"\n",
              "       width=\"24px\">\n",
              "    <path d=\"M0 0h24v24H0V0z\" fill=\"none\"/>\n",
              "    <path d=\"M18.56 5.44l.94 2.06.94-2.06 2.06-.94-2.06-.94-.94-2.06-.94 2.06-2.06.94zm-11 1L8.5 8.5l.94-2.06 2.06-.94-2.06-.94L8.5 2.5l-.94 2.06-2.06.94zm10 10l.94 2.06.94-2.06 2.06-.94-2.06-.94-.94-2.06-.94 2.06-2.06.94z\"/><path d=\"M17.41 7.96l-1.37-1.37c-.4-.4-.92-.59-1.43-.59-.52 0-1.04.2-1.43.59L10.3 9.45l-7.72 7.72c-.78.78-.78 2.05 0 2.83L4 21.41c.39.39.9.59 1.41.59.51 0 1.02-.2 1.41-.59l7.78-7.78 2.81-2.81c.8-.78.8-2.07 0-2.86zM5.41 20L4 18.59l7.72-7.72 1.47 1.35L5.41 20z\"/>\n",
              "  </svg>\n",
              "      </button>\n",
              "      \n",
              "  <style>\n",
              "    .colab-df-container {\n",
              "      display:flex;\n",
              "      flex-wrap:wrap;\n",
              "      gap: 12px;\n",
              "    }\n",
              "\n",
              "    .colab-df-convert {\n",
              "      background-color: #E8F0FE;\n",
              "      border: none;\n",
              "      border-radius: 50%;\n",
              "      cursor: pointer;\n",
              "      display: none;\n",
              "      fill: #1967D2;\n",
              "      height: 32px;\n",
              "      padding: 0 0 0 0;\n",
              "      width: 32px;\n",
              "    }\n",
              "\n",
              "    .colab-df-convert:hover {\n",
              "      background-color: #E2EBFA;\n",
              "      box-shadow: 0px 1px 2px rgba(60, 64, 67, 0.3), 0px 1px 3px 1px rgba(60, 64, 67, 0.15);\n",
              "      fill: #174EA6;\n",
              "    }\n",
              "\n",
              "    [theme=dark] .colab-df-convert {\n",
              "      background-color: #3B4455;\n",
              "      fill: #D2E3FC;\n",
              "    }\n",
              "\n",
              "    [theme=dark] .colab-df-convert:hover {\n",
              "      background-color: #434B5C;\n",
              "      box-shadow: 0px 1px 3px 1px rgba(0, 0, 0, 0.15);\n",
              "      filter: drop-shadow(0px 1px 2px rgba(0, 0, 0, 0.3));\n",
              "      fill: #FFFFFF;\n",
              "    }\n",
              "  </style>\n",
              "\n",
              "      <script>\n",
              "        const buttonEl =\n",
              "          document.querySelector('#df-4607b951-2e00-4b14-b929-009af438f6cb button.colab-df-convert');\n",
              "        buttonEl.style.display =\n",
              "          google.colab.kernel.accessAllowed ? 'block' : 'none';\n",
              "\n",
              "        async function convertToInteractive(key) {\n",
              "          const element = document.querySelector('#df-4607b951-2e00-4b14-b929-009af438f6cb');\n",
              "          const dataTable =\n",
              "            await google.colab.kernel.invokeFunction('convertToInteractive',\n",
              "                                                     [key], {});\n",
              "          if (!dataTable) return;\n",
              "\n",
              "          const docLinkHtml = 'Like what you see? Visit the ' +\n",
              "            '<a target=\"_blank\" href=https://colab.research.google.com/notebooks/data_table.ipynb>data table notebook</a>'\n",
              "            + ' to learn more about interactive tables.';\n",
              "          element.innerHTML = '';\n",
              "          dataTable['output_type'] = 'display_data';\n",
              "          await google.colab.output.renderOutput(dataTable, element);\n",
              "          const docLink = document.createElement('div');\n",
              "          docLink.innerHTML = docLinkHtml;\n",
              "          element.appendChild(docLink);\n",
              "        }\n",
              "      </script>\n",
              "    </div>\n",
              "  </div>\n",
              "  "
            ]
          },
          "metadata": {},
          "execution_count": 78
        }
      ]
    },
    {
      "cell_type": "markdown",
      "source": [
        "## Adding Country Group"
      ],
      "metadata": {
        "id": "SEygAEbLgNzE"
      }
    },
    {
      "cell_type": "code",
      "source": [
        "Country_Group = pd.read_csv(\"/content/drive/MyDrive/BOOTCAMP DATA SCIENCE/PROYECTO NUCLIO/Regiones_filtradas_final.csv\", index_col = 0 )"
      ],
      "metadata": {
        "id": "Xo3LDggTmCNN"
      },
      "execution_count": 79,
      "outputs": []
    },
    {
      "cell_type": "code",
      "source": [
        "Country_Group.head()"
      ],
      "metadata": {
        "id": "LZbS0e3fmpJC",
        "colab": {
          "base_uri": "https://localhost:8080/",
          "height": 206
        },
        "outputId": "2c41ee00-b246-45f6-dc26-0c4b58e8bf7a"
      },
      "execution_count": 80,
      "outputs": [
        {
          "output_type": "execute_result",
          "data": {
            "text/plain": [
              "  Country Group       Country\n",
              "0        Africa       Algeria\n",
              "1        Africa        Angola\n",
              "2        Africa         Benin\n",
              "3        Africa      Botswana\n",
              "4        Africa  Burkina Faso"
            ],
            "text/html": [
              "\n",
              "  <div id=\"df-7cc3ac84-e055-4923-ab3a-91131ea3c457\">\n",
              "    <div class=\"colab-df-container\">\n",
              "      <div>\n",
              "<style scoped>\n",
              "    .dataframe tbody tr th:only-of-type {\n",
              "        vertical-align: middle;\n",
              "    }\n",
              "\n",
              "    .dataframe tbody tr th {\n",
              "        vertical-align: top;\n",
              "    }\n",
              "\n",
              "    .dataframe thead th {\n",
              "        text-align: right;\n",
              "    }\n",
              "</style>\n",
              "<table border=\"1\" class=\"dataframe\">\n",
              "  <thead>\n",
              "    <tr style=\"text-align: right;\">\n",
              "      <th></th>\n",
              "      <th>Country Group</th>\n",
              "      <th>Country</th>\n",
              "    </tr>\n",
              "  </thead>\n",
              "  <tbody>\n",
              "    <tr>\n",
              "      <th>0</th>\n",
              "      <td>Africa</td>\n",
              "      <td>Algeria</td>\n",
              "    </tr>\n",
              "    <tr>\n",
              "      <th>1</th>\n",
              "      <td>Africa</td>\n",
              "      <td>Angola</td>\n",
              "    </tr>\n",
              "    <tr>\n",
              "      <th>2</th>\n",
              "      <td>Africa</td>\n",
              "      <td>Benin</td>\n",
              "    </tr>\n",
              "    <tr>\n",
              "      <th>3</th>\n",
              "      <td>Africa</td>\n",
              "      <td>Botswana</td>\n",
              "    </tr>\n",
              "    <tr>\n",
              "      <th>4</th>\n",
              "      <td>Africa</td>\n",
              "      <td>Burkina Faso</td>\n",
              "    </tr>\n",
              "  </tbody>\n",
              "</table>\n",
              "</div>\n",
              "      <button class=\"colab-df-convert\" onclick=\"convertToInteractive('df-7cc3ac84-e055-4923-ab3a-91131ea3c457')\"\n",
              "              title=\"Convert this dataframe to an interactive table.\"\n",
              "              style=\"display:none;\">\n",
              "        \n",
              "  <svg xmlns=\"http://www.w3.org/2000/svg\" height=\"24px\"viewBox=\"0 0 24 24\"\n",
              "       width=\"24px\">\n",
              "    <path d=\"M0 0h24v24H0V0z\" fill=\"none\"/>\n",
              "    <path d=\"M18.56 5.44l.94 2.06.94-2.06 2.06-.94-2.06-.94-.94-2.06-.94 2.06-2.06.94zm-11 1L8.5 8.5l.94-2.06 2.06-.94-2.06-.94L8.5 2.5l-.94 2.06-2.06.94zm10 10l.94 2.06.94-2.06 2.06-.94-2.06-.94-.94-2.06-.94 2.06-2.06.94z\"/><path d=\"M17.41 7.96l-1.37-1.37c-.4-.4-.92-.59-1.43-.59-.52 0-1.04.2-1.43.59L10.3 9.45l-7.72 7.72c-.78.78-.78 2.05 0 2.83L4 21.41c.39.39.9.59 1.41.59.51 0 1.02-.2 1.41-.59l7.78-7.78 2.81-2.81c.8-.78.8-2.07 0-2.86zM5.41 20L4 18.59l7.72-7.72 1.47 1.35L5.41 20z\"/>\n",
              "  </svg>\n",
              "      </button>\n",
              "      \n",
              "  <style>\n",
              "    .colab-df-container {\n",
              "      display:flex;\n",
              "      flex-wrap:wrap;\n",
              "      gap: 12px;\n",
              "    }\n",
              "\n",
              "    .colab-df-convert {\n",
              "      background-color: #E8F0FE;\n",
              "      border: none;\n",
              "      border-radius: 50%;\n",
              "      cursor: pointer;\n",
              "      display: none;\n",
              "      fill: #1967D2;\n",
              "      height: 32px;\n",
              "      padding: 0 0 0 0;\n",
              "      width: 32px;\n",
              "    }\n",
              "\n",
              "    .colab-df-convert:hover {\n",
              "      background-color: #E2EBFA;\n",
              "      box-shadow: 0px 1px 2px rgba(60, 64, 67, 0.3), 0px 1px 3px 1px rgba(60, 64, 67, 0.15);\n",
              "      fill: #174EA6;\n",
              "    }\n",
              "\n",
              "    [theme=dark] .colab-df-convert {\n",
              "      background-color: #3B4455;\n",
              "      fill: #D2E3FC;\n",
              "    }\n",
              "\n",
              "    [theme=dark] .colab-df-convert:hover {\n",
              "      background-color: #434B5C;\n",
              "      box-shadow: 0px 1px 3px 1px rgba(0, 0, 0, 0.15);\n",
              "      filter: drop-shadow(0px 1px 2px rgba(0, 0, 0, 0.3));\n",
              "      fill: #FFFFFF;\n",
              "    }\n",
              "  </style>\n",
              "\n",
              "      <script>\n",
              "        const buttonEl =\n",
              "          document.querySelector('#df-7cc3ac84-e055-4923-ab3a-91131ea3c457 button.colab-df-convert');\n",
              "        buttonEl.style.display =\n",
              "          google.colab.kernel.accessAllowed ? 'block' : 'none';\n",
              "\n",
              "        async function convertToInteractive(key) {\n",
              "          const element = document.querySelector('#df-7cc3ac84-e055-4923-ab3a-91131ea3c457');\n",
              "          const dataTable =\n",
              "            await google.colab.kernel.invokeFunction('convertToInteractive',\n",
              "                                                     [key], {});\n",
              "          if (!dataTable) return;\n",
              "\n",
              "          const docLinkHtml = 'Like what you see? Visit the ' +\n",
              "            '<a target=\"_blank\" href=https://colab.research.google.com/notebooks/data_table.ipynb>data table notebook</a>'\n",
              "            + ' to learn more about interactive tables.';\n",
              "          element.innerHTML = '';\n",
              "          dataTable['output_type'] = 'display_data';\n",
              "          await google.colab.output.renderOutput(dataTable, element);\n",
              "          const docLink = document.createElement('div');\n",
              "          docLink.innerHTML = docLinkHtml;\n",
              "          element.appendChild(docLink);\n",
              "        }\n",
              "      </script>\n",
              "    </div>\n",
              "  </div>\n",
              "  "
            ]
          },
          "metadata": {},
          "execution_count": 80
        }
      ]
    },
    {
      "cell_type": "code",
      "source": [
        "Cluster = Cluster.merge(Country_Group, how = \"left\", on = 'Country')"
      ],
      "metadata": {
        "id": "r56kpQFmG2VI",
        "colab": {
          "base_uri": "https://localhost:8080/",
          "height": 166
        },
        "outputId": "e76566a7-3b76-4c86-8c45-579c4b0c6753"
      },
      "execution_count": 81,
      "outputs": [
        {
          "output_type": "error",
          "ename": "NameError",
          "evalue": "ignored",
          "traceback": [
            "\u001b[0;31m---------------------------------------------------------------------------\u001b[0m",
            "\u001b[0;31mNameError\u001b[0m                                 Traceback (most recent call last)",
            "\u001b[0;32m<ipython-input-81-dc032129b6ba>\u001b[0m in \u001b[0;36m<module>\u001b[0;34m()\u001b[0m\n\u001b[0;32m----> 1\u001b[0;31m \u001b[0mCluster\u001b[0m \u001b[0;34m=\u001b[0m \u001b[0mCluster\u001b[0m\u001b[0;34m.\u001b[0m\u001b[0mmerge\u001b[0m\u001b[0;34m(\u001b[0m\u001b[0mCountry_Group\u001b[0m\u001b[0;34m,\u001b[0m \u001b[0mhow\u001b[0m \u001b[0;34m=\u001b[0m \u001b[0;34m\"left\"\u001b[0m\u001b[0;34m,\u001b[0m \u001b[0mon\u001b[0m \u001b[0;34m=\u001b[0m \u001b[0;34m'Country'\u001b[0m\u001b[0;34m)\u001b[0m\u001b[0;34m\u001b[0m\u001b[0;34m\u001b[0m\u001b[0m\n\u001b[0m",
            "\u001b[0;31mNameError\u001b[0m: name 'Cluster' is not defined"
          ]
        }
      ]
    },
    {
      "cell_type": "code",
      "source": [
        "Emisiones_final_2019_cluster = Emisiones_final_2019_cluster.merge(Country_Group, how = \"left\", on = 'Country')"
      ],
      "metadata": {
        "id": "TxDUpPRigQ4Y"
      },
      "execution_count": null,
      "outputs": []
    },
    {
      "cell_type": "code",
      "source": [
        "Emisiones_final_2019_cluster.isnull().sum()"
      ],
      "metadata": {
        "id": "akZhEbObgNfZ"
      },
      "execution_count": null,
      "outputs": []
    },
    {
      "cell_type": "code",
      "source": [
        "Emisiones_final_2019_cluster[Emisiones_final_2019_cluster[\"emissions_per_capita_mundial\"].isnull()]"
      ],
      "metadata": {
        "id": "0Tsu6_m_fJT9"
      },
      "execution_count": null,
      "outputs": []
    },
    {
      "cell_type": "code",
      "source": [
        "Emisiones_final_2019_cluster.head()"
      ],
      "metadata": {
        "id": "BwUL6qWhhiYD"
      },
      "execution_count": null,
      "outputs": []
    },
    {
      "cell_type": "code",
      "source": [
        "Emisiones_final_2019_cluster.to_csv(\"/content/drive/MyDrive/BOOTCAMP DATA SCIENCE/PROYECTO NUCLIO/CLUSTERING/Emisiones_final_2019_cluster.csv\")"
      ],
      "metadata": {
        "id": "wa63-sV4jLA_"
      },
      "execution_count": null,
      "outputs": []
    },
    {
      "cell_type": "markdown",
      "source": [
        "## Adding Production "
      ],
      "metadata": {
        "id": "SGfby5hbDQpA"
      }
    },
    {
      "cell_type": "code",
      "source": [
        "Produccion_final = pd.read_csv (\"/content/drive/MyDrive/BOOTCAMP DATA SCIENCE/PROYECTO NUCLIO/DATASETS FINALES/Produccion_final.csv\",sep=\",\", encoding = \"ISO-8859-1\", index_col = 0)"
      ],
      "metadata": {
        "id": "6F3WlHvRDT_O"
      },
      "execution_count": null,
      "outputs": []
    },
    {
      "cell_type": "code",
      "source": [
        "Produccion_final.info()"
      ],
      "metadata": {
        "id": "-EzBIjGq8MvV"
      },
      "execution_count": null,
      "outputs": []
    },
    {
      "cell_type": "code",
      "source": [
        "Produccion_final.isnull().sum()"
      ],
      "metadata": {
        "id": "Jj84fr-hDULe"
      },
      "execution_count": null,
      "outputs": []
    },
    {
      "cell_type": "code",
      "source": [
        "Produccion_final.head()"
      ],
      "metadata": {
        "id": "d55uJdtOxOGc"
      },
      "execution_count": null,
      "outputs": []
    },
    {
      "cell_type": "code",
      "source": [
        "Produccion_final = Produccion_final[Produccion_final[\"Year\"] == 2019].reset_index(drop = True)"
      ],
      "metadata": {
        "id": "-Jp2WtnxxdIe"
      },
      "execution_count": null,
      "outputs": []
    },
    {
      "cell_type": "code",
      "source": [
        "Produccion_final.head(1)"
      ],
      "metadata": {
        "id": "jAx84FRlZUex"
      },
      "execution_count": null,
      "outputs": []
    },
    {
      "cell_type": "code",
      "source": [
        "Produccion_final[\"Total Production\"] = Produccion_final[\"Value\"]"
      ],
      "metadata": {
        "id": "2QT9zrG0ZiPR"
      },
      "execution_count": null,
      "outputs": []
    },
    {
      "cell_type": "code",
      "source": [
        "Produccion_final = Produccion_final [[\"Country\", \"Total Production\"]]"
      ],
      "metadata": {
        "id": "9ZE2rVV8ZZ5A"
      },
      "execution_count": null,
      "outputs": []
    },
    {
      "cell_type": "code",
      "source": [
        "Produccion_final = Produccion_final.groupby(\"Country\")[\"Total Production\"].sum().to_frame()"
      ],
      "metadata": {
        "id": "uQ4NVzkBac6p"
      },
      "execution_count": null,
      "outputs": []
    },
    {
      "cell_type": "code",
      "source": [
        "Produccion_final.reset_index(inplace = True)"
      ],
      "metadata": {
        "id": "87mBMShMbbVS"
      },
      "execution_count": null,
      "outputs": []
    },
    {
      "cell_type": "code",
      "source": [
        "Produccion_final.head()"
      ],
      "metadata": {
        "id": "3AgoYh9w8xJW"
      },
      "execution_count": null,
      "outputs": []
    },
    {
      "cell_type": "code",
      "source": [
        "Produccion_final.info()"
      ],
      "metadata": {
        "id": "3PBBemBebf7B"
      },
      "execution_count": null,
      "outputs": []
    },
    {
      "cell_type": "code",
      "source": [
        "Produccion_final.isnull().sum()"
      ],
      "metadata": {
        "id": "OL1bRQhWbjGR"
      },
      "execution_count": null,
      "outputs": []
    },
    {
      "cell_type": "code",
      "source": [
        "Cluster.isnull().sum()"
      ],
      "metadata": {
        "id": "AguQCYVob6CP"
      },
      "execution_count": null,
      "outputs": []
    },
    {
      "cell_type": "code",
      "source": [
        "Cluster = Cluster.merge(Produccion_final, how = \"left\", on = \"Country\" )"
      ],
      "metadata": {
        "id": "C3ap672ZboDB"
      },
      "execution_count": null,
      "outputs": []
    },
    {
      "cell_type": "code",
      "source": [
        "Cluster.info()"
      ],
      "metadata": {
        "id": "H-hC912HcA1x"
      },
      "execution_count": null,
      "outputs": []
    },
    {
      "cell_type": "code",
      "source": [
        "Cluster.drop(\"Total Production_y\", axis =1, inplace = True)"
      ],
      "metadata": {
        "id": "3qj7CflQVdHu"
      },
      "execution_count": null,
      "outputs": []
    },
    {
      "cell_type": "code",
      "source": [
        "Cluster[\"Total Production\"] = Cluster[\"Total Production_x\"]"
      ],
      "metadata": {
        "id": "CarRLyjUVnRA"
      },
      "execution_count": null,
      "outputs": []
    },
    {
      "cell_type": "code",
      "source": [
        "Cluster.drop(\"Total Production_x\", axis =1, inplace = True)"
      ],
      "metadata": {
        "id": "HQtgM1NaVt-i"
      },
      "execution_count": null,
      "outputs": []
    },
    {
      "cell_type": "code",
      "source": [
        "Cluster.isnull().sum()"
      ],
      "metadata": {
        "id": "W7G_QfGncKOE"
      },
      "execution_count": null,
      "outputs": []
    },
    {
      "cell_type": "code",
      "source": [
        "Cluster.to_csv(\"/content/drive/MyDrive/BOOTCAMP DATA SCIENCE/PROYECTO NUCLIO/CLUSTERING/Cluster.csv\")"
      ],
      "metadata": {
        "id": "o0b4hqxwVENN"
      },
      "execution_count": null,
      "outputs": []
    },
    {
      "cell_type": "markdown",
      "source": [
        "## Additional new features"
      ],
      "metadata": {
        "id": "gMmJPBuKcUCL"
      }
    },
    {
      "cell_type": "code",
      "source": [
        "Cluster[\"production_per_capita\"] = Cluster[\"Total Production\"] / Cluster[\"total_population\"]"
      ],
      "metadata": {
        "id": "A37e5QYZcp3x"
      },
      "execution_count": null,
      "outputs": []
    },
    {
      "cell_type": "code",
      "source": [
        "Cluster[\"%_production_mundial\"] = Cluster[\"Total Production\"] / Cluster[\"total_population\"].sum()"
      ],
      "metadata": {
        "id": "TRbMxoeacTSL"
      },
      "execution_count": null,
      "outputs": []
    },
    {
      "cell_type": "code",
      "source": [
        "Cluster[\"emissions_per_production\"] = Cluster[\"total_emissions\"] / Cluster[\"Total Production\"]"
      ],
      "metadata": {
        "id": "P3S-rS8McTO-"
      },
      "execution_count": null,
      "outputs": []
    },
    {
      "cell_type": "code",
      "source": [
        "Cluster[\"emissions_per_production_mundial\"] = Cluster[\"total_emissions\"] / Cluster[\"Total Production\"].sum()"
      ],
      "metadata": {
        "id": "2cLuUNcCcTL5"
      },
      "execution_count": null,
      "outputs": []
    },
    {
      "cell_type": "code",
      "source": [
        "Cluster.info()"
      ],
      "metadata": {
        "id": "oVAHVgp6cTHU"
      },
      "execution_count": null,
      "outputs": []
    },
    {
      "cell_type": "code",
      "source": [
        "Cluster.isnull().sum()"
      ],
      "metadata": {
        "id": "HMqJ2BGIcTC7"
      },
      "execution_count": null,
      "outputs": []
    },
    {
      "cell_type": "code",
      "source": [
        "Cluster.drop(\"emissions_annual_growth\", axis = 1, inplace = True)"
      ],
      "metadata": {
        "id": "iFbA2CRH6VxZ"
      },
      "execution_count": null,
      "outputs": []
    },
    {
      "cell_type": "code",
      "source": [
        "Cluster[Cluster[\"Country\"] == \"China, mainland\"]"
      ],
      "metadata": {
        "id": "Mc4eyHyI5P3h"
      },
      "execution_count": null,
      "outputs": []
    },
    {
      "cell_type": "code",
      "source": [
        "Cluster.drop(Cluster.index[Cluster['Country'] == \"China, mainland\"], inplace=True)"
      ],
      "metadata": {
        "id": "GQ3R6N9O5c_M"
      },
      "execution_count": null,
      "outputs": []
    },
    {
      "cell_type": "code",
      "source": [
        "Cluster.reset_index(drop = True, inplace = True)"
      ],
      "metadata": {
        "id": "yPFVTEJm5yLD"
      },
      "execution_count": null,
      "outputs": []
    },
    {
      "cell_type": "code",
      "source": [
        "Cluster.to_csv(\"/content/drive/MyDrive/BOOTCAMP DATA SCIENCE/PROYECTO NUCLIO/CLUSTERING/Cluster.csv\")"
      ],
      "metadata": {
        "id": "B0xPGqT-YnVp"
      },
      "execution_count": null,
      "outputs": []
    },
    {
      "cell_type": "markdown",
      "source": [
        "# Plotting with plotly express"
      ],
      "metadata": {
        "id": "fJtrYevvIEbY"
      }
    },
    {
      "cell_type": "markdown",
      "source": [
        "### Histograms"
      ],
      "metadata": {
        "id": "vOoNT0DnI8nB"
      }
    },
    {
      "cell_type": "code",
      "source": [
        "df = pd.read_csv(\"/content/drive/MyDrive/BOOTCAMP DATA SCIENCE/PROYECTO NUCLIO/SERIES TEMPORALES/df.csv\", index_col = 0)"
      ],
      "metadata": {
        "id": "Q3ypN_rYE-sE"
      },
      "execution_count": null,
      "outputs": []
    },
    {
      "cell_type": "code",
      "source": [
        "Cluster = pd.read_csv(\"/content/drive/MyDrive/BOOTCAMP DATA SCIENCE/PROYECTO NUCLIO/CLUSTERING/Cluster.csv\", index_col = 0)"
      ],
      "metadata": {
        "id": "ol4szeXR0BvX"
      },
      "execution_count": null,
      "outputs": []
    },
    {
      "cell_type": "code",
      "source": [
        "dfhist = Cluster[(Cluster[\"Country Group\"] == \"Africa\") |\n",
        "                             (Cluster[\"Country Group\"] == \"Asia\") |\n",
        "                             (Cluster[\"Country Group\"] == \"Americas\") |\n",
        "                             (Cluster[\"Country Group\"] == \"Europe\") |\n",
        "                             (Cluster[\"Country Group\"] == \"Oceania\") ].reset_index(drop = True)"
      ],
      "metadata": {
        "id": "MN32fki6Fliq"
      },
      "execution_count": null,
      "outputs": []
    },
    {
      "cell_type": "code",
      "source": [
        "px.histogram(dfhist, x ='Country Group', y= 'total_population',  color= 'Country Group', height =700)"
      ],
      "metadata": {
        "id": "n1eExE0yJsge"
      },
      "execution_count": null,
      "outputs": []
    },
    {
      "cell_type": "code",
      "source": [
        "px.histogram(dfhist, x ='total_population', marginal='rug', hover_name ='Country', color= 'Country Group')"
      ],
      "metadata": {
        "id": "H2ej4Ok-JiXA"
      },
      "execution_count": null,
      "outputs": []
    },
    {
      "cell_type": "code",
      "source": [
        "px.bar(dfhist, x ='Country Group', y= 'total_population',  hover_name = 'Country', color= 'Country Group', height =700)"
      ],
      "metadata": {
        "id": "15v9572dNxk1"
      },
      "execution_count": null,
      "outputs": []
    },
    {
      "cell_type": "code",
      "source": [
        "px.bar(dfhist, x ='Country Group', y= 'total_population',  hover_name = 'Country', color= 'total_emissions', height =700)"
      ],
      "metadata": {
        "id": "GBhtXngOJsdo"
      },
      "execution_count": null,
      "outputs": []
    },
    {
      "cell_type": "code",
      "source": [
        "px.bar(dfhist, x ='Country Group', y= 'total_emissions',  hover_name = 'Country', color= 'GDP19_per_capita', height =700)"
      ],
      "metadata": {
        "id": "eNw1hM0KIlka"
      },
      "execution_count": null,
      "outputs": []
    },
    {
      "cell_type": "code",
      "source": [
        "px.bar(dfhist, x ='Country Group', y= 'GDP19_per_capita',  hover_name = 'Country', color= 'total_emissions', height =700)"
      ],
      "metadata": {
        "id": "B6-H0cRjIBVH"
      },
      "execution_count": null,
      "outputs": []
    },
    {
      "cell_type": "code",
      "source": [
        "px.histogram(dfhist, x ='total_emissions', y = 'GDP19_per_capita', marginal='rug', hover_name ='Country', color= 'Country Group',height =700)"
      ],
      "metadata": {
        "id": "1qKDvihvJI5e"
      },
      "execution_count": null,
      "outputs": []
    },
    {
      "cell_type": "code",
      "source": [
        "px.histogram(dfhist, x ='GDP19_per_capita', y= 'total_population', marginal='rug', hover_name ='Country', color= 'Country Group')"
      ],
      "metadata": {
        "id": "T58dcbzbJiNR"
      },
      "execution_count": null,
      "outputs": []
    },
    {
      "cell_type": "markdown",
      "source": [
        "### Scatters "
      ],
      "metadata": {
        "id": "rO18Z9aORU-m"
      }
    },
    {
      "cell_type": "code",
      "source": [
        "Cluster = pd.read_csv(\"/content/drive/MyDrive/BOOTCAMP DATA SCIENCE/PROYECTO NUCLIO/CLUSTERING/Cluster.csv\", index_col = 0)"
      ],
      "metadata": {
        "id": "Pz3UAZ8QE5Kk"
      },
      "execution_count": null,
      "outputs": []
    },
    {
      "cell_type": "code",
      "source": [
        "scatter_cluster = Cluster[(Cluster[\"Country Group\"] == \"Africa\") |\n",
        "                             (Cluster[\"Country Group\"] == \"Asia\") |\n",
        "                             (Cluster[\"Country Group\"] == \"Americas\") |\n",
        "                             (Cluster[\"Country Group\"] == \"Europe\") |\n",
        "                             (Cluster[\"Country Group\"] == \"Oceania\") ].reset_index(drop = True)"
      ],
      "metadata": {
        "id": "Jpt85pJl785C"
      },
      "execution_count": null,
      "outputs": []
    },
    {
      "cell_type": "code",
      "source": [
        "scatter_cluster[scatter_cluster[\"Country\"] == \"China, mainland\"]"
      ],
      "metadata": {
        "id": "OORFO-Pj833_"
      },
      "execution_count": null,
      "outputs": []
    },
    {
      "cell_type": "code",
      "source": [
        "scatter_cluster.drop(index=scatter_cluster.index[34], \n",
        "        axis=0, \n",
        "        inplace=True)"
      ],
      "metadata": {
        "id": "36zorlmS9ybT"
      },
      "execution_count": null,
      "outputs": []
    },
    {
      "cell_type": "code",
      "source": [
        "scatter_cluster.head()"
      ],
      "metadata": {
        "id": "E41mG8uGBJXN"
      },
      "execution_count": null,
      "outputs": []
    },
    {
      "cell_type": "code",
      "source": [
        "px.scatter(scatter_cluster, x = \"GDP19_per_capita\", y= \"total_emissions\", size =\"total_population\", size_max = 65, color = \"Country Group\", log_x = True, hover_name = \"Country\", hover_data = scatter_cluster, height = 700 )"
      ],
      "metadata": {
        "id": "RmEXLbRMRYxb"
      },
      "execution_count": null,
      "outputs": []
    },
    {
      "cell_type": "code",
      "source": [
        "px.scatter(scatter_cluster, x = \"GDP19_per_capita\", y= \"total_emissions\", size =\"total_population\", size_max = 65, color = \"Country Group\", log_x = True, hover_name = \"Country\", height = 700 )"
      ],
      "metadata": {
        "id": "gLGXlTleSrgg"
      },
      "execution_count": null,
      "outputs": []
    },
    {
      "cell_type": "markdown",
      "source": [
        "### Sunburst"
      ],
      "metadata": {
        "id": "-zlLaNqlEQSu"
      }
    },
    {
      "cell_type": "code",
      "source": [
        "dfhist = scatter_df"
      ],
      "metadata": {
        "id": "PXQDrsEnOlvr"
      },
      "execution_count": null,
      "outputs": []
    },
    {
      "cell_type": "code",
      "source": [
        "dfhist.head(1)"
      ],
      "metadata": {
        "id": "BKlKGsBqOBwm"
      },
      "execution_count": null,
      "outputs": []
    },
    {
      "cell_type": "code",
      "source": [
        "px.sunburst(dfhist, path=['Country Group', 'Country'], values ='Total Emissions', hover_name = 'Country', color = 'Country', height=900)"
      ],
      "metadata": {
        "id": "cPrLPTPZN3kB"
      },
      "execution_count": null,
      "outputs": []
    },
    {
      "cell_type": "markdown",
      "source": [
        "### Treemap"
      ],
      "metadata": {
        "id": "17VT5rXXJJKN"
      }
    },
    {
      "cell_type": "code",
      "source": [
        "px.treemap(dfhist, path=['Country Group', 'Country'], values = \"GDP\", hover_name = 'Country', color = 'Total Emissions', height=700)"
      ],
      "metadata": {
        "id": "XDA3CmJQJsYC"
      },
      "execution_count": null,
      "outputs": []
    },
    {
      "cell_type": "code",
      "source": [
        "px.treemap(dfhist, path=['Country Group', 'Country'], values = \"Population\", hover_name = 'Country', color = 'Total Emissions', height=700)"
      ],
      "metadata": {
        "id": "04mZPwE1Qlnj"
      },
      "execution_count": null,
      "outputs": []
    },
    {
      "cell_type": "code",
      "source": [
        "px.treemap(dfhist, path=['Country Group', 'Country'], values = \"GDP_per capita\", hover_name = 'Country', color = 'Total Emissions', height=700)"
      ],
      "metadata": {
        "id": "mSRHZ9E3Qldb"
      },
      "execution_count": null,
      "outputs": []
    },
    {
      "cell_type": "code",
      "source": [
        "px.treemap(dfhist, path=['Country Group', 'Country'], values = \"Total Emissions\", hover_name = 'Country', color = 'Total Emissions', height=700)"
      ],
      "metadata": {
        "id": "BS5GAQvrQlRC"
      },
      "execution_count": null,
      "outputs": []
    },
    {
      "cell_type": "code",
      "source": [
        "Emisiones_final_2019_cluster.to_csv(\"/content/drive/MyDrive/BOOTCAMP DATA SCIENCE/PROYECTO NUCLIO/DATASETS FINALES/Emisiones_final_2019_cluster\")"
      ],
      "metadata": {
        "id": "J6Tn-9gppKmy"
      },
      "execution_count": null,
      "outputs": []
    },
    {
      "cell_type": "markdown",
      "source": [
        "# Dataset preparation"
      ],
      "metadata": {
        "id": "nlW91RBdg5hH"
      }
    },
    {
      "cell_type": "code",
      "source": [
        "Cluster = pd.read_csv (\"/content/drive/MyDrive/BOOTCAMP DATA SCIENCE/PROYECTO NUCLIO/CLUSTERING/Cluster.csv\", index_col = 0)"
      ],
      "metadata": {
        "id": "lZWc8HPqDGlH"
      },
      "execution_count": null,
      "outputs": []
    },
    {
      "cell_type": "code",
      "source": [
        "Cluster.info()"
      ],
      "metadata": {
        "id": "dMtu-X79DiJj"
      },
      "execution_count": null,
      "outputs": []
    },
    {
      "cell_type": "code",
      "source": [
        "Cluster[\"Country Group\"].unique()"
      ],
      "metadata": {
        "id": "rEzszBSxoiU6"
      },
      "execution_count": null,
      "outputs": []
    },
    {
      "cell_type": "markdown",
      "source": [
        "#### Country Group by continent"
      ],
      "metadata": {
        "id": "8CqTCjKMiV0u"
      }
    },
    {
      "cell_type": "code",
      "source": [
        "Cluster = Cluster.merge(Country_Group, how = \"left\", on = 'Country')"
      ],
      "metadata": {
        "id": "jX4Tt7YqIW_i"
      },
      "execution_count": null,
      "outputs": []
    },
    {
      "cell_type": "code",
      "source": [
        "Cluster.insert (1, \"Country Group\", Cluster[\"Country Group_y\"])"
      ],
      "metadata": {
        "id": "jEGWeTY7HUER"
      },
      "execution_count": null,
      "outputs": []
    },
    {
      "cell_type": "code",
      "source": [
        "Cluster.drop(\"Country Group_y\", axis = 1, inplace = True)"
      ],
      "metadata": {
        "id": "hgL-kM4qHIbi"
      },
      "execution_count": null,
      "outputs": []
    },
    {
      "cell_type": "code",
      "source": [
        " Cluster.iloc[::2]"
      ],
      "metadata": {
        "id": "Kre0_GixK1lM"
      },
      "execution_count": null,
      "outputs": []
    },
    {
      "cell_type": "code",
      "source": [
        "Cluster =  Cluster.iloc[::2].reset_index (drop = True, inplace = True)"
      ],
      "metadata": {
        "id": "9pzpGgd5KvvT"
      },
      "execution_count": null,
      "outputs": []
    },
    {
      "cell_type": "code",
      "source": [
        "Cluster = Cluster[(Cluster['Country Group'] == \"Africa\") | (Cluster['Country Group'] == \"Asia\") | (Cluster['Country Group'] == \"Americas\") | (Cluster['Country Group'] == \"Europe\") | (Cluster['Country Group'] == \"Oceania\")].reset_index (drop = True, inplace = True)"
      ],
      "metadata": {
        "id": "2BMcPVbNIWCX"
      },
      "execution_count": null,
      "outputs": []
    },
    {
      "cell_type": "code",
      "source": [
        "Cluster[\"Country Group\"].unique()"
      ],
      "metadata": {
        "id": "UVXxi8bRIDRz"
      },
      "execution_count": null,
      "outputs": []
    },
    {
      "cell_type": "code",
      "source": [
        "Cluster.head()"
      ],
      "metadata": {
        "id": "yOOdPar8luRi"
      },
      "execution_count": null,
      "outputs": []
    },
    {
      "cell_type": "markdown",
      "source": [
        "#### New features\n",
        "\n",
        "- Annual CO2 growth.\n",
        "- Annual CO2 per capita.\n",
        "- Production per GDP.\n",
        "- Production per GDP per capita.\n",
        "- Annual consumption-based CO2 emissions.\n",
        "- Carbon intensity."
      ],
      "metadata": {
        "id": "XpMpQ4MkpZTP"
      }
    },
    {
      "cell_type": "code",
      "source": [
        "Annual_CO2_growth = pd.read_csv(\"/content/drive/MyDrive/BOOTCAMP DATA SCIENCE/PROYECTO NUCLIO/absolute-change-co2 (1).csv\", sep=\",\", encoding = \"ISO-8859-1\")"
      ],
      "metadata": {
        "id": "MNCRV-HIp3Dr"
      },
      "execution_count": null,
      "outputs": []
    },
    {
      "cell_type": "code",
      "source": [
        "Annual_CO2_growth.info()"
      ],
      "metadata": {
        "id": "mhbVWkAprGRJ"
      },
      "execution_count": null,
      "outputs": []
    },
    {
      "cell_type": "code",
      "source": [
        "Annual_CO2_growth = Annual_CO2_growth[Annual_CO2_growth[\"Year\"] == 2019]"
      ],
      "metadata": {
        "id": "dIKACrSis11b"
      },
      "execution_count": null,
      "outputs": []
    },
    {
      "cell_type": "code",
      "source": [
        "Annual_CO2_growth[\"Country\"] = Annual_CO2_growth[\"Entity\"]"
      ],
      "metadata": {
        "id": "G7-d5oCUs9JM"
      },
      "execution_count": null,
      "outputs": []
    },
    {
      "cell_type": "code",
      "source": [
        "Annual_CO2_growth = Annual_CO2_growth[[\"Country\", \"Annual CO2 emissions growth (abs)\"]]"
      ],
      "metadata": {
        "id": "FsUPs-MytL7-"
      },
      "execution_count": null,
      "outputs": []
    },
    {
      "cell_type": "code",
      "source": [
        "Cluster = Cluster.merge(Annual_CO2_growth, how = \"left\", on = \"Country\")"
      ],
      "metadata": {
        "id": "BmoZxw5ZtU38"
      },
      "execution_count": null,
      "outputs": []
    },
    {
      "cell_type": "code",
      "source": [
        "Cluster[\"emissions_growth_per_capita\"] = Cluster[\"Annual CO2 emissions growth (abs)\"] / Cluster[\"total_population\"]"
      ],
      "metadata": {
        "id": "zMZ-UFzVt4xl"
      },
      "execution_count": null,
      "outputs": []
    },
    {
      "cell_type": "code",
      "source": [
        "Consumption_based_CO2emissions= pd.read_csv(\"/content/drive/MyDrive/BOOTCAMP DATA SCIENCE/PROYECTO NUCLIO/production-vs-consumption-co2-emissions (1).csv\", sep=\",\", encoding = \"ISO-8859-1\")"
      ],
      "metadata": {
        "id": "mN2YqI4srFrC"
      },
      "execution_count": null,
      "outputs": []
    },
    {
      "cell_type": "code",
      "source": [
        "Consumption_based_CO2emissions.head()\n"
      ],
      "metadata": {
        "id": "XFv5oTSTuUwa"
      },
      "execution_count": null,
      "outputs": []
    },
    {
      "cell_type": "code",
      "source": [
        "Consumption_based_CO2emissions[\"Country\"] = Consumption_based_CO2emissions[\"Entity\"]"
      ],
      "metadata": {
        "id": "K1xMrFJ-ufUc"
      },
      "execution_count": null,
      "outputs": []
    },
    {
      "cell_type": "code",
      "source": [
        "Consumption_based_CO2emissions = Consumption_based_CO2emissions[Consumption_based_CO2emissions[\"Year\"] == 2019]"
      ],
      "metadata": {
        "id": "8EgnINe-uwM-"
      },
      "execution_count": null,
      "outputs": []
    },
    {
      "cell_type": "code",
      "source": [
        "Consumption_based_CO2emissions = Consumption_based_CO2emissions[[\"Country\", \"Annual consumption-based CO2 emissions\"]]"
      ],
      "metadata": {
        "id": "TKXuNo2nu4oa"
      },
      "execution_count": null,
      "outputs": []
    },
    {
      "cell_type": "code",
      "source": [
        "Cluster = Cluster.merge(Consumption_based_CO2emissions, how = \"left\", on = \"Country\")"
      ],
      "metadata": {
        "id": "wP8Fr4iyvDq8"
      },
      "execution_count": null,
      "outputs": []
    },
    {
      "cell_type": "code",
      "source": [
        "Cluster[\"consumption_CO2emissions_per_capita\"] = Cluster[\"Annual consumption-based CO2 emissions\"] / Cluster[\"total_population\"]"
      ],
      "metadata": {
        "id": "CbiU_E7avQWW"
      },
      "execution_count": null,
      "outputs": []
    },
    {
      "cell_type": "code",
      "source": [
        "Cluster.info()"
      ],
      "metadata": {
        "id": "_N3lgB7ipYsT"
      },
      "execution_count": null,
      "outputs": []
    },
    {
      "cell_type": "code",
      "source": [
        "Cluster[\"production_per_GDP\"] = Cluster[\"Total Production\"] / Cluster[\"GDP_2019\"]"
      ],
      "metadata": {
        "id": "Aqa-Ya_DwbK9"
      },
      "execution_count": null,
      "outputs": []
    },
    {
      "cell_type": "code",
      "source": [
        "Cluster[\"production_per_GDP_per_capita\"] = Cluster[\"production_per_GDP\"] / Cluster[\"total_population\"]"
      ],
      "metadata": {
        "id": "VjTfrJ8HwkP3"
      },
      "execution_count": null,
      "outputs": []
    },
    {
      "cell_type": "code",
      "source": [
        "Cluster[\"emissions_per_GDP_per_capita\"] = Cluster[\"emissions_per_GDP\"] / Cluster[\"total_population\"]"
      ],
      "metadata": {
        "id": "94kgNonSxeD_"
      },
      "execution_count": null,
      "outputs": []
    },
    {
      "cell_type": "code",
      "source": [
        "Cluster[\"emissions_per_production_per_capita\"] = Cluster[\"emissions_per_production\"] / Cluster[\"total_population\"]"
      ],
      "metadata": {
        "id": "BKHGVU2txbE3"
      },
      "execution_count": null,
      "outputs": []
    },
    {
      "cell_type": "markdown",
      "source": [
        "Adding Carbon Intensity (CO2), amount of CO2 used by energy unit\n",
        "\n"
      ],
      "metadata": {
        "id": "IIcdyNLgPMJH"
      }
    },
    {
      "cell_type": "code",
      "source": [
        "Carbon_Intensity = pd.read_csv(\"/content/drive/MyDrive/BOOTCAMP DATA SCIENCE/PROYECTO NUCLIO/CLUSTERING/co2-per-unit-energy.csv\",sep=\",\", encoding = \"ISO-8859-1\")"
      ],
      "metadata": {
        "id": "LXAeJI10Rk8d"
      },
      "execution_count": null,
      "outputs": []
    },
    {
      "cell_type": "code",
      "source": [
        "Carbon_Intensity[\"Country\"] = Carbon_Intensity[\"Entity\"]"
      ],
      "metadata": {
        "id": "cOZCB4izSzj4"
      },
      "execution_count": null,
      "outputs": []
    },
    {
      "cell_type": "code",
      "source": [
        "Carbon_Intensity.drop(\"Entity\", axis = 1, inplace = True)"
      ],
      "metadata": {
        "id": "2yaCGyCHS6Lt"
      },
      "execution_count": null,
      "outputs": []
    },
    {
      "cell_type": "code",
      "source": [
        "Carbon_Intensity[\"CO2 per unit energy\"] = Carbon_Intensity[\"Annual CO2 emissions per unit energy (kg per kilowatt-hour)\"]"
      ],
      "metadata": {
        "id": "UchrmxXTTFII"
      },
      "execution_count": null,
      "outputs": []
    },
    {
      "cell_type": "code",
      "source": [
        "Carbon_Intensity.drop(\"Annual CO2 emissions per unit energy (kg per kilowatt-hour)\", axis = 1, inplace = True)"
      ],
      "metadata": {
        "id": "zHyM5XbnTRl5"
      },
      "execution_count": null,
      "outputs": []
    },
    {
      "cell_type": "code",
      "source": [
        "Carbon_Intensity = Carbon_Intensity[Carbon_Intensity[\"Year\"] == 2019]"
      ],
      "metadata": {
        "id": "NfEkkRORTh4K"
      },
      "execution_count": null,
      "outputs": []
    },
    {
      "cell_type": "code",
      "source": [
        "Carbon_Intensity = Carbon_Intensity[[\"Country\", \"CO2 per unit energy\"]]"
      ],
      "metadata": {
        "id": "9O_ELhw8TRhy"
      },
      "execution_count": null,
      "outputs": []
    },
    {
      "cell_type": "code",
      "source": [
        "Carbon_Intensity.reset_index(drop = True, inplace = True)"
      ],
      "metadata": {
        "id": "LNbpvAIJUUzs"
      },
      "execution_count": null,
      "outputs": []
    },
    {
      "cell_type": "code",
      "source": [
        "Cluster = Cluster.merge(Carbon_Intensity, how = \"left\", on = \"Country\")"
      ],
      "metadata": {
        "id": "H8CaYUUuUd7f"
      },
      "execution_count": null,
      "outputs": []
    },
    {
      "cell_type": "code",
      "source": [
        "Cluster[\"CO2_per_unit_enery_per_capita\"] = Cluster[\"CO2 per unit energy\"] / Cluster [\"total_population\"]"
      ],
      "metadata": {
        "id": "g31xCT052LPm"
      },
      "execution_count": null,
      "outputs": []
    },
    {
      "cell_type": "code",
      "source": [
        "Cluster.to_csv(\"/content/drive/MyDrive/BOOTCAMP DATA SCIENCE/PROYECTO NUCLIO/CLUSTERING/Cluster.csv\")"
      ],
      "metadata": {
        "id": "0gamexqcvqJL"
      },
      "execution_count": null,
      "outputs": []
    },
    {
      "cell_type": "markdown",
      "source": [
        "#### Imputing nulls"
      ],
      "metadata": {
        "id": "yMA0QQUthHzt"
      }
    },
    {
      "cell_type": "code",
      "source": [
        "Cluster = pd.read_csv (\"/content/drive/MyDrive/BOOTCAMP DATA SCIENCE/PROYECTO NUCLIO/CLUSTERING/Cluster.csv\", index_col = 0)"
      ],
      "metadata": {
        "id": "-dkRBGYv_-Dg"
      },
      "execution_count": 83,
      "outputs": []
    },
    {
      "cell_type": "code",
      "source": [
        "Cluster.isnull().sum()"
      ],
      "metadata": {
        "id": "vazCaIj-DqEf",
        "colab": {
          "base_uri": "https://localhost:8080/"
        },
        "outputId": "f9b863df-f76f-49d4-d805-d162d243757a"
      },
      "execution_count": 84,
      "outputs": [
        {
          "output_type": "execute_result",
          "data": {
            "text/plain": [
              "Country                                     0\n",
              "total_emissions                             3\n",
              "total_population                            0\n",
              "%_population                                0\n",
              "GDP_2019                                    7\n",
              "%_GDP_2019                                  7\n",
              "%_emissions                                 3\n",
              "emissions_per_capita                        3\n",
              "emissions_per_capita_mundial                3\n",
              "GDP19_per_capita                            7\n",
              "GDP19_per_capita_mundial                    7\n",
              "emissions_per_GDP                          10\n",
              "emissions_per_GDP_mundial                   3\n",
              "production_per_capita                       3\n",
              "%_production_mundial                        3\n",
              "emissions_per_production                    6\n",
              "emissions_per_production_mundial            3\n",
              "Total Production                            3\n",
              "Annual CO2 emissions growth (abs)          21\n",
              "emissions_growth_per_capita                21\n",
              "Annual consumption-based CO2 emissions     91\n",
              "consumption_CO2emissions_per_capita        91\n",
              "production_per_GDP                          7\n",
              "production_per_GDP_per_capita               7\n",
              "emissions_per_GDP_per_capita               10\n",
              "emissions_per_production_per_capita         6\n",
              "CO2 per unit energy                       127\n",
              "CO2_per_unit_enery_per_capita             127\n",
              "dtype: int64"
            ]
          },
          "metadata": {},
          "execution_count": 84
        }
      ]
    },
    {
      "cell_type": "code",
      "source": [
        "Cluster = Cluster.set_index([\"Country\"])"
      ],
      "metadata": {
        "id": "Ao_tnf7zD6In"
      },
      "execution_count": 85,
      "outputs": []
    },
    {
      "cell_type": "code",
      "source": [
        "Cluster.info()"
      ],
      "metadata": {
        "id": "ZM7pm8ibCEKi",
        "colab": {
          "base_uri": "https://localhost:8080/"
        },
        "outputId": "541b8205-0c53-4a18-de6d-d851a4e70f21"
      },
      "execution_count": 86,
      "outputs": [
        {
          "output_type": "stream",
          "name": "stdout",
          "text": [
            "<class 'pandas.core.frame.DataFrame'>\n",
            "Index: 197 entries, Afghanistan to Zimbabwe\n",
            "Data columns (total 27 columns):\n",
            " #   Column                                  Non-Null Count  Dtype  \n",
            "---  ------                                  --------------  -----  \n",
            " 0   total_emissions                         194 non-null    float64\n",
            " 1   total_population                        197 non-null    float64\n",
            " 2   %_population                            197 non-null    float64\n",
            " 3   GDP_2019                                190 non-null    float64\n",
            " 4   %_GDP_2019                              190 non-null    float64\n",
            " 5   %_emissions                             194 non-null    float64\n",
            " 6   emissions_per_capita                    194 non-null    float64\n",
            " 7   emissions_per_capita_mundial            194 non-null    float64\n",
            " 8   GDP19_per_capita                        190 non-null    float64\n",
            " 9   GDP19_per_capita_mundial                190 non-null    float64\n",
            " 10  emissions_per_GDP                       187 non-null    float64\n",
            " 11  emissions_per_GDP_mundial               194 non-null    float64\n",
            " 12  production_per_capita                   194 non-null    float64\n",
            " 13  %_production_mundial                    194 non-null    float64\n",
            " 14  emissions_per_production                191 non-null    float64\n",
            " 15  emissions_per_production_mundial        194 non-null    float64\n",
            " 16  Total Production                        194 non-null    float64\n",
            " 17  Annual CO2 emissions growth (abs)       176 non-null    float64\n",
            " 18  emissions_growth_per_capita             176 non-null    float64\n",
            " 19  Annual consumption-based CO2 emissions  106 non-null    float64\n",
            " 20  consumption_CO2emissions_per_capita     106 non-null    float64\n",
            " 21  production_per_GDP                      190 non-null    float64\n",
            " 22  production_per_GDP_per_capita           190 non-null    float64\n",
            " 23  emissions_per_GDP_per_capita            187 non-null    float64\n",
            " 24  emissions_per_production_per_capita     191 non-null    float64\n",
            " 25  CO2 per unit energy                     70 non-null     float64\n",
            " 26  CO2_per_unit_enery_per_capita           70 non-null     float64\n",
            "dtypes: float64(27)\n",
            "memory usage: 43.1+ KB\n"
          ]
        }
      ]
    },
    {
      "cell_type": "code",
      "execution_count": 87,
      "metadata": {
        "ExecuteTime": {
          "end_time": "2021-11-14T15:55:35.633866Z",
          "start_time": "2021-11-14T15:55:33.941Z"
        },
        "id": "E1RuN6myeUkZ"
      },
      "outputs": [],
      "source": [
        "knn_imputer = KNNImputer()\n",
        "df_imputed = knn_imputer.fit_transform(Cluster)"
      ]
    },
    {
      "cell_type": "code",
      "execution_count": 88,
      "metadata": {
        "ExecuteTime": {
          "end_time": "2021-11-14T15:55:35.644622Z",
          "start_time": "2021-11-14T15:55:33.944Z"
        },
        "id": "OFVK4Dn9g8kV"
      },
      "outputs": [],
      "source": [
        "df_imputed = pd.DataFrame(df_imputed, index = Cluster.index, columns = Cluster.columns)"
      ]
    },
    {
      "cell_type": "code",
      "source": [
        "df_imputed.isnull().sum()"
      ],
      "metadata": {
        "id": "S6QBao7tqJ4Q",
        "colab": {
          "base_uri": "https://localhost:8080/"
        },
        "outputId": "1bb5b29a-449a-4e04-ae5c-204955980923"
      },
      "execution_count": 89,
      "outputs": [
        {
          "output_type": "execute_result",
          "data": {
            "text/plain": [
              "total_emissions                           0\n",
              "total_population                          0\n",
              "%_population                              0\n",
              "GDP_2019                                  0\n",
              "%_GDP_2019                                0\n",
              "%_emissions                               0\n",
              "emissions_per_capita                      0\n",
              "emissions_per_capita_mundial              0\n",
              "GDP19_per_capita                          0\n",
              "GDP19_per_capita_mundial                  0\n",
              "emissions_per_GDP                         0\n",
              "emissions_per_GDP_mundial                 0\n",
              "production_per_capita                     0\n",
              "%_production_mundial                      0\n",
              "emissions_per_production                  0\n",
              "emissions_per_production_mundial          0\n",
              "Total Production                          0\n",
              "Annual CO2 emissions growth (abs)         0\n",
              "emissions_growth_per_capita               0\n",
              "Annual consumption-based CO2 emissions    0\n",
              "consumption_CO2emissions_per_capita       0\n",
              "production_per_GDP                        0\n",
              "production_per_GDP_per_capita             0\n",
              "emissions_per_GDP_per_capita              0\n",
              "emissions_per_production_per_capita       0\n",
              "CO2 per unit energy                       0\n",
              "CO2_per_unit_enery_per_capita             0\n",
              "dtype: int64"
            ]
          },
          "metadata": {},
          "execution_count": 89
        }
      ]
    },
    {
      "cell_type": "markdown",
      "source": [
        "\n",
        "\n",
        "#### Outliers exploration "
      ],
      "metadata": {
        "id": "f1zgaLFVhPxz"
      }
    },
    {
      "cell_type": "code",
      "source": [
        "df_imputed[df_imputed[\"total_emissions\"] > 400000]"
      ],
      "metadata": {
        "id": "zX__zEl67o3G",
        "colab": {
          "base_uri": "https://localhost:8080/",
          "height": 595
        },
        "outputId": "b6c93bca-8fee-42f8-d265-842d27abf9ce"
      },
      "execution_count": 90,
      "outputs": [
        {
          "output_type": "execute_result",
          "data": {
            "text/plain": [
              "                                  total_emissions  total_population  \\\n",
              "Country                                                               \n",
              "Argentina                            4.147543e+05         44780.677   \n",
              "Brazil                               2.432079e+06        211049.527   \n",
              "China                                1.583607e+06       1465634.161   \n",
              "Democratic Republic of the Congo     1.303446e+06         86790.567   \n",
              "India                                1.537299e+06       1366417.754   \n",
              "Indonesia                            2.298101e+06        270625.568   \n",
              "Myanmar                              4.082009e+05         54045.420   \n",
              "Pakistan                             4.242045e+05        216565.318   \n",
              "United States of America             1.072814e+06        329064.917   \n",
              "\n",
              "                                  %_population      GDP_2019  %_GDP_2019  \\\n",
              "Country                                                                    \n",
              "Argentina                             0.004934  4.496635e+05    0.004447   \n",
              "Brazil                                0.023253  1.847796e+06    0.018274   \n",
              "China                                 0.161481  1.476250e+07    0.145995   \n",
              "Democratic Republic of the Congo      0.009562  4.731962e+04    0.000468   \n",
              "India                                 0.150549  2.891582e+06    0.028596   \n",
              "Indonesia                             0.029817  1.119191e+06    0.011068   \n",
              "Myanmar                               0.005955  7.678453e+04    0.000759   \n",
              "Pakistan                              0.023861  2.569963e+05    0.002542   \n",
              "United States of America              0.036256  2.143323e+07    0.211965   \n",
              "\n",
              "                                  %_emissions  emissions_per_capita  \\\n",
              "Country                                                               \n",
              "Argentina                            0.018221              9.261904   \n",
              "Brazil                               0.106846             11.523738   \n",
              "China                                0.069571              1.080493   \n",
              "Democratic Republic of the Congo     0.057263             15.018290   \n",
              "India                                0.067537              1.125058   \n",
              "Indonesia                            0.100960              8.491812   \n",
              "Myanmar                              0.017933              7.552924   \n",
              "Pakistan                             0.018636              1.958783   \n",
              "United States of America             0.047131              3.260191   \n",
              "\n",
              "                                  emissions_per_capita_mundial  \\\n",
              "Country                                                          \n",
              "Argentina                                             0.045697   \n",
              "Brazil                                                0.267961   \n",
              "China                                                 0.174479   \n",
              "Democratic Republic of the Congo                      0.143611   \n",
              "India                                                 0.169376   \n",
              "Indonesia                                             0.253200   \n",
              "Myanmar                                               0.044975   \n",
              "Pakistan                                              0.046738   \n",
              "United States of America                              0.118200   \n",
              "\n",
              "                                  GDP19_per_capita  GDP19_per_capita_mundial  \\\n",
              "Country                                                                        \n",
              "Argentina                                10.041463                  0.049543   \n",
              "Brazil                                    8.755271                  0.203586   \n",
              "China                                    10.072434                  1.626502   \n",
              "Democratic Republic of the Congo          0.545216                  0.005214   \n",
              "India                                     2.116177                  0.318589   \n",
              "Indonesia                                 4.135569                  0.123310   \n",
              "Myanmar                                   1.420741                  0.008460   \n",
              "Pakistan                                  1.186692                  0.028315   \n",
              "United States of America                 65.133732                  2.361468   \n",
              "\n",
              "                                  ...  Annual CO2 emissions growth (abs)  \\\n",
              "Country                           ...                                      \n",
              "Argentina                         ...                        -13534040.0   \n",
              "Brazil                            ...                          2107858.0   \n",
              "China                             ...                        199999030.0   \n",
              "Democratic Republic of the Congo  ...                         -5672282.4   \n",
              "India                             ...                         26162431.0   \n",
              "Indonesia                         ...                         45709708.0   \n",
              "Myanmar                           ...                          3367315.0   \n",
              "Pakistan                          ...                         -4016908.0   \n",
              "United States of America          ...                         14835938.2   \n",
              "\n",
              "                                  emissions_growth_per_capita  \\\n",
              "Country                                                         \n",
              "Argentina                                         -302.229464   \n",
              "Brazil                                               9.987504   \n",
              "China                                              136.459040   \n",
              "Democratic Republic of the Congo                    55.313478   \n",
              "India                                               19.146729   \n",
              "Indonesia                                          168.903878   \n",
              "Myanmar                                             62.305280   \n",
              "Pakistan                                           -18.548252   \n",
              "United States of America                           142.555724   \n",
              "\n",
              "                                  Annual consumption-based CO2 emissions  \\\n",
              "Country                                                                    \n",
              "Argentina                                                   1.665991e+08   \n",
              "Brazil                                                      5.039806e+08   \n",
              "China                                                       9.442835e+09   \n",
              "Democratic Republic of the Congo                            3.487187e+08   \n",
              "India                                                       2.410473e+09   \n",
              "Indonesia                                                   6.733582e+08   \n",
              "Myanmar                                                     2.963827e+08   \n",
              "Pakistan                                                    2.395949e+08   \n",
              "United States of America                                    8.071062e+08   \n",
              "\n",
              "                                  consumption_CO2emissions_per_capita  \\\n",
              "Country                                                                 \n",
              "Argentina                                                 3720.335133   \n",
              "Brazil                                                    2387.973053   \n",
              "China                                                     6442.832122   \n",
              "Democratic Republic of the Congo                          4146.416113   \n",
              "India                                                     1764.081796   \n",
              "Indonesia                                                 2488.154336   \n",
              "Myanmar                                                   7527.149536   \n",
              "Pakistan                                                  1106.339898   \n",
              "United States of America                                  2879.629375   \n",
              "\n",
              "                                  production_per_GDP  \\\n",
              "Country                                                \n",
              "Argentina                                1030.411378   \n",
              "Brazil                                   1332.753095   \n",
              "China                                     285.403659   \n",
              "Democratic Republic of the Congo         2507.472672   \n",
              "India                                     974.342241   \n",
              "Indonesia                                 892.802285   \n",
              "Myanmar                                  2057.029546   \n",
              "Pakistan                                 1617.171690   \n",
              "United States of America                   84.584807   \n",
              "\n",
              "                                  production_per_GDP_per_capita  \\\n",
              "Country                                                           \n",
              "Argentina                                              0.023010   \n",
              "Brazil                                                 0.006315   \n",
              "China                                                  0.000195   \n",
              "Democratic Republic of the Congo                       0.028891   \n",
              "India                                                  0.000713   \n",
              "Indonesia                                              0.003299   \n",
              "Myanmar                                                0.038061   \n",
              "Pakistan                                               0.007467   \n",
              "United States of America                               0.000257   \n",
              "\n",
              "                                  emissions_per_GDP_per_capita  \\\n",
              "Country                                                          \n",
              "Argentina                                         2.059741e-05   \n",
              "Brazil                                            6.236478e-06   \n",
              "China                                             7.319170e-08   \n",
              "Democratic Republic of the Congo                  3.173797e-04   \n",
              "India                                             3.890803e-07   \n",
              "Indonesia                                         7.587457e-06   \n",
              "Myanmar                                           9.836517e-05   \n",
              "Pakistan                                          7.621833e-06   \n",
              "United States of America                          1.521092e-07   \n",
              "\n",
              "                                  emissions_per_production_per_capita  \\\n",
              "Country                                                                 \n",
              "Argentina                                                1.998950e-08   \n",
              "Brazil                                                   4.679395e-09   \n",
              "China                                                    2.564498e-10   \n",
              "Democratic Republic of the Congo                         1.265736e-07   \n",
              "India                                                    3.993261e-10   \n",
              "Indonesia                                                8.498474e-09   \n",
              "Myanmar                                                  4.781904e-08   \n",
              "Pakistan                                                 4.713063e-09   \n",
              "United States of America                                 1.798304e-09   \n",
              "\n",
              "                                  CO2 per unit energy  \\\n",
              "Country                                                 \n",
              "Argentina                                     0.17420   \n",
              "Brazil                                        0.14100   \n",
              "China                                         0.26650   \n",
              "Democratic Republic of the Congo              0.21784   \n",
              "India                                         0.27760   \n",
              "Indonesia                                     0.26690   \n",
              "Myanmar                                       0.20422   \n",
              "Pakistan                                      0.23690   \n",
              "United States of America                      0.20678   \n",
              "\n",
              "                                  CO2_per_unit_enery_per_capita  \n",
              "Country                                                          \n",
              "Argentina                                          3.890071e-06  \n",
              "Brazil                                             6.680896e-07  \n",
              "China                                              1.818326e-07  \n",
              "Democratic Republic of the Congo                   5.131098e-06  \n",
              "India                                              2.031590e-07  \n",
              "Indonesia                                          9.862335e-07  \n",
              "Myanmar                                            5.250443e-06  \n",
              "Pakistan                                           1.093896e-06  \n",
              "United States of America                           1.649901e-06  \n",
              "\n",
              "[9 rows x 27 columns]"
            ],
            "text/html": [
              "\n",
              "  <div id=\"df-498ac909-4954-4616-bc5c-6800d688ed84\">\n",
              "    <div class=\"colab-df-container\">\n",
              "      <div>\n",
              "<style scoped>\n",
              "    .dataframe tbody tr th:only-of-type {\n",
              "        vertical-align: middle;\n",
              "    }\n",
              "\n",
              "    .dataframe tbody tr th {\n",
              "        vertical-align: top;\n",
              "    }\n",
              "\n",
              "    .dataframe thead th {\n",
              "        text-align: right;\n",
              "    }\n",
              "</style>\n",
              "<table border=\"1\" class=\"dataframe\">\n",
              "  <thead>\n",
              "    <tr style=\"text-align: right;\">\n",
              "      <th></th>\n",
              "      <th>total_emissions</th>\n",
              "      <th>total_population</th>\n",
              "      <th>%_population</th>\n",
              "      <th>GDP_2019</th>\n",
              "      <th>%_GDP_2019</th>\n",
              "      <th>%_emissions</th>\n",
              "      <th>emissions_per_capita</th>\n",
              "      <th>emissions_per_capita_mundial</th>\n",
              "      <th>GDP19_per_capita</th>\n",
              "      <th>GDP19_per_capita_mundial</th>\n",
              "      <th>...</th>\n",
              "      <th>Annual CO2 emissions growth (abs)</th>\n",
              "      <th>emissions_growth_per_capita</th>\n",
              "      <th>Annual consumption-based CO2 emissions</th>\n",
              "      <th>consumption_CO2emissions_per_capita</th>\n",
              "      <th>production_per_GDP</th>\n",
              "      <th>production_per_GDP_per_capita</th>\n",
              "      <th>emissions_per_GDP_per_capita</th>\n",
              "      <th>emissions_per_production_per_capita</th>\n",
              "      <th>CO2 per unit energy</th>\n",
              "      <th>CO2_per_unit_enery_per_capita</th>\n",
              "    </tr>\n",
              "    <tr>\n",
              "      <th>Country</th>\n",
              "      <th></th>\n",
              "      <th></th>\n",
              "      <th></th>\n",
              "      <th></th>\n",
              "      <th></th>\n",
              "      <th></th>\n",
              "      <th></th>\n",
              "      <th></th>\n",
              "      <th></th>\n",
              "      <th></th>\n",
              "      <th></th>\n",
              "      <th></th>\n",
              "      <th></th>\n",
              "      <th></th>\n",
              "      <th></th>\n",
              "      <th></th>\n",
              "      <th></th>\n",
              "      <th></th>\n",
              "      <th></th>\n",
              "      <th></th>\n",
              "      <th></th>\n",
              "    </tr>\n",
              "  </thead>\n",
              "  <tbody>\n",
              "    <tr>\n",
              "      <th>Argentina</th>\n",
              "      <td>4.147543e+05</td>\n",
              "      <td>44780.677</td>\n",
              "      <td>0.004934</td>\n",
              "      <td>4.496635e+05</td>\n",
              "      <td>0.004447</td>\n",
              "      <td>0.018221</td>\n",
              "      <td>9.261904</td>\n",
              "      <td>0.045697</td>\n",
              "      <td>10.041463</td>\n",
              "      <td>0.049543</td>\n",
              "      <td>...</td>\n",
              "      <td>-13534040.0</td>\n",
              "      <td>-302.229464</td>\n",
              "      <td>1.665991e+08</td>\n",
              "      <td>3720.335133</td>\n",
              "      <td>1030.411378</td>\n",
              "      <td>0.023010</td>\n",
              "      <td>2.059741e-05</td>\n",
              "      <td>1.998950e-08</td>\n",
              "      <td>0.17420</td>\n",
              "      <td>3.890071e-06</td>\n",
              "    </tr>\n",
              "    <tr>\n",
              "      <th>Brazil</th>\n",
              "      <td>2.432079e+06</td>\n",
              "      <td>211049.527</td>\n",
              "      <td>0.023253</td>\n",
              "      <td>1.847796e+06</td>\n",
              "      <td>0.018274</td>\n",
              "      <td>0.106846</td>\n",
              "      <td>11.523738</td>\n",
              "      <td>0.267961</td>\n",
              "      <td>8.755271</td>\n",
              "      <td>0.203586</td>\n",
              "      <td>...</td>\n",
              "      <td>2107858.0</td>\n",
              "      <td>9.987504</td>\n",
              "      <td>5.039806e+08</td>\n",
              "      <td>2387.973053</td>\n",
              "      <td>1332.753095</td>\n",
              "      <td>0.006315</td>\n",
              "      <td>6.236478e-06</td>\n",
              "      <td>4.679395e-09</td>\n",
              "      <td>0.14100</td>\n",
              "      <td>6.680896e-07</td>\n",
              "    </tr>\n",
              "    <tr>\n",
              "      <th>China</th>\n",
              "      <td>1.583607e+06</td>\n",
              "      <td>1465634.161</td>\n",
              "      <td>0.161481</td>\n",
              "      <td>1.476250e+07</td>\n",
              "      <td>0.145995</td>\n",
              "      <td>0.069571</td>\n",
              "      <td>1.080493</td>\n",
              "      <td>0.174479</td>\n",
              "      <td>10.072434</td>\n",
              "      <td>1.626502</td>\n",
              "      <td>...</td>\n",
              "      <td>199999030.0</td>\n",
              "      <td>136.459040</td>\n",
              "      <td>9.442835e+09</td>\n",
              "      <td>6442.832122</td>\n",
              "      <td>285.403659</td>\n",
              "      <td>0.000195</td>\n",
              "      <td>7.319170e-08</td>\n",
              "      <td>2.564498e-10</td>\n",
              "      <td>0.26650</td>\n",
              "      <td>1.818326e-07</td>\n",
              "    </tr>\n",
              "    <tr>\n",
              "      <th>Democratic Republic of the Congo</th>\n",
              "      <td>1.303446e+06</td>\n",
              "      <td>86790.567</td>\n",
              "      <td>0.009562</td>\n",
              "      <td>4.731962e+04</td>\n",
              "      <td>0.000468</td>\n",
              "      <td>0.057263</td>\n",
              "      <td>15.018290</td>\n",
              "      <td>0.143611</td>\n",
              "      <td>0.545216</td>\n",
              "      <td>0.005214</td>\n",
              "      <td>...</td>\n",
              "      <td>-5672282.4</td>\n",
              "      <td>55.313478</td>\n",
              "      <td>3.487187e+08</td>\n",
              "      <td>4146.416113</td>\n",
              "      <td>2507.472672</td>\n",
              "      <td>0.028891</td>\n",
              "      <td>3.173797e-04</td>\n",
              "      <td>1.265736e-07</td>\n",
              "      <td>0.21784</td>\n",
              "      <td>5.131098e-06</td>\n",
              "    </tr>\n",
              "    <tr>\n",
              "      <th>India</th>\n",
              "      <td>1.537299e+06</td>\n",
              "      <td>1366417.754</td>\n",
              "      <td>0.150549</td>\n",
              "      <td>2.891582e+06</td>\n",
              "      <td>0.028596</td>\n",
              "      <td>0.067537</td>\n",
              "      <td>1.125058</td>\n",
              "      <td>0.169376</td>\n",
              "      <td>2.116177</td>\n",
              "      <td>0.318589</td>\n",
              "      <td>...</td>\n",
              "      <td>26162431.0</td>\n",
              "      <td>19.146729</td>\n",
              "      <td>2.410473e+09</td>\n",
              "      <td>1764.081796</td>\n",
              "      <td>974.342241</td>\n",
              "      <td>0.000713</td>\n",
              "      <td>3.890803e-07</td>\n",
              "      <td>3.993261e-10</td>\n",
              "      <td>0.27760</td>\n",
              "      <td>2.031590e-07</td>\n",
              "    </tr>\n",
              "    <tr>\n",
              "      <th>Indonesia</th>\n",
              "      <td>2.298101e+06</td>\n",
              "      <td>270625.568</td>\n",
              "      <td>0.029817</td>\n",
              "      <td>1.119191e+06</td>\n",
              "      <td>0.011068</td>\n",
              "      <td>0.100960</td>\n",
              "      <td>8.491812</td>\n",
              "      <td>0.253200</td>\n",
              "      <td>4.135569</td>\n",
              "      <td>0.123310</td>\n",
              "      <td>...</td>\n",
              "      <td>45709708.0</td>\n",
              "      <td>168.903878</td>\n",
              "      <td>6.733582e+08</td>\n",
              "      <td>2488.154336</td>\n",
              "      <td>892.802285</td>\n",
              "      <td>0.003299</td>\n",
              "      <td>7.587457e-06</td>\n",
              "      <td>8.498474e-09</td>\n",
              "      <td>0.26690</td>\n",
              "      <td>9.862335e-07</td>\n",
              "    </tr>\n",
              "    <tr>\n",
              "      <th>Myanmar</th>\n",
              "      <td>4.082009e+05</td>\n",
              "      <td>54045.420</td>\n",
              "      <td>0.005955</td>\n",
              "      <td>7.678453e+04</td>\n",
              "      <td>0.000759</td>\n",
              "      <td>0.017933</td>\n",
              "      <td>7.552924</td>\n",
              "      <td>0.044975</td>\n",
              "      <td>1.420741</td>\n",
              "      <td>0.008460</td>\n",
              "      <td>...</td>\n",
              "      <td>3367315.0</td>\n",
              "      <td>62.305280</td>\n",
              "      <td>2.963827e+08</td>\n",
              "      <td>7527.149536</td>\n",
              "      <td>2057.029546</td>\n",
              "      <td>0.038061</td>\n",
              "      <td>9.836517e-05</td>\n",
              "      <td>4.781904e-08</td>\n",
              "      <td>0.20422</td>\n",
              "      <td>5.250443e-06</td>\n",
              "    </tr>\n",
              "    <tr>\n",
              "      <th>Pakistan</th>\n",
              "      <td>4.242045e+05</td>\n",
              "      <td>216565.318</td>\n",
              "      <td>0.023861</td>\n",
              "      <td>2.569963e+05</td>\n",
              "      <td>0.002542</td>\n",
              "      <td>0.018636</td>\n",
              "      <td>1.958783</td>\n",
              "      <td>0.046738</td>\n",
              "      <td>1.186692</td>\n",
              "      <td>0.028315</td>\n",
              "      <td>...</td>\n",
              "      <td>-4016908.0</td>\n",
              "      <td>-18.548252</td>\n",
              "      <td>2.395949e+08</td>\n",
              "      <td>1106.339898</td>\n",
              "      <td>1617.171690</td>\n",
              "      <td>0.007467</td>\n",
              "      <td>7.621833e-06</td>\n",
              "      <td>4.713063e-09</td>\n",
              "      <td>0.23690</td>\n",
              "      <td>1.093896e-06</td>\n",
              "    </tr>\n",
              "    <tr>\n",
              "      <th>United States of America</th>\n",
              "      <td>1.072814e+06</td>\n",
              "      <td>329064.917</td>\n",
              "      <td>0.036256</td>\n",
              "      <td>2.143323e+07</td>\n",
              "      <td>0.211965</td>\n",
              "      <td>0.047131</td>\n",
              "      <td>3.260191</td>\n",
              "      <td>0.118200</td>\n",
              "      <td>65.133732</td>\n",
              "      <td>2.361468</td>\n",
              "      <td>...</td>\n",
              "      <td>14835938.2</td>\n",
              "      <td>142.555724</td>\n",
              "      <td>8.071062e+08</td>\n",
              "      <td>2879.629375</td>\n",
              "      <td>84.584807</td>\n",
              "      <td>0.000257</td>\n",
              "      <td>1.521092e-07</td>\n",
              "      <td>1.798304e-09</td>\n",
              "      <td>0.20678</td>\n",
              "      <td>1.649901e-06</td>\n",
              "    </tr>\n",
              "  </tbody>\n",
              "</table>\n",
              "<p>9 rows × 27 columns</p>\n",
              "</div>\n",
              "      <button class=\"colab-df-convert\" onclick=\"convertToInteractive('df-498ac909-4954-4616-bc5c-6800d688ed84')\"\n",
              "              title=\"Convert this dataframe to an interactive table.\"\n",
              "              style=\"display:none;\">\n",
              "        \n",
              "  <svg xmlns=\"http://www.w3.org/2000/svg\" height=\"24px\"viewBox=\"0 0 24 24\"\n",
              "       width=\"24px\">\n",
              "    <path d=\"M0 0h24v24H0V0z\" fill=\"none\"/>\n",
              "    <path d=\"M18.56 5.44l.94 2.06.94-2.06 2.06-.94-2.06-.94-.94-2.06-.94 2.06-2.06.94zm-11 1L8.5 8.5l.94-2.06 2.06-.94-2.06-.94L8.5 2.5l-.94 2.06-2.06.94zm10 10l.94 2.06.94-2.06 2.06-.94-2.06-.94-.94-2.06-.94 2.06-2.06.94z\"/><path d=\"M17.41 7.96l-1.37-1.37c-.4-.4-.92-.59-1.43-.59-.52 0-1.04.2-1.43.59L10.3 9.45l-7.72 7.72c-.78.78-.78 2.05 0 2.83L4 21.41c.39.39.9.59 1.41.59.51 0 1.02-.2 1.41-.59l7.78-7.78 2.81-2.81c.8-.78.8-2.07 0-2.86zM5.41 20L4 18.59l7.72-7.72 1.47 1.35L5.41 20z\"/>\n",
              "  </svg>\n",
              "      </button>\n",
              "      \n",
              "  <style>\n",
              "    .colab-df-container {\n",
              "      display:flex;\n",
              "      flex-wrap:wrap;\n",
              "      gap: 12px;\n",
              "    }\n",
              "\n",
              "    .colab-df-convert {\n",
              "      background-color: #E8F0FE;\n",
              "      border: none;\n",
              "      border-radius: 50%;\n",
              "      cursor: pointer;\n",
              "      display: none;\n",
              "      fill: #1967D2;\n",
              "      height: 32px;\n",
              "      padding: 0 0 0 0;\n",
              "      width: 32px;\n",
              "    }\n",
              "\n",
              "    .colab-df-convert:hover {\n",
              "      background-color: #E2EBFA;\n",
              "      box-shadow: 0px 1px 2px rgba(60, 64, 67, 0.3), 0px 1px 3px 1px rgba(60, 64, 67, 0.15);\n",
              "      fill: #174EA6;\n",
              "    }\n",
              "\n",
              "    [theme=dark] .colab-df-convert {\n",
              "      background-color: #3B4455;\n",
              "      fill: #D2E3FC;\n",
              "    }\n",
              "\n",
              "    [theme=dark] .colab-df-convert:hover {\n",
              "      background-color: #434B5C;\n",
              "      box-shadow: 0px 1px 3px 1px rgba(0, 0, 0, 0.15);\n",
              "      filter: drop-shadow(0px 1px 2px rgba(0, 0, 0, 0.3));\n",
              "      fill: #FFFFFF;\n",
              "    }\n",
              "  </style>\n",
              "\n",
              "      <script>\n",
              "        const buttonEl =\n",
              "          document.querySelector('#df-498ac909-4954-4616-bc5c-6800d688ed84 button.colab-df-convert');\n",
              "        buttonEl.style.display =\n",
              "          google.colab.kernel.accessAllowed ? 'block' : 'none';\n",
              "\n",
              "        async function convertToInteractive(key) {\n",
              "          const element = document.querySelector('#df-498ac909-4954-4616-bc5c-6800d688ed84');\n",
              "          const dataTable =\n",
              "            await google.colab.kernel.invokeFunction('convertToInteractive',\n",
              "                                                     [key], {});\n",
              "          if (!dataTable) return;\n",
              "\n",
              "          const docLinkHtml = 'Like what you see? Visit the ' +\n",
              "            '<a target=\"_blank\" href=https://colab.research.google.com/notebooks/data_table.ipynb>data table notebook</a>'\n",
              "            + ' to learn more about interactive tables.';\n",
              "          element.innerHTML = '';\n",
              "          dataTable['output_type'] = 'display_data';\n",
              "          await google.colab.output.renderOutput(dataTable, element);\n",
              "          const docLink = document.createElement('div');\n",
              "          docLink.innerHTML = docLinkHtml;\n",
              "          element.appendChild(docLink);\n",
              "        }\n",
              "      </script>\n",
              "    </div>\n",
              "  </div>\n",
              "  "
            ]
          },
          "metadata": {},
          "execution_count": 90
        }
      ]
    },
    {
      "cell_type": "markdown",
      "source": [
        "The outlier countries are:\n",
        "\n",
        "- Brasil.\n",
        "- China.\n",
        "- China mainland.\n",
        "- Democratic Republic of Congo.\n",
        "- India.\n",
        "- Indonesia.\n",
        "- Estados Unidos."
      ],
      "metadata": {
        "id": "oKtrzQYIJZKg"
      }
    },
    {
      "cell_type": "code",
      "source": [
        "df_imputed.reset_index(inplace = True)"
      ],
      "metadata": {
        "id": "7M6Lj7aHKFQR"
      },
      "execution_count": 91,
      "outputs": []
    },
    {
      "cell_type": "code",
      "source": [
        "df_imputed[df_imputed[\"Country\"] == \"China, mainland\"]"
      ],
      "metadata": {
        "id": "RjgttVRGJ1Bz",
        "colab": {
          "base_uri": "https://localhost:8080/",
          "height": 212
        },
        "outputId": "ec399e7a-4d5d-4aad-aa3f-805b0a91a47f"
      },
      "execution_count": 92,
      "outputs": [
        {
          "output_type": "execute_result",
          "data": {
            "text/plain": [
              "Empty DataFrame\n",
              "Columns: [Country, total_emissions, total_population, %_population, GDP_2019, %_GDP_2019, %_emissions, emissions_per_capita, emissions_per_capita_mundial, GDP19_per_capita, GDP19_per_capita_mundial, emissions_per_GDP, emissions_per_GDP_mundial, production_per_capita, %_production_mundial, emissions_per_production, emissions_per_production_mundial, Total Production, Annual CO2 emissions growth (abs), emissions_growth_per_capita, Annual consumption-based CO2 emissions, consumption_CO2emissions_per_capita, production_per_GDP, production_per_GDP_per_capita, emissions_per_GDP_per_capita, emissions_per_production_per_capita, CO2 per unit energy, CO2_per_unit_enery_per_capita]\n",
              "Index: []\n",
              "\n",
              "[0 rows x 28 columns]"
            ],
            "text/html": [
              "\n",
              "  <div id=\"df-bba2a65e-fa26-4eb0-8311-db9f08e3491b\">\n",
              "    <div class=\"colab-df-container\">\n",
              "      <div>\n",
              "<style scoped>\n",
              "    .dataframe tbody tr th:only-of-type {\n",
              "        vertical-align: middle;\n",
              "    }\n",
              "\n",
              "    .dataframe tbody tr th {\n",
              "        vertical-align: top;\n",
              "    }\n",
              "\n",
              "    .dataframe thead th {\n",
              "        text-align: right;\n",
              "    }\n",
              "</style>\n",
              "<table border=\"1\" class=\"dataframe\">\n",
              "  <thead>\n",
              "    <tr style=\"text-align: right;\">\n",
              "      <th></th>\n",
              "      <th>Country</th>\n",
              "      <th>total_emissions</th>\n",
              "      <th>total_population</th>\n",
              "      <th>%_population</th>\n",
              "      <th>GDP_2019</th>\n",
              "      <th>%_GDP_2019</th>\n",
              "      <th>%_emissions</th>\n",
              "      <th>emissions_per_capita</th>\n",
              "      <th>emissions_per_capita_mundial</th>\n",
              "      <th>GDP19_per_capita</th>\n",
              "      <th>...</th>\n",
              "      <th>Annual CO2 emissions growth (abs)</th>\n",
              "      <th>emissions_growth_per_capita</th>\n",
              "      <th>Annual consumption-based CO2 emissions</th>\n",
              "      <th>consumption_CO2emissions_per_capita</th>\n",
              "      <th>production_per_GDP</th>\n",
              "      <th>production_per_GDP_per_capita</th>\n",
              "      <th>emissions_per_GDP_per_capita</th>\n",
              "      <th>emissions_per_production_per_capita</th>\n",
              "      <th>CO2 per unit energy</th>\n",
              "      <th>CO2_per_unit_enery_per_capita</th>\n",
              "    </tr>\n",
              "  </thead>\n",
              "  <tbody>\n",
              "  </tbody>\n",
              "</table>\n",
              "<p>0 rows × 28 columns</p>\n",
              "</div>\n",
              "      <button class=\"colab-df-convert\" onclick=\"convertToInteractive('df-bba2a65e-fa26-4eb0-8311-db9f08e3491b')\"\n",
              "              title=\"Convert this dataframe to an interactive table.\"\n",
              "              style=\"display:none;\">\n",
              "        \n",
              "  <svg xmlns=\"http://www.w3.org/2000/svg\" height=\"24px\"viewBox=\"0 0 24 24\"\n",
              "       width=\"24px\">\n",
              "    <path d=\"M0 0h24v24H0V0z\" fill=\"none\"/>\n",
              "    <path d=\"M18.56 5.44l.94 2.06.94-2.06 2.06-.94-2.06-.94-.94-2.06-.94 2.06-2.06.94zm-11 1L8.5 8.5l.94-2.06 2.06-.94-2.06-.94L8.5 2.5l-.94 2.06-2.06.94zm10 10l.94 2.06.94-2.06 2.06-.94-2.06-.94-.94-2.06-.94 2.06-2.06.94z\"/><path d=\"M17.41 7.96l-1.37-1.37c-.4-.4-.92-.59-1.43-.59-.52 0-1.04.2-1.43.59L10.3 9.45l-7.72 7.72c-.78.78-.78 2.05 0 2.83L4 21.41c.39.39.9.59 1.41.59.51 0 1.02-.2 1.41-.59l7.78-7.78 2.81-2.81c.8-.78.8-2.07 0-2.86zM5.41 20L4 18.59l7.72-7.72 1.47 1.35L5.41 20z\"/>\n",
              "  </svg>\n",
              "      </button>\n",
              "      \n",
              "  <style>\n",
              "    .colab-df-container {\n",
              "      display:flex;\n",
              "      flex-wrap:wrap;\n",
              "      gap: 12px;\n",
              "    }\n",
              "\n",
              "    .colab-df-convert {\n",
              "      background-color: #E8F0FE;\n",
              "      border: none;\n",
              "      border-radius: 50%;\n",
              "      cursor: pointer;\n",
              "      display: none;\n",
              "      fill: #1967D2;\n",
              "      height: 32px;\n",
              "      padding: 0 0 0 0;\n",
              "      width: 32px;\n",
              "    }\n",
              "\n",
              "    .colab-df-convert:hover {\n",
              "      background-color: #E2EBFA;\n",
              "      box-shadow: 0px 1px 2px rgba(60, 64, 67, 0.3), 0px 1px 3px 1px rgba(60, 64, 67, 0.15);\n",
              "      fill: #174EA6;\n",
              "    }\n",
              "\n",
              "    [theme=dark] .colab-df-convert {\n",
              "      background-color: #3B4455;\n",
              "      fill: #D2E3FC;\n",
              "    }\n",
              "\n",
              "    [theme=dark] .colab-df-convert:hover {\n",
              "      background-color: #434B5C;\n",
              "      box-shadow: 0px 1px 3px 1px rgba(0, 0, 0, 0.15);\n",
              "      filter: drop-shadow(0px 1px 2px rgba(0, 0, 0, 0.3));\n",
              "      fill: #FFFFFF;\n",
              "    }\n",
              "  </style>\n",
              "\n",
              "      <script>\n",
              "        const buttonEl =\n",
              "          document.querySelector('#df-bba2a65e-fa26-4eb0-8311-db9f08e3491b button.colab-df-convert');\n",
              "        buttonEl.style.display =\n",
              "          google.colab.kernel.accessAllowed ? 'block' : 'none';\n",
              "\n",
              "        async function convertToInteractive(key) {\n",
              "          const element = document.querySelector('#df-bba2a65e-fa26-4eb0-8311-db9f08e3491b');\n",
              "          const dataTable =\n",
              "            await google.colab.kernel.invokeFunction('convertToInteractive',\n",
              "                                                     [key], {});\n",
              "          if (!dataTable) return;\n",
              "\n",
              "          const docLinkHtml = 'Like what you see? Visit the ' +\n",
              "            '<a target=\"_blank\" href=https://colab.research.google.com/notebooks/data_table.ipynb>data table notebook</a>'\n",
              "            + ' to learn more about interactive tables.';\n",
              "          element.innerHTML = '';\n",
              "          dataTable['output_type'] = 'display_data';\n",
              "          await google.colab.output.renderOutput(dataTable, element);\n",
              "          const docLink = document.createElement('div');\n",
              "          docLink.innerHTML = docLinkHtml;\n",
              "          element.appendChild(docLink);\n",
              "        }\n",
              "      </script>\n",
              "    </div>\n",
              "  </div>\n",
              "  "
            ]
          },
          "metadata": {},
          "execution_count": 92
        }
      ]
    },
    {
      "cell_type": "code",
      "source": [
        "df_imputed.drop([37], axis = 0, inplace = True)"
      ],
      "metadata": {
        "id": "zMpfqUYKKpaL"
      },
      "execution_count": 93,
      "outputs": []
    },
    {
      "cell_type": "code",
      "source": [
        "df_imputed[df_imputed[\"Country\"] == \"Faroe Islands\"]"
      ],
      "metadata": {
        "colab": {
          "base_uri": "https://localhost:8080/",
          "height": 261
        },
        "id": "k4YpJnd1_meL",
        "outputId": "10683cae-d692-4a1f-a09f-a20fd536bdce"
      },
      "execution_count": 94,
      "outputs": [
        {
          "output_type": "execute_result",
          "data": {
            "text/plain": [
              "          Country  total_emissions  total_population  %_population  \\\n",
              "62  Faroe Islands         812.3252            48.678      0.000005   \n",
              "\n",
              "      GDP_2019  %_GDP_2019  %_emissions  emissions_per_capita  \\\n",
              "62  661.761041    0.000007     0.000036             16.687728   \n",
              "\n",
              "    emissions_per_capita_mundial  GDP19_per_capita  ...  \\\n",
              "62                       0.00009         15.053708  ...   \n",
              "\n",
              "    Annual CO2 emissions growth (abs)  emissions_growth_per_capita  \\\n",
              "62                            40795.6                   165.243836   \n",
              "\n",
              "    Annual consumption-based CO2 emissions  \\\n",
              "62                            4.841524e+07   \n",
              "\n",
              "    consumption_CO2emissions_per_capita  production_per_GDP  \\\n",
              "62                           18272.9204           55.849609   \n",
              "\n",
              "    production_per_GDP_per_capita  emissions_per_GDP_per_capita  \\\n",
              "62                       4.226352                      0.012643   \n",
              "\n",
              "    emissions_per_production_per_capita  CO2 per unit energy  \\\n",
              "62                             0.003713               0.1439   \n",
              "\n",
              "    CO2_per_unit_enery_per_capita  \n",
              "62                       0.000147  \n",
              "\n",
              "[1 rows x 28 columns]"
            ],
            "text/html": [
              "\n",
              "  <div id=\"df-d8ea5781-a4b8-4078-98a6-3132c2b195d7\">\n",
              "    <div class=\"colab-df-container\">\n",
              "      <div>\n",
              "<style scoped>\n",
              "    .dataframe tbody tr th:only-of-type {\n",
              "        vertical-align: middle;\n",
              "    }\n",
              "\n",
              "    .dataframe tbody tr th {\n",
              "        vertical-align: top;\n",
              "    }\n",
              "\n",
              "    .dataframe thead th {\n",
              "        text-align: right;\n",
              "    }\n",
              "</style>\n",
              "<table border=\"1\" class=\"dataframe\">\n",
              "  <thead>\n",
              "    <tr style=\"text-align: right;\">\n",
              "      <th></th>\n",
              "      <th>Country</th>\n",
              "      <th>total_emissions</th>\n",
              "      <th>total_population</th>\n",
              "      <th>%_population</th>\n",
              "      <th>GDP_2019</th>\n",
              "      <th>%_GDP_2019</th>\n",
              "      <th>%_emissions</th>\n",
              "      <th>emissions_per_capita</th>\n",
              "      <th>emissions_per_capita_mundial</th>\n",
              "      <th>GDP19_per_capita</th>\n",
              "      <th>...</th>\n",
              "      <th>Annual CO2 emissions growth (abs)</th>\n",
              "      <th>emissions_growth_per_capita</th>\n",
              "      <th>Annual consumption-based CO2 emissions</th>\n",
              "      <th>consumption_CO2emissions_per_capita</th>\n",
              "      <th>production_per_GDP</th>\n",
              "      <th>production_per_GDP_per_capita</th>\n",
              "      <th>emissions_per_GDP_per_capita</th>\n",
              "      <th>emissions_per_production_per_capita</th>\n",
              "      <th>CO2 per unit energy</th>\n",
              "      <th>CO2_per_unit_enery_per_capita</th>\n",
              "    </tr>\n",
              "  </thead>\n",
              "  <tbody>\n",
              "    <tr>\n",
              "      <th>62</th>\n",
              "      <td>Faroe Islands</td>\n",
              "      <td>812.3252</td>\n",
              "      <td>48.678</td>\n",
              "      <td>0.000005</td>\n",
              "      <td>661.761041</td>\n",
              "      <td>0.000007</td>\n",
              "      <td>0.000036</td>\n",
              "      <td>16.687728</td>\n",
              "      <td>0.00009</td>\n",
              "      <td>15.053708</td>\n",
              "      <td>...</td>\n",
              "      <td>40795.6</td>\n",
              "      <td>165.243836</td>\n",
              "      <td>4.841524e+07</td>\n",
              "      <td>18272.9204</td>\n",
              "      <td>55.849609</td>\n",
              "      <td>4.226352</td>\n",
              "      <td>0.012643</td>\n",
              "      <td>0.003713</td>\n",
              "      <td>0.1439</td>\n",
              "      <td>0.000147</td>\n",
              "    </tr>\n",
              "  </tbody>\n",
              "</table>\n",
              "<p>1 rows × 28 columns</p>\n",
              "</div>\n",
              "      <button class=\"colab-df-convert\" onclick=\"convertToInteractive('df-d8ea5781-a4b8-4078-98a6-3132c2b195d7')\"\n",
              "              title=\"Convert this dataframe to an interactive table.\"\n",
              "              style=\"display:none;\">\n",
              "        \n",
              "  <svg xmlns=\"http://www.w3.org/2000/svg\" height=\"24px\"viewBox=\"0 0 24 24\"\n",
              "       width=\"24px\">\n",
              "    <path d=\"M0 0h24v24H0V0z\" fill=\"none\"/>\n",
              "    <path d=\"M18.56 5.44l.94 2.06.94-2.06 2.06-.94-2.06-.94-.94-2.06-.94 2.06-2.06.94zm-11 1L8.5 8.5l.94-2.06 2.06-.94-2.06-.94L8.5 2.5l-.94 2.06-2.06.94zm10 10l.94 2.06.94-2.06 2.06-.94-2.06-.94-.94-2.06-.94 2.06-2.06.94z\"/><path d=\"M17.41 7.96l-1.37-1.37c-.4-.4-.92-.59-1.43-.59-.52 0-1.04.2-1.43.59L10.3 9.45l-7.72 7.72c-.78.78-.78 2.05 0 2.83L4 21.41c.39.39.9.59 1.41.59.51 0 1.02-.2 1.41-.59l7.78-7.78 2.81-2.81c.8-.78.8-2.07 0-2.86zM5.41 20L4 18.59l7.72-7.72 1.47 1.35L5.41 20z\"/>\n",
              "  </svg>\n",
              "      </button>\n",
              "      \n",
              "  <style>\n",
              "    .colab-df-container {\n",
              "      display:flex;\n",
              "      flex-wrap:wrap;\n",
              "      gap: 12px;\n",
              "    }\n",
              "\n",
              "    .colab-df-convert {\n",
              "      background-color: #E8F0FE;\n",
              "      border: none;\n",
              "      border-radius: 50%;\n",
              "      cursor: pointer;\n",
              "      display: none;\n",
              "      fill: #1967D2;\n",
              "      height: 32px;\n",
              "      padding: 0 0 0 0;\n",
              "      width: 32px;\n",
              "    }\n",
              "\n",
              "    .colab-df-convert:hover {\n",
              "      background-color: #E2EBFA;\n",
              "      box-shadow: 0px 1px 2px rgba(60, 64, 67, 0.3), 0px 1px 3px 1px rgba(60, 64, 67, 0.15);\n",
              "      fill: #174EA6;\n",
              "    }\n",
              "\n",
              "    [theme=dark] .colab-df-convert {\n",
              "      background-color: #3B4455;\n",
              "      fill: #D2E3FC;\n",
              "    }\n",
              "\n",
              "    [theme=dark] .colab-df-convert:hover {\n",
              "      background-color: #434B5C;\n",
              "      box-shadow: 0px 1px 3px 1px rgba(0, 0, 0, 0.15);\n",
              "      filter: drop-shadow(0px 1px 2px rgba(0, 0, 0, 0.3));\n",
              "      fill: #FFFFFF;\n",
              "    }\n",
              "  </style>\n",
              "\n",
              "      <script>\n",
              "        const buttonEl =\n",
              "          document.querySelector('#df-d8ea5781-a4b8-4078-98a6-3132c2b195d7 button.colab-df-convert');\n",
              "        buttonEl.style.display =\n",
              "          google.colab.kernel.accessAllowed ? 'block' : 'none';\n",
              "\n",
              "        async function convertToInteractive(key) {\n",
              "          const element = document.querySelector('#df-d8ea5781-a4b8-4078-98a6-3132c2b195d7');\n",
              "          const dataTable =\n",
              "            await google.colab.kernel.invokeFunction('convertToInteractive',\n",
              "                                                     [key], {});\n",
              "          if (!dataTable) return;\n",
              "\n",
              "          const docLinkHtml = 'Like what you see? Visit the ' +\n",
              "            '<a target=\"_blank\" href=https://colab.research.google.com/notebooks/data_table.ipynb>data table notebook</a>'\n",
              "            + ' to learn more about interactive tables.';\n",
              "          element.innerHTML = '';\n",
              "          dataTable['output_type'] = 'display_data';\n",
              "          await google.colab.output.renderOutput(dataTable, element);\n",
              "          const docLink = document.createElement('div');\n",
              "          docLink.innerHTML = docLinkHtml;\n",
              "          element.appendChild(docLink);\n",
              "        }\n",
              "      </script>\n",
              "    </div>\n",
              "  </div>\n",
              "  "
            ]
          },
          "metadata": {},
          "execution_count": 94
        }
      ]
    },
    {
      "cell_type": "code",
      "source": [
        "df_imputed.drop([63], axis = 0, inplace = True)"
      ],
      "metadata": {
        "id": "1pWUWcP_AUYO"
      },
      "execution_count": 95,
      "outputs": []
    },
    {
      "cell_type": "code",
      "source": [
        "df_imputed[df_imputed[\"Country\"] == \"China, mainland\"]"
      ],
      "metadata": {
        "colab": {
          "base_uri": "https://localhost:8080/",
          "height": 212
        },
        "id": "BmCtVa7r_yW1",
        "outputId": "13e23ffd-0a26-4ca3-ff76-69ef4c10e689"
      },
      "execution_count": 96,
      "outputs": [
        {
          "output_type": "execute_result",
          "data": {
            "text/plain": [
              "Empty DataFrame\n",
              "Columns: [Country, total_emissions, total_population, %_population, GDP_2019, %_GDP_2019, %_emissions, emissions_per_capita, emissions_per_capita_mundial, GDP19_per_capita, GDP19_per_capita_mundial, emissions_per_GDP, emissions_per_GDP_mundial, production_per_capita, %_production_mundial, emissions_per_production, emissions_per_production_mundial, Total Production, Annual CO2 emissions growth (abs), emissions_growth_per_capita, Annual consumption-based CO2 emissions, consumption_CO2emissions_per_capita, production_per_GDP, production_per_GDP_per_capita, emissions_per_GDP_per_capita, emissions_per_production_per_capita, CO2 per unit energy, CO2_per_unit_enery_per_capita]\n",
              "Index: []\n",
              "\n",
              "[0 rows x 28 columns]"
            ],
            "text/html": [
              "\n",
              "  <div id=\"df-0df27dc6-8bf7-4a1f-92a1-d1ec8253d4cc\">\n",
              "    <div class=\"colab-df-container\">\n",
              "      <div>\n",
              "<style scoped>\n",
              "    .dataframe tbody tr th:only-of-type {\n",
              "        vertical-align: middle;\n",
              "    }\n",
              "\n",
              "    .dataframe tbody tr th {\n",
              "        vertical-align: top;\n",
              "    }\n",
              "\n",
              "    .dataframe thead th {\n",
              "        text-align: right;\n",
              "    }\n",
              "</style>\n",
              "<table border=\"1\" class=\"dataframe\">\n",
              "  <thead>\n",
              "    <tr style=\"text-align: right;\">\n",
              "      <th></th>\n",
              "      <th>Country</th>\n",
              "      <th>total_emissions</th>\n",
              "      <th>total_population</th>\n",
              "      <th>%_population</th>\n",
              "      <th>GDP_2019</th>\n",
              "      <th>%_GDP_2019</th>\n",
              "      <th>%_emissions</th>\n",
              "      <th>emissions_per_capita</th>\n",
              "      <th>emissions_per_capita_mundial</th>\n",
              "      <th>GDP19_per_capita</th>\n",
              "      <th>...</th>\n",
              "      <th>Annual CO2 emissions growth (abs)</th>\n",
              "      <th>emissions_growth_per_capita</th>\n",
              "      <th>Annual consumption-based CO2 emissions</th>\n",
              "      <th>consumption_CO2emissions_per_capita</th>\n",
              "      <th>production_per_GDP</th>\n",
              "      <th>production_per_GDP_per_capita</th>\n",
              "      <th>emissions_per_GDP_per_capita</th>\n",
              "      <th>emissions_per_production_per_capita</th>\n",
              "      <th>CO2 per unit energy</th>\n",
              "      <th>CO2_per_unit_enery_per_capita</th>\n",
              "    </tr>\n",
              "  </thead>\n",
              "  <tbody>\n",
              "  </tbody>\n",
              "</table>\n",
              "<p>0 rows × 28 columns</p>\n",
              "</div>\n",
              "      <button class=\"colab-df-convert\" onclick=\"convertToInteractive('df-0df27dc6-8bf7-4a1f-92a1-d1ec8253d4cc')\"\n",
              "              title=\"Convert this dataframe to an interactive table.\"\n",
              "              style=\"display:none;\">\n",
              "        \n",
              "  <svg xmlns=\"http://www.w3.org/2000/svg\" height=\"24px\"viewBox=\"0 0 24 24\"\n",
              "       width=\"24px\">\n",
              "    <path d=\"M0 0h24v24H0V0z\" fill=\"none\"/>\n",
              "    <path d=\"M18.56 5.44l.94 2.06.94-2.06 2.06-.94-2.06-.94-.94-2.06-.94 2.06-2.06.94zm-11 1L8.5 8.5l.94-2.06 2.06-.94-2.06-.94L8.5 2.5l-.94 2.06-2.06.94zm10 10l.94 2.06.94-2.06 2.06-.94-2.06-.94-.94-2.06-.94 2.06-2.06.94z\"/><path d=\"M17.41 7.96l-1.37-1.37c-.4-.4-.92-.59-1.43-.59-.52 0-1.04.2-1.43.59L10.3 9.45l-7.72 7.72c-.78.78-.78 2.05 0 2.83L4 21.41c.39.39.9.59 1.41.59.51 0 1.02-.2 1.41-.59l7.78-7.78 2.81-2.81c.8-.78.8-2.07 0-2.86zM5.41 20L4 18.59l7.72-7.72 1.47 1.35L5.41 20z\"/>\n",
              "  </svg>\n",
              "      </button>\n",
              "      \n",
              "  <style>\n",
              "    .colab-df-container {\n",
              "      display:flex;\n",
              "      flex-wrap:wrap;\n",
              "      gap: 12px;\n",
              "    }\n",
              "\n",
              "    .colab-df-convert {\n",
              "      background-color: #E8F0FE;\n",
              "      border: none;\n",
              "      border-radius: 50%;\n",
              "      cursor: pointer;\n",
              "      display: none;\n",
              "      fill: #1967D2;\n",
              "      height: 32px;\n",
              "      padding: 0 0 0 0;\n",
              "      width: 32px;\n",
              "    }\n",
              "\n",
              "    .colab-df-convert:hover {\n",
              "      background-color: #E2EBFA;\n",
              "      box-shadow: 0px 1px 2px rgba(60, 64, 67, 0.3), 0px 1px 3px 1px rgba(60, 64, 67, 0.15);\n",
              "      fill: #174EA6;\n",
              "    }\n",
              "\n",
              "    [theme=dark] .colab-df-convert {\n",
              "      background-color: #3B4455;\n",
              "      fill: #D2E3FC;\n",
              "    }\n",
              "\n",
              "    [theme=dark] .colab-df-convert:hover {\n",
              "      background-color: #434B5C;\n",
              "      box-shadow: 0px 1px 3px 1px rgba(0, 0, 0, 0.15);\n",
              "      filter: drop-shadow(0px 1px 2px rgba(0, 0, 0, 0.3));\n",
              "      fill: #FFFFFF;\n",
              "    }\n",
              "  </style>\n",
              "\n",
              "      <script>\n",
              "        const buttonEl =\n",
              "          document.querySelector('#df-0df27dc6-8bf7-4a1f-92a1-d1ec8253d4cc button.colab-df-convert');\n",
              "        buttonEl.style.display =\n",
              "          google.colab.kernel.accessAllowed ? 'block' : 'none';\n",
              "\n",
              "        async function convertToInteractive(key) {\n",
              "          const element = document.querySelector('#df-0df27dc6-8bf7-4a1f-92a1-d1ec8253d4cc');\n",
              "          const dataTable =\n",
              "            await google.colab.kernel.invokeFunction('convertToInteractive',\n",
              "                                                     [key], {});\n",
              "          if (!dataTable) return;\n",
              "\n",
              "          const docLinkHtml = 'Like what you see? Visit the ' +\n",
              "            '<a target=\"_blank\" href=https://colab.research.google.com/notebooks/data_table.ipynb>data table notebook</a>'\n",
              "            + ' to learn more about interactive tables.';\n",
              "          element.innerHTML = '';\n",
              "          dataTable['output_type'] = 'display_data';\n",
              "          await google.colab.output.renderOutput(dataTable, element);\n",
              "          const docLink = document.createElement('div');\n",
              "          docLink.innerHTML = docLinkHtml;\n",
              "          element.appendChild(docLink);\n",
              "        }\n",
              "      </script>\n",
              "    </div>\n",
              "  </div>\n",
              "  "
            ]
          },
          "metadata": {},
          "execution_count": 96
        }
      ]
    },
    {
      "cell_type": "code",
      "source": [
        "df_imputed.reset_index(inplace = True)"
      ],
      "metadata": {
        "id": "7dHqVqpcAgYn"
      },
      "execution_count": 97,
      "outputs": []
    },
    {
      "cell_type": "code",
      "source": [
        "df_imputed.info()"
      ],
      "metadata": {
        "id": "74AJ3q0BK6nM",
        "colab": {
          "base_uri": "https://localhost:8080/"
        },
        "outputId": "9fb0cdbc-4663-4767-f569-f94ccf8b6481"
      },
      "execution_count": 98,
      "outputs": [
        {
          "output_type": "stream",
          "name": "stdout",
          "text": [
            "<class 'pandas.core.frame.DataFrame'>\n",
            "RangeIndex: 195 entries, 0 to 194\n",
            "Data columns (total 29 columns):\n",
            " #   Column                                  Non-Null Count  Dtype  \n",
            "---  ------                                  --------------  -----  \n",
            " 0   index                                   195 non-null    int64  \n",
            " 1   Country                                 195 non-null    object \n",
            " 2   total_emissions                         195 non-null    float64\n",
            " 3   total_population                        195 non-null    float64\n",
            " 4   %_population                            195 non-null    float64\n",
            " 5   GDP_2019                                195 non-null    float64\n",
            " 6   %_GDP_2019                              195 non-null    float64\n",
            " 7   %_emissions                             195 non-null    float64\n",
            " 8   emissions_per_capita                    195 non-null    float64\n",
            " 9   emissions_per_capita_mundial            195 non-null    float64\n",
            " 10  GDP19_per_capita                        195 non-null    float64\n",
            " 11  GDP19_per_capita_mundial                195 non-null    float64\n",
            " 12  emissions_per_GDP                       195 non-null    float64\n",
            " 13  emissions_per_GDP_mundial               195 non-null    float64\n",
            " 14  production_per_capita                   195 non-null    float64\n",
            " 15  %_production_mundial                    195 non-null    float64\n",
            " 16  emissions_per_production                195 non-null    float64\n",
            " 17  emissions_per_production_mundial        195 non-null    float64\n",
            " 18  Total Production                        195 non-null    float64\n",
            " 19  Annual CO2 emissions growth (abs)       195 non-null    float64\n",
            " 20  emissions_growth_per_capita             195 non-null    float64\n",
            " 21  Annual consumption-based CO2 emissions  195 non-null    float64\n",
            " 22  consumption_CO2emissions_per_capita     195 non-null    float64\n",
            " 23  production_per_GDP                      195 non-null    float64\n",
            " 24  production_per_GDP_per_capita           195 non-null    float64\n",
            " 25  emissions_per_GDP_per_capita            195 non-null    float64\n",
            " 26  emissions_per_production_per_capita     195 non-null    float64\n",
            " 27  CO2 per unit energy                     195 non-null    float64\n",
            " 28  CO2_per_unit_enery_per_capita           195 non-null    float64\n",
            "dtypes: float64(27), int64(1), object(1)\n",
            "memory usage: 44.3+ KB\n"
          ]
        }
      ]
    },
    {
      "cell_type": "code",
      "source": [
        "df_imputed = df_imputed.set_index([\"Country\"])"
      ],
      "metadata": {
        "id": "84EJPUn8KNfs"
      },
      "execution_count": 104,
      "outputs": []
    },
    {
      "cell_type": "markdown",
      "source": [
        "#### Feature scaling"
      ],
      "metadata": {
        "id": "mrVzaQubhcf8"
      }
    },
    {
      "cell_type": "code",
      "source": [
        "df_imputed.info(verbose = True)"
      ],
      "metadata": {
        "id": "eWkK0FhP-JB2",
        "colab": {
          "base_uri": "https://localhost:8080/"
        },
        "outputId": "4b759174-d97d-44c1-b5e7-0b221803a95e"
      },
      "execution_count": 100,
      "outputs": [
        {
          "output_type": "stream",
          "name": "stdout",
          "text": [
            "<class 'pandas.core.frame.DataFrame'>\n",
            "RangeIndex: 195 entries, 0 to 194\n",
            "Data columns (total 29 columns):\n",
            " #   Column                                  Non-Null Count  Dtype  \n",
            "---  ------                                  --------------  -----  \n",
            " 0   index                                   195 non-null    int64  \n",
            " 1   Country                                 195 non-null    object \n",
            " 2   total_emissions                         195 non-null    float64\n",
            " 3   total_population                        195 non-null    float64\n",
            " 4   %_population                            195 non-null    float64\n",
            " 5   GDP_2019                                195 non-null    float64\n",
            " 6   %_GDP_2019                              195 non-null    float64\n",
            " 7   %_emissions                             195 non-null    float64\n",
            " 8   emissions_per_capita                    195 non-null    float64\n",
            " 9   emissions_per_capita_mundial            195 non-null    float64\n",
            " 10  GDP19_per_capita                        195 non-null    float64\n",
            " 11  GDP19_per_capita_mundial                195 non-null    float64\n",
            " 12  emissions_per_GDP                       195 non-null    float64\n",
            " 13  emissions_per_GDP_mundial               195 non-null    float64\n",
            " 14  production_per_capita                   195 non-null    float64\n",
            " 15  %_production_mundial                    195 non-null    float64\n",
            " 16  emissions_per_production                195 non-null    float64\n",
            " 17  emissions_per_production_mundial        195 non-null    float64\n",
            " 18  Total Production                        195 non-null    float64\n",
            " 19  Annual CO2 emissions growth (abs)       195 non-null    float64\n",
            " 20  emissions_growth_per_capita             195 non-null    float64\n",
            " 21  Annual consumption-based CO2 emissions  195 non-null    float64\n",
            " 22  consumption_CO2emissions_per_capita     195 non-null    float64\n",
            " 23  production_per_GDP                      195 non-null    float64\n",
            " 24  production_per_GDP_per_capita           195 non-null    float64\n",
            " 25  emissions_per_GDP_per_capita            195 non-null    float64\n",
            " 26  emissions_per_production_per_capita     195 non-null    float64\n",
            " 27  CO2 per unit energy                     195 non-null    float64\n",
            " 28  CO2_per_unit_enery_per_capita           195 non-null    float64\n",
            "dtypes: float64(27), int64(1), object(1)\n",
            "memory usage: 44.3+ KB\n"
          ]
        }
      ]
    },
    {
      "cell_type": "code",
      "source": [
        "# Escalado de datos con outliers\n",
        "standard_scaler = StandardScaler()\n",
        "scaled_df = standard_scaler.fit_transform(df_imputed)\n",
        "scaled_df = pd.DataFrame(scaled_df, index = df_imputed.index, columns = df_imputed.columns)"
      ],
      "metadata": {
        "id": "zMnl4SWCPlNj"
      },
      "execution_count": 105,
      "outputs": []
    },
    {
      "cell_type": "markdown",
      "source": [
        "# Elbow calculation"
      ],
      "metadata": {
        "id": "qpxYB4vpiyqe"
      }
    },
    {
      "cell_type": "code",
      "source": [
        "scaled_df.reset_index(inplace = True)"
      ],
      "metadata": {
        "id": "QTcJQGW9ccMx"
      },
      "execution_count": 106,
      "outputs": []
    },
    {
      "cell_type": "code",
      "source": [
        "scaled_df.drop([62], axis=0, inplace=True)"
      ],
      "metadata": {
        "id": "cxVzC1JFcmvU"
      },
      "execution_count": 107,
      "outputs": []
    },
    {
      "cell_type": "code",
      "source": [
        "scaled_df.set_index(\"Country\", inplace = True)"
      ],
      "metadata": {
        "id": "WVKAuKqHc-qC"
      },
      "execution_count": 108,
      "outputs": []
    },
    {
      "cell_type": "code",
      "source": [
        "scaled_df.info()"
      ],
      "metadata": {
        "id": "1B0r-JqkaeWL",
        "colab": {
          "base_uri": "https://localhost:8080/"
        },
        "outputId": "6e02527d-335e-4be4-816d-0337889ea708"
      },
      "execution_count": 109,
      "outputs": [
        {
          "output_type": "stream",
          "name": "stdout",
          "text": [
            "<class 'pandas.core.frame.DataFrame'>\n",
            "Index: 194 entries, Afghanistan to Zimbabwe\n",
            "Data columns (total 28 columns):\n",
            " #   Column                                  Non-Null Count  Dtype  \n",
            "---  ------                                  --------------  -----  \n",
            " 0   index                                   194 non-null    float64\n",
            " 1   total_emissions                         194 non-null    float64\n",
            " 2   total_population                        194 non-null    float64\n",
            " 3   %_population                            194 non-null    float64\n",
            " 4   GDP_2019                                194 non-null    float64\n",
            " 5   %_GDP_2019                              194 non-null    float64\n",
            " 6   %_emissions                             194 non-null    float64\n",
            " 7   emissions_per_capita                    194 non-null    float64\n",
            " 8   emissions_per_capita_mundial            194 non-null    float64\n",
            " 9   GDP19_per_capita                        194 non-null    float64\n",
            " 10  GDP19_per_capita_mundial                194 non-null    float64\n",
            " 11  emissions_per_GDP                       194 non-null    float64\n",
            " 12  emissions_per_GDP_mundial               194 non-null    float64\n",
            " 13  production_per_capita                   194 non-null    float64\n",
            " 14  %_production_mundial                    194 non-null    float64\n",
            " 15  emissions_per_production                194 non-null    float64\n",
            " 16  emissions_per_production_mundial        194 non-null    float64\n",
            " 17  Total Production                        194 non-null    float64\n",
            " 18  Annual CO2 emissions growth (abs)       194 non-null    float64\n",
            " 19  emissions_growth_per_capita             194 non-null    float64\n",
            " 20  Annual consumption-based CO2 emissions  194 non-null    float64\n",
            " 21  consumption_CO2emissions_per_capita     194 non-null    float64\n",
            " 22  production_per_GDP                      194 non-null    float64\n",
            " 23  production_per_GDP_per_capita           194 non-null    float64\n",
            " 24  emissions_per_GDP_per_capita            194 non-null    float64\n",
            " 25  emissions_per_production_per_capita     194 non-null    float64\n",
            " 26  CO2 per unit energy                     194 non-null    float64\n",
            " 27  CO2_per_unit_enery_per_capita           194 non-null    float64\n",
            "dtypes: float64(28)\n",
            "memory usage: 44.0+ KB\n"
          ]
        }
      ]
    },
    {
      "cell_type": "code",
      "source": [
        "#1 \n",
        "scaled_df_capita = scaled_df[[\"emissions_per_capita\",\"emissions_per_capita_mundial\", \"GDP19_per_capita\", \"GDP19_per_capita_mundial\", \"production_per_capita\", \"emissions_per_production\", \"consumption_CO2emissions_per_capita\" ]]\n",
        "#2 (añadirle el CO2 unit per energy per capita)\n",
        "#scaled_df_capita = scaled_df[[\"emissions_per_capita\",\"emissions_per_capita_mundial\", \"GDP19_per_capita\", \"GDP19_per_capita_mundial\", \"production_per_capita\", \"emissions_per_production\", \"consumption_CO2emissions_per_capita\", \"CO2_per_unit_enery_per_capita\" ]]\n"
      ],
      "metadata": {
        "id": "aGwO-xI2X6aH"
      },
      "execution_count": 110,
      "outputs": []
    },
    {
      "cell_type": "code",
      "source": [
        "scaled_df_capita.info()"
      ],
      "metadata": {
        "colab": {
          "base_uri": "https://localhost:8080/"
        },
        "id": "-sCy5SiV-s84",
        "outputId": "1286b8e7-b902-4e8f-809b-69172d90fbf9"
      },
      "execution_count": 111,
      "outputs": [
        {
          "output_type": "stream",
          "name": "stdout",
          "text": [
            "<class 'pandas.core.frame.DataFrame'>\n",
            "Index: 194 entries, Afghanistan to Zimbabwe\n",
            "Data columns (total 7 columns):\n",
            " #   Column                               Non-Null Count  Dtype  \n",
            "---  ------                               --------------  -----  \n",
            " 0   emissions_per_capita                 194 non-null    float64\n",
            " 1   emissions_per_capita_mundial         194 non-null    float64\n",
            " 2   GDP19_per_capita                     194 non-null    float64\n",
            " 3   GDP19_per_capita_mundial             194 non-null    float64\n",
            " 4   production_per_capita                194 non-null    float64\n",
            " 5   emissions_per_production             194 non-null    float64\n",
            " 6   consumption_CO2emissions_per_capita  194 non-null    float64\n",
            "dtypes: float64(7)\n",
            "memory usage: 12.1+ KB\n"
          ]
        }
      ]
    },
    {
      "cell_type": "code",
      "execution_count": 112,
      "metadata": {
        "ExecuteTime": {
          "end_time": "2021-11-14T15:55:35.658586Z",
          "start_time": "2021-11-14T15:55:33.970Z"
        },
        "id": "Lh6LkVTZeUkc",
        "colab": {
          "base_uri": "https://localhost:8080/"
        },
        "outputId": "90f73e69-816f-42c2-fd9b-86c347e412d9"
      },
      "outputs": [
        {
          "output_type": "stream",
          "name": "stdout",
          "text": [
            "Fitting pipe with 2 clusters\n",
            "Fitting pipe with 3 clusters\n",
            "Fitting pipe with 4 clusters\n",
            "Fitting pipe with 5 clusters\n",
            "Fitting pipe with 6 clusters\n",
            "Fitting pipe with 7 clusters\n",
            "Fitting pipe with 8 clusters\n",
            "Fitting pipe with 9 clusters\n",
            "Fitting pipe with 10 clusters\n",
            "Fitting pipe with 11 clusters\n",
            "Fitting pipe with 12 clusters\n",
            "Fitting pipe with 13 clusters\n",
            "Fitting pipe with 14 clusters\n",
            "Fitting pipe with 15 clusters\n",
            "Fitting pipe with 16 clusters\n",
            "Fitting pipe with 17 clusters\n",
            "Fitting pipe with 18 clusters\n",
            "Fitting pipe with 19 clusters\n",
            "Elbow curve took 0 minutes.\n"
          ]
        }
      ],
      "source": [
        "CALCULATE_ELBOW = True\n",
        "\n",
        "if CALCULATE_ELBOW:\n",
        "    st = time.time()\n",
        "\n",
        "    sse = {}\n",
        "\n",
        "    for k in range(2, 20):\n",
        "\n",
        "        print(f\"Fitting pipe with {k} clusters\")\n",
        "        cluster_model = KMeans(n_clusters = k)\n",
        "        cluster_model.fit(scaled_df_capita)\n",
        "        \n",
        "\n",
        "        sse[k] = cluster_model.inertia_\n",
        "\n",
        "    et = time.time()\n",
        "    print(\"Elbow curve took {} minutes.\".format(round((et - st)/60), 2))"
      ]
    },
    {
      "cell_type": "code",
      "source": [
        "if CALCULATE_ELBOW:\n",
        "    fig = plt.figure(figsize = (16, 8))\n",
        "    ax = fig.add_subplot()\n",
        "\n",
        "    x_values = list(sse.keys())\n",
        "    y_values = list(sse.values())\n",
        "\n",
        "    ax.plot(x_values, y_values, label = \"Inertia/dispersión de los clústers\")\n",
        "    fig.suptitle(\"Variación de la dispersión de los clústers en función de la k\", fontsize = 16)\n",
        "\n",
        "    plt.savefig('plot_elbow')"
      ],
      "metadata": {
        "id": "QRG0bptkrsdd",
        "colab": {
          "base_uri": "https://localhost:8080/",
          "height": 540
        },
        "outputId": "7d6bd746-b545-4110-cb50-be175ad13f8e"
      },
      "execution_count": 113,
      "outputs": [
        {
          "output_type": "display_data",
          "data": {
            "text/plain": [
              "<Figure size 1152x576 with 1 Axes>"
            ],
            "image/png": "[encoded data removed]"
          },
          "metadata": {
            "needs_background": "light"
          }
        }
      ]
    },
    {
      "cell_type": "markdown",
      "source": [
        "# Dendrograms"
      ],
      "metadata": {
        "id": "Lg7z8YYZM50A"
      }
    },
    {
      "cell_type": "code",
      "source": [
        "scaled_df.info()"
      ],
      "metadata": {
        "id": "2q7uB9wCdzzW",
        "colab": {
          "base_uri": "https://localhost:8080/"
        },
        "outputId": "dfb3ea46-2e95-4fe5-b26b-e3a08e73f731"
      },
      "execution_count": 114,
      "outputs": [
        {
          "output_type": "stream",
          "name": "stdout",
          "text": [
            "<class 'pandas.core.frame.DataFrame'>\n",
            "Index: 194 entries, Afghanistan to Zimbabwe\n",
            "Data columns (total 28 columns):\n",
            " #   Column                                  Non-Null Count  Dtype  \n",
            "---  ------                                  --------------  -----  \n",
            " 0   index                                   194 non-null    float64\n",
            " 1   total_emissions                         194 non-null    float64\n",
            " 2   total_population                        194 non-null    float64\n",
            " 3   %_population                            194 non-null    float64\n",
            " 4   GDP_2019                                194 non-null    float64\n",
            " 5   %_GDP_2019                              194 non-null    float64\n",
            " 6   %_emissions                             194 non-null    float64\n",
            " 7   emissions_per_capita                    194 non-null    float64\n",
            " 8   emissions_per_capita_mundial            194 non-null    float64\n",
            " 9   GDP19_per_capita                        194 non-null    float64\n",
            " 10  GDP19_per_capita_mundial                194 non-null    float64\n",
            " 11  emissions_per_GDP                       194 non-null    float64\n",
            " 12  emissions_per_GDP_mundial               194 non-null    float64\n",
            " 13  production_per_capita                   194 non-null    float64\n",
            " 14  %_production_mundial                    194 non-null    float64\n",
            " 15  emissions_per_production                194 non-null    float64\n",
            " 16  emissions_per_production_mundial        194 non-null    float64\n",
            " 17  Total Production                        194 non-null    float64\n",
            " 18  Annual CO2 emissions growth (abs)       194 non-null    float64\n",
            " 19  emissions_growth_per_capita             194 non-null    float64\n",
            " 20  Annual consumption-based CO2 emissions  194 non-null    float64\n",
            " 21  consumption_CO2emissions_per_capita     194 non-null    float64\n",
            " 22  production_per_GDP                      194 non-null    float64\n",
            " 23  production_per_GDP_per_capita           194 non-null    float64\n",
            " 24  emissions_per_GDP_per_capita            194 non-null    float64\n",
            " 25  emissions_per_production_per_capita     194 non-null    float64\n",
            " 26  CO2 per unit energy                     194 non-null    float64\n",
            " 27  CO2_per_unit_enery_per_capita           194 non-null    float64\n",
            "dtypes: float64(28)\n",
            "memory usage: 44.0+ KB\n"
          ]
        }
      ]
    },
    {
      "cell_type": "markdown",
      "source": [
        "### \"total_emissions\" and \"GDP_2019\""
      ],
      "metadata": {
        "id": "eWRwAp4DfQ9Z"
      }
    },
    {
      "cell_type": "code",
      "source": [
        "#scaled_df\n",
        "\n",
        "X = scaled_df.loc[:, [\"total_emissions\",\"GDP_2019\"]].values"
      ],
      "metadata": {
        "id": "XcYjEWmLdlrS"
      },
      "execution_count": 115,
      "outputs": []
    },
    {
      "cell_type": "code",
      "source": [
        "dendrogram = sch.dendrogram(sch.linkage(X, method  = \"ward\"))\n",
        "plt.rcParams[\"figure.figsize\"] = [30, 10]\n",
        "plt.rcParams[\"figure.autolayout\"] = True\n",
        "plt.title('Dendrogram', fontsize=24)\n",
        "plt.xlabel('Countries', fontsize=30)\n",
        "plt.ylabel('Euclidean distances', fontsize=30)\n",
        "plt.tick_params(axis='x', which='both', bottom='off', top='off', labelbottom='off')\n",
        "\n",
        "plt.savefig('plot12')\n",
        "\n",
        "plt.show()\n",
        "\n",
        "\n",
        "\n"
      ],
      "metadata": {
        "colab": {
          "base_uri": "https://localhost:8080/",
          "height": 339
        },
        "id": "CFt5hYtnNCsy",
        "outputId": "c61cd6f6-6b58-4f07-86b3-b67dc95e27b9"
      },
      "execution_count": 116,
      "outputs": [
        {
          "output_type": "display_data",
          "data": {
            "text/plain": [
              "<Figure size 432x288 with 1 Axes>"
            ],
            "image/png": "[encoded data removed]"
          },
          "metadata": {
            "needs_background": "light"
          }
        }
      ]
    },
    {
      "cell_type": "code",
      "source": [
        "\n",
        "# There are two algorithms for hierarchical clustering: #Agglomerative Hierarchical Clustering and \n",
        "# Divisive Hierarchical Clustering. We choose Euclidean distance and ward method for our algorithm class\n",
        "\n",
        "ac = AgglomerativeClustering(n_clusters = 5, affinity = 'euclidean', linkage ='ward')"
      ],
      "metadata": {
        "id": "_FnUTEmoV5w2"
      },
      "execution_count": 117,
      "outputs": []
    },
    {
      "cell_type": "code",
      "source": [
        "# Lets try to fit the hierarchical clustering algorithm  to dataset \n",
        "#X while creating the clusters vector that tells for each customer \n",
        "#which cluster the customer belongs to.\n",
        "y_ac=ac.fit_predict(X)"
      ],
      "metadata": {
        "id": "6DiMqrSWWF9P"
      },
      "execution_count": 118,
      "outputs": []
    },
    {
      "cell_type": "code",
      "source": [
        "print(ac.labels_)"
      ],
      "metadata": {
        "colab": {
          "base_uri": "https://localhost:8080/"
        },
        "id": "ZsaTn3eCbCbm",
        "outputId": "52597bb8-7ae4-41ac-ccb9-b6b19fea0173"
      },
      "execution_count": 119,
      "outputs": [
        {
          "output_type": "stream",
          "name": "stdout",
          "text": [
            "[1 1 1 0 1 0 1 0 1 1 1 1 0 1 1 1 1 1 1 0 1 1 4 1 1 1 1 1 1 1 0 1 0 1 2 1 1\n",
            " 0 1 1 1 1 1 1 1 1 1 1 3 1 1 1 1 1 1 1 1 1 1 1 0 1 0 1 1 1 1 1 0 1 1 1 1 1\n",
            " 1 1 1 1 1 1 1 3 4 1 1 1 1 0 1 0 1 1 1 1 1 1 1 1 1 1 1 1 1 1 1 1 0 1 1 1 1\n",
            " 1 1 0 1 1 1 0 0 1 1 1 1 1 1 1 1 0 1 1 1 1 0 1 1 0 0 0 1 1 1 1 0 1 1 0 1 1\n",
            " 1 1 1 1 1 1 1 1 1 1 1 1 1 1 1 1 0 1 0 1 1 1 1 1 0 1 1 1 1 1 1 1 1 1 1 1 0\n",
            " 0 2 1 1 1 0 1 1 1]\n"
          ]
        }
      ]
    },
    {
      "cell_type": "code",
      "source": [
        "#Visualizing clusters\n",
        "\n",
        "plt.scatter(X[y_ac==0, 0], X[y_ac==0, 1], s=100, c='red', label ='Cluster 1')\n",
        "plt.scatter(X[y_ac==1, 0], X[y_ac==1, 1], s=100, c='blue', label ='Cluster 2')\n",
        "plt.scatter(X[y_ac==2, 0], X[y_ac==2, 1], s=100, c='green', label ='Cluster 3')\n",
        "plt.scatter(X[y_ac==3, 0], X[y_ac==3, 1], s=100, c='yellow', label ='Cluster 4')\n",
        "plt.scatter(X[y_ac==4, 0], X[y_ac==4, 1], s=100, c='magenta', label ='Cluster 5')\n",
        "plt.title('Clusters de Países (Hierarchical Clustering Model)')\n",
        "plt.xlabel('total_emissions', fontsize=30)\n",
        "plt.ylabel(\"GDP_2019\", fontsize=30)\n",
        "\n",
        "plt.savefig('plot13')\n",
        "\n",
        "plt.show()"
      ],
      "metadata": {
        "colab": {
          "base_uri": "https://localhost:8080/",
          "height": 401
        },
        "id": "_ups9EIIWmW2",
        "outputId": "e320b741-ce2c-4009-ff2d-4d3dc9e203d3"
      },
      "execution_count": 120,
      "outputs": [
        {
          "output_type": "display_data",
          "data": {
            "text/plain": [
              "<Figure size 2160x720 with 1 Axes>"
            ],
            "image/png": "[encoded data removed]"
          },
          "metadata": {
            "needs_background": "light"
          }
        }
      ]
    },
    {
      "cell_type": "markdown",
      "source": [
        "### \"total_emissions\" and \"GDP_per_capita\""
      ],
      "metadata": {
        "id": "4bTifW0rft8o"
      }
    },
    {
      "cell_type": "code",
      "source": [
        "scaled_df.info()"
      ],
      "metadata": {
        "colab": {
          "base_uri": "https://localhost:8080/"
        },
        "id": "3k1yoxynfxiN",
        "outputId": "541e2c5f-db9c-4d17-9318-1de5818d36b4"
      },
      "execution_count": 121,
      "outputs": [
        {
          "output_type": "stream",
          "name": "stdout",
          "text": [
            "<class 'pandas.core.frame.DataFrame'>\n",
            "Index: 194 entries, Afghanistan to Zimbabwe\n",
            "Data columns (total 28 columns):\n",
            " #   Column                                  Non-Null Count  Dtype  \n",
            "---  ------                                  --------------  -----  \n",
            " 0   index                                   194 non-null    float64\n",
            " 1   total_emissions                         194 non-null    float64\n",
            " 2   total_population                        194 non-null    float64\n",
            " 3   %_population                            194 non-null    float64\n",
            " 4   GDP_2019                                194 non-null    float64\n",
            " 5   %_GDP_2019                              194 non-null    float64\n",
            " 6   %_emissions                             194 non-null    float64\n",
            " 7   emissions_per_capita                    194 non-null    float64\n",
            " 8   emissions_per_capita_mundial            194 non-null    float64\n",
            " 9   GDP19_per_capita                        194 non-null    float64\n",
            " 10  GDP19_per_capita_mundial                194 non-null    float64\n",
            " 11  emissions_per_GDP                       194 non-null    float64\n",
            " 12  emissions_per_GDP_mundial               194 non-null    float64\n",
            " 13  production_per_capita                   194 non-null    float64\n",
            " 14  %_production_mundial                    194 non-null    float64\n",
            " 15  emissions_per_production                194 non-null    float64\n",
            " 16  emissions_per_production_mundial        194 non-null    float64\n",
            " 17  Total Production                        194 non-null    float64\n",
            " 18  Annual CO2 emissions growth (abs)       194 non-null    float64\n",
            " 19  emissions_growth_per_capita             194 non-null    float64\n",
            " 20  Annual consumption-based CO2 emissions  194 non-null    float64\n",
            " 21  consumption_CO2emissions_per_capita     194 non-null    float64\n",
            " 22  production_per_GDP                      194 non-null    float64\n",
            " 23  production_per_GDP_per_capita           194 non-null    float64\n",
            " 24  emissions_per_GDP_per_capita            194 non-null    float64\n",
            " 25  emissions_per_production_per_capita     194 non-null    float64\n",
            " 26  CO2 per unit energy                     194 non-null    float64\n",
            " 27  CO2_per_unit_enery_per_capita           194 non-null    float64\n",
            "dtypes: float64(28)\n",
            "memory usage: 44.0+ KB\n"
          ]
        }
      ]
    },
    {
      "cell_type": "code",
      "source": [
        "#scaled_df\n",
        "\n",
        "X = scaled_df.loc[:, [\"total_emissions\",\"GDP19_per_capita\"]].values"
      ],
      "metadata": {
        "id": "87YzK64Mft8p"
      },
      "execution_count": 122,
      "outputs": []
    },
    {
      "cell_type": "code",
      "source": [
        "dendrogram = sch.dendrogram(sch.linkage(X, method  = \"ward\"))\n",
        "plt.rcParams[\"figure.figsize\"] = [30, 10]\n",
        "plt.rcParams[\"figure.autolayout\"] = True\n",
        "plt.title('Dendrogram', fontsize=24)\n",
        "plt.xlabel('Countries', fontsize=30)\n",
        "plt.ylabel('Euclidean distances', fontsize=30)\n",
        "#fig.suptitle('test title', fontsize=20)\n",
        "\n",
        "plt.tick_params(axis='x', which='both', bottom='off', top='off', labelbottom='off')\n",
        "\n",
        "plt.savefig('plot22')\n",
        "\n",
        "plt.show()\n",
        "\n",
        "\n",
        "\n"
      ],
      "metadata": {
        "colab": {
          "base_uri": "https://localhost:8080/",
          "height": 401
        },
        "id": "1cKbLI8Gft8q",
        "outputId": "dd56b37a-f5a5-4ebd-e5dd-bbd981618abb"
      },
      "execution_count": 123,
      "outputs": [
        {
          "output_type": "display_data",
          "data": {
            "text/plain": [
              "<Figure size 2160x720 with 1 Axes>"
            ],
            "image/png": "[encoded data removed]"
          },
          "metadata": {
            "needs_background": "light"
          }
        }
      ]
    },
    {
      "cell_type": "code",
      "source": [
        "\n",
        "# There are two algorithms for hierarchical clustering: #Agglomerative Hierarchical Clustering and \n",
        "# Divisive Hierarchical Clustering. We choose Euclidean distance and ward method for our algorithm class\n",
        "ac = AgglomerativeClustering(n_clusters = 7, affinity = 'euclidean', linkage ='ward')"
      ],
      "metadata": {
        "id": "yYqBgiVMft8q"
      },
      "execution_count": 124,
      "outputs": []
    },
    {
      "cell_type": "code",
      "source": [
        "# Lets try to fit the hierarchical clustering algorithm  to dataset #X while creating the clusters vector that tells for each customer #which cluster the customer belongs to.\n",
        "y_ac=ac.fit_predict(X)"
      ],
      "metadata": {
        "id": "RLUWjXdQft8r"
      },
      "execution_count": 125,
      "outputs": []
    },
    {
      "cell_type": "code",
      "source": [
        "print(ac.labels_)"
      ],
      "metadata": {
        "colab": {
          "base_uri": "https://localhost:8080/"
        },
        "id": "SltWjTd-ft8r",
        "outputId": "7dfc938c-5e6d-4ab1-940f-2fc13e461939"
      },
      "execution_count": 126,
      "outputs": [
        {
          "output_type": "stream",
          "name": "stdout",
          "text": [
            "[2 2 2 6 3 6 2 5 5 2 3 3 6 3 2 5 2 2 2 6 2 2 4 3 2 2 2 2 2 2 5 2 6 3 0 5 1\n",
            " 6 2 2 3 2 2 3 2 3 3 2 0 1 2 2 2 2 2 2 2 2 3 2 6 3 5 2 3 2 2 2 5 2 3 2 3 2\n",
            " 2 2 2 2 2 3 1 0 4 2 2 1 5 3 2 5 2 2 2 2 3 2 2 3 2 2 2 2 3 1 2 2 2 2 2 3 3\n",
            " 2 2 6 2 2 2 6 6 2 2 2 5 3 5 2 2 6 3 2 1 3 6 2 3 6 6 6 6 2 3 1 3 2 3 6 2 3\n",
            " 2 2 2 2 3 2 2 3 2 1 3 3 2 2 2 2 3 2 6 2 5 1 2 2 6 2 2 2 3 2 2 2 2 2 2 5 5\n",
            " 6 0 3 2 2 6 2 2 2]\n"
          ]
        }
      ]
    },
    {
      "cell_type": "code",
      "source": [
        "#Visualizing clusters\n",
        "plt.scatter(X[y_ac==0, 0], X[y_ac==0, 1], s=100, c='red', label ='Cluster 1')\n",
        "plt.scatter(X[y_ac==1, 0], X[y_ac==1, 1], s=100, c='blue', label ='Cluster 2')\n",
        "plt.scatter(X[y_ac==2, 0], X[y_ac==2, 1], s=100, c='green', label ='Cluster 3')\n",
        "plt.scatter(X[y_ac==3, 0], X[y_ac==3, 1], s=100, c='yellow', label ='Cluster 4')\n",
        "plt.scatter(X[y_ac==4, 0], X[y_ac==4, 1], s=100, c='magenta', label ='Cluster 5')\n",
        "plt.scatter(X[y_ac==5, 0], X[y_ac==5, 1], s=100, c='black', label ='Cluster 6')\n",
        "plt.scatter(X[y_ac==6, 0], X[y_ac==6, 1], s=100, c='orange', label ='Cluster 7')\n",
        "plt.title('Clusters de Países (Hierarchical Clustering Model)')\n",
        "plt.xlabel('total_emissions', fontsize=30)\n",
        "plt.ylabel(\"GDP19_pe_capita\", fontsize=30)\n",
        "\n",
        "plt.savefig('plot24')\n",
        "\n",
        "plt.show()"
      ],
      "metadata": {
        "colab": {
          "base_uri": "https://localhost:8080/",
          "height": 401
        },
        "id": "3gL71euKft8s",
        "outputId": "511346e4-325c-4e2e-cbc8-5ee435720b25"
      },
      "execution_count": 127,
      "outputs": [
        {
          "output_type": "display_data",
          "data": {
            "text/plain": [
              "<Figure size 2160x720 with 1 Axes>"
            ],
            "image/png": "[encoded data removed]"
          },
          "metadata": {
            "needs_background": "light"
          }
        }
      ]
    },
    {
      "cell_type": "code",
      "source": [
        "scaled_df.info()"
      ],
      "metadata": {
        "id": "VFdsq0jdBipd",
        "colab": {
          "base_uri": "https://localhost:8080/"
        },
        "outputId": "a3b3b51c-ae91-4877-cb30-90111308db0f"
      },
      "execution_count": 128,
      "outputs": [
        {
          "output_type": "stream",
          "name": "stdout",
          "text": [
            "<class 'pandas.core.frame.DataFrame'>\n",
            "Index: 194 entries, Afghanistan to Zimbabwe\n",
            "Data columns (total 28 columns):\n",
            " #   Column                                  Non-Null Count  Dtype  \n",
            "---  ------                                  --------------  -----  \n",
            " 0   index                                   194 non-null    float64\n",
            " 1   total_emissions                         194 non-null    float64\n",
            " 2   total_population                        194 non-null    float64\n",
            " 3   %_population                            194 non-null    float64\n",
            " 4   GDP_2019                                194 non-null    float64\n",
            " 5   %_GDP_2019                              194 non-null    float64\n",
            " 6   %_emissions                             194 non-null    float64\n",
            " 7   emissions_per_capita                    194 non-null    float64\n",
            " 8   emissions_per_capita_mundial            194 non-null    float64\n",
            " 9   GDP19_per_capita                        194 non-null    float64\n",
            " 10  GDP19_per_capita_mundial                194 non-null    float64\n",
            " 11  emissions_per_GDP                       194 non-null    float64\n",
            " 12  emissions_per_GDP_mundial               194 non-null    float64\n",
            " 13  production_per_capita                   194 non-null    float64\n",
            " 14  %_production_mundial                    194 non-null    float64\n",
            " 15  emissions_per_production                194 non-null    float64\n",
            " 16  emissions_per_production_mundial        194 non-null    float64\n",
            " 17  Total Production                        194 non-null    float64\n",
            " 18  Annual CO2 emissions growth (abs)       194 non-null    float64\n",
            " 19  emissions_growth_per_capita             194 non-null    float64\n",
            " 20  Annual consumption-based CO2 emissions  194 non-null    float64\n",
            " 21  consumption_CO2emissions_per_capita     194 non-null    float64\n",
            " 22  production_per_GDP                      194 non-null    float64\n",
            " 23  production_per_GDP_per_capita           194 non-null    float64\n",
            " 24  emissions_per_GDP_per_capita            194 non-null    float64\n",
            " 25  emissions_per_production_per_capita     194 non-null    float64\n",
            " 26  CO2 per unit energy                     194 non-null    float64\n",
            " 27  CO2_per_unit_enery_per_capita           194 non-null    float64\n",
            "dtypes: float64(28)\n",
            "memory usage: 44.0+ KB\n"
          ]
        }
      ]
    },
    {
      "cell_type": "code",
      "source": [
        "scaled_df[scaled_df[\"total_emissions\"] > 2]"
      ],
      "metadata": {
        "colab": {
          "base_uri": "https://localhost:8080/",
          "height": 501
        },
        "id": "hApLhujhgKWx",
        "outputId": "2949e1c5-ea96-4240-90ee-bb22b10f02e2"
      },
      "execution_count": 129,
      "outputs": [
        {
          "output_type": "execute_result",
          "data": {
            "text/plain": [
              "                                     index  total_emissions  total_population  \\\n",
              "Country                                                                         \n",
              "Brazil                           -1.343509         7.500197          1.164836   \n",
              "China                            -1.132741         4.761102          9.662057   \n",
              "Democratic Republic of the Congo -0.869282         3.856667          0.323238   \n",
              "India                            -0.254543         4.611606          8.990070   \n",
              "Indonesia                        -0.236979         7.067680          1.568341   \n",
              "United States of America          1.589675         3.112127          1.964147   \n",
              "\n",
              "                                  %_population   GDP_2019  %_GDP_2019  \\\n",
              "Country                                                                 \n",
              "Brazil                                1.164836   0.722391    0.722391   \n",
              "China                                 9.662057   7.383035    7.383035   \n",
              "Democratic Republic of the Congo      0.323238  -0.206189   -0.206189   \n",
              "India                                 8.990070   1.260714    1.260714   \n",
              "Indonesia                             1.568341   0.346619    0.346619   \n",
              "United States of America              1.964147  10.823400   10.823400   \n",
              "\n",
              "                                  %_emissions  emissions_per_capita  \\\n",
              "Country                                                               \n",
              "Brazil                               7.500197              0.833065   \n",
              "China                                4.761102             -0.457115   \n",
              "Democratic Republic of the Congo     3.856667              1.264789   \n",
              "India                                4.611606             -0.451609   \n",
              "Indonesia                            7.067680              0.458495   \n",
              "United States of America             3.112127             -0.187830   \n",
              "\n",
              "                                  emissions_per_capita_mundial  \\\n",
              "Country                                                          \n",
              "Brazil                                                7.500197   \n",
              "China                                                 4.761102   \n",
              "Democratic Republic of the Congo                      3.856667   \n",
              "India                                                 4.611606   \n",
              "Indonesia                                             7.067680   \n",
              "United States of America                              3.112127   \n",
              "\n",
              "                                  GDP19_per_capita  ...  \\\n",
              "Country                                             ...   \n",
              "Brazil                                   -0.300513  ...   \n",
              "China                                    -0.234067  ...   \n",
              "Democratic Republic of the Congo         -0.714675  ...   \n",
              "India                                    -0.635427  ...   \n",
              "Indonesia                                -0.533557  ...   \n",
              "United States of America                  2.543545  ...   \n",
              "\n",
              "                                  Annual CO2 emissions growth (abs)  \\\n",
              "Country                                                               \n",
              "Brazil                                                     0.076109   \n",
              "China                                                     12.285511   \n",
              "Democratic Republic of the Congo                          -0.403907   \n",
              "India                                                      1.560217   \n",
              "Indonesia                                                  2.766237   \n",
              "United States of America                                   0.861400   \n",
              "\n",
              "                                  emissions_growth_per_capita  \\\n",
              "Country                                                         \n",
              "Brazil                                              -0.099063   \n",
              "China                                                0.001584   \n",
              "Democratic Republic of the Congo                    -0.062992   \n",
              "India                                               -0.091774   \n",
              "Indonesia                                            0.027403   \n",
              "United States of America                             0.006435   \n",
              "\n",
              "                                  Annual consumption-based CO2 emissions  \\\n",
              "Country                                                                    \n",
              "Brazil                                                          0.494277   \n",
              "China                                                          13.149532   \n",
              "Democratic Republic of the Congo                                0.274464   \n",
              "India                                                           3.193409   \n",
              "Indonesia                                                       0.734075   \n",
              "United States of America                                        0.923430   \n",
              "\n",
              "                                  consumption_CO2emissions_per_capita  \\\n",
              "Country                                                                 \n",
              "Brazil                                                      -0.843274   \n",
              "China                                                       -0.280734   \n",
              "Democratic Republic of the Congo                            -0.599321   \n",
              "India                                                       -0.929827   \n",
              "Indonesia                                                   -0.829375   \n",
              "United States of America                                    -0.775065   \n",
              "\n",
              "                                  production_per_GDP  \\\n",
              "Country                                                \n",
              "Brazil                                      0.603235   \n",
              "China                                      -0.483336   \n",
              "Democratic Republic of the Congo            1.821945   \n",
              "India                                       0.231402   \n",
              "Indonesia                                   0.146809   \n",
              "United States of America                   -0.691675   \n",
              "\n",
              "                                  production_per_GDP_per_capita  \\\n",
              "Country                                                           \n",
              "Brazil                                                -0.279918   \n",
              "China                                                 -0.283348   \n",
              "Democratic Republic of the Congo                      -0.267265   \n",
              "India                                                 -0.283058   \n",
              "Indonesia                                             -0.281608   \n",
              "United States of America                              -0.283313   \n",
              "\n",
              "                                  emissions_per_GDP_per_capita  \\\n",
              "Country                                                          \n",
              "Brazil                                               -0.282391   \n",
              "China                                                -0.283885   \n",
              "Democratic Republic of the Congo                     -0.206928   \n",
              "India                                                -0.283809   \n",
              "Indonesia                                            -0.282063   \n",
              "United States of America                             -0.283866   \n",
              "\n",
              "                                  emissions_per_production_per_capita  \\\n",
              "Country                                                                 \n",
              "Brazil                                                      -0.121443   \n",
              "China                                                       -0.121459   \n",
              "Democratic Republic of the Congo                            -0.121003   \n",
              "India                                                       -0.121459   \n",
              "Indonesia                                                   -0.121430   \n",
              "United States of America                                    -0.121454   \n",
              "\n",
              "                                  CO2 per unit energy  \\\n",
              "Country                                                 \n",
              "Brazil                                      -1.058107   \n",
              "China                                        1.937841   \n",
              "Democratic Republic of the Congo             0.776225   \n",
              "India                                        2.202822   \n",
              "Indonesia                                    1.947390   \n",
              "United States of America                     0.512200   \n",
              "\n",
              "                                  CO2_per_unit_enery_per_capita  \n",
              "Country                                                          \n",
              "Brazil                                                -1.008776  \n",
              "China                                                 -1.016069  \n",
              "Democratic Republic of the Congo                      -0.941840  \n",
              "India                                                 -1.015749  \n",
              "Indonesia                                             -1.004004  \n",
              "United States of America                              -0.994051  \n",
              "\n",
              "[6 rows x 28 columns]"
            ],
            "text/html": [
              "\n",
              "  <div id=\"df-705a314f-900e-40e6-97e2-10b0459152fd\">\n",
              "    <div class=\"colab-df-container\">\n",
              "      <div>\n",
              "<style scoped>\n",
              "    .dataframe tbody tr th:only-of-type {\n",
              "        vertical-align: middle;\n",
              "    }\n",
              "\n",
              "    .dataframe tbody tr th {\n",
              "        vertical-align: top;\n",
              "    }\n",
              "\n",
              "    .dataframe thead th {\n",
              "        text-align: right;\n",
              "    }\n",
              "</style>\n",
              "<table border=\"1\" class=\"dataframe\">\n",
              "  <thead>\n",
              "    <tr style=\"text-align: right;\">\n",
              "      <th></th>\n",
              "      <th>index</th>\n",
              "      <th>total_emissions</th>\n",
              "      <th>total_population</th>\n",
              "      <th>%_population</th>\n",
              "      <th>GDP_2019</th>\n",
              "      <th>%_GDP_2019</th>\n",
              "      <th>%_emissions</th>\n",
              "      <th>emissions_per_capita</th>\n",
              "      <th>emissions_per_capita_mundial</th>\n",
              "      <th>GDP19_per_capita</th>\n",
              "      <th>...</th>\n",
              "      <th>Annual CO2 emissions growth (abs)</th>\n",
              "      <th>emissions_growth_per_capita</th>\n",
              "      <th>Annual consumption-based CO2 emissions</th>\n",
              "      <th>consumption_CO2emissions_per_capita</th>\n",
              "      <th>production_per_GDP</th>\n",
              "      <th>production_per_GDP_per_capita</th>\n",
              "      <th>emissions_per_GDP_per_capita</th>\n",
              "      <th>emissions_per_production_per_capita</th>\n",
              "      <th>CO2 per unit energy</th>\n",
              "      <th>CO2_per_unit_enery_per_capita</th>\n",
              "    </tr>\n",
              "    <tr>\n",
              "      <th>Country</th>\n",
              "      <th></th>\n",
              "      <th></th>\n",
              "      <th></th>\n",
              "      <th></th>\n",
              "      <th></th>\n",
              "      <th></th>\n",
              "      <th></th>\n",
              "      <th></th>\n",
              "      <th></th>\n",
              "      <th></th>\n",
              "      <th></th>\n",
              "      <th></th>\n",
              "      <th></th>\n",
              "      <th></th>\n",
              "      <th></th>\n",
              "      <th></th>\n",
              "      <th></th>\n",
              "      <th></th>\n",
              "      <th></th>\n",
              "      <th></th>\n",
              "      <th></th>\n",
              "    </tr>\n",
              "  </thead>\n",
              "  <tbody>\n",
              "    <tr>\n",
              "      <th>Brazil</th>\n",
              "      <td>-1.343509</td>\n",
              "      <td>7.500197</td>\n",
              "      <td>1.164836</td>\n",
              "      <td>1.164836</td>\n",
              "      <td>0.722391</td>\n",
              "      <td>0.722391</td>\n",
              "      <td>7.500197</td>\n",
              "      <td>0.833065</td>\n",
              "      <td>7.500197</td>\n",
              "      <td>-0.300513</td>\n",
              "      <td>...</td>\n",
              "      <td>0.076109</td>\n",
              "      <td>-0.099063</td>\n",
              "      <td>0.494277</td>\n",
              "      <td>-0.843274</td>\n",
              "      <td>0.603235</td>\n",
              "      <td>-0.279918</td>\n",
              "      <td>-0.282391</td>\n",
              "      <td>-0.121443</td>\n",
              "      <td>-1.058107</td>\n",
              "      <td>-1.008776</td>\n",
              "    </tr>\n",
              "    <tr>\n",
              "      <th>China</th>\n",
              "      <td>-1.132741</td>\n",
              "      <td>4.761102</td>\n",
              "      <td>9.662057</td>\n",
              "      <td>9.662057</td>\n",
              "      <td>7.383035</td>\n",
              "      <td>7.383035</td>\n",
              "      <td>4.761102</td>\n",
              "      <td>-0.457115</td>\n",
              "      <td>4.761102</td>\n",
              "      <td>-0.234067</td>\n",
              "      <td>...</td>\n",
              "      <td>12.285511</td>\n",
              "      <td>0.001584</td>\n",
              "      <td>13.149532</td>\n",
              "      <td>-0.280734</td>\n",
              "      <td>-0.483336</td>\n",
              "      <td>-0.283348</td>\n",
              "      <td>-0.283885</td>\n",
              "      <td>-0.121459</td>\n",
              "      <td>1.937841</td>\n",
              "      <td>-1.016069</td>\n",
              "    </tr>\n",
              "    <tr>\n",
              "      <th>Democratic Republic of the Congo</th>\n",
              "      <td>-0.869282</td>\n",
              "      <td>3.856667</td>\n",
              "      <td>0.323238</td>\n",
              "      <td>0.323238</td>\n",
              "      <td>-0.206189</td>\n",
              "      <td>-0.206189</td>\n",
              "      <td>3.856667</td>\n",
              "      <td>1.264789</td>\n",
              "      <td>3.856667</td>\n",
              "      <td>-0.714675</td>\n",
              "      <td>...</td>\n",
              "      <td>-0.403907</td>\n",
              "      <td>-0.062992</td>\n",
              "      <td>0.274464</td>\n",
              "      <td>-0.599321</td>\n",
              "      <td>1.821945</td>\n",
              "      <td>-0.267265</td>\n",
              "      <td>-0.206928</td>\n",
              "      <td>-0.121003</td>\n",
              "      <td>0.776225</td>\n",
              "      <td>-0.941840</td>\n",
              "    </tr>\n",
              "    <tr>\n",
              "      <th>India</th>\n",
              "      <td>-0.254543</td>\n",
              "      <td>4.611606</td>\n",
              "      <td>8.990070</td>\n",
              "      <td>8.990070</td>\n",
              "      <td>1.260714</td>\n",
              "      <td>1.260714</td>\n",
              "      <td>4.611606</td>\n",
              "      <td>-0.451609</td>\n",
              "      <td>4.611606</td>\n",
              "      <td>-0.635427</td>\n",
              "      <td>...</td>\n",
              "      <td>1.560217</td>\n",
              "      <td>-0.091774</td>\n",
              "      <td>3.193409</td>\n",
              "      <td>-0.929827</td>\n",
              "      <td>0.231402</td>\n",
              "      <td>-0.283058</td>\n",
              "      <td>-0.283809</td>\n",
              "      <td>-0.121459</td>\n",
              "      <td>2.202822</td>\n",
              "      <td>-1.015749</td>\n",
              "    </tr>\n",
              "    <tr>\n",
              "      <th>Indonesia</th>\n",
              "      <td>-0.236979</td>\n",
              "      <td>7.067680</td>\n",
              "      <td>1.568341</td>\n",
              "      <td>1.568341</td>\n",
              "      <td>0.346619</td>\n",
              "      <td>0.346619</td>\n",
              "      <td>7.067680</td>\n",
              "      <td>0.458495</td>\n",
              "      <td>7.067680</td>\n",
              "      <td>-0.533557</td>\n",
              "      <td>...</td>\n",
              "      <td>2.766237</td>\n",
              "      <td>0.027403</td>\n",
              "      <td>0.734075</td>\n",
              "      <td>-0.829375</td>\n",
              "      <td>0.146809</td>\n",
              "      <td>-0.281608</td>\n",
              "      <td>-0.282063</td>\n",
              "      <td>-0.121430</td>\n",
              "      <td>1.947390</td>\n",
              "      <td>-1.004004</td>\n",
              "    </tr>\n",
              "    <tr>\n",
              "      <th>United States of America</th>\n",
              "      <td>1.589675</td>\n",
              "      <td>3.112127</td>\n",
              "      <td>1.964147</td>\n",
              "      <td>1.964147</td>\n",
              "      <td>10.823400</td>\n",
              "      <td>10.823400</td>\n",
              "      <td>3.112127</td>\n",
              "      <td>-0.187830</td>\n",
              "      <td>3.112127</td>\n",
              "      <td>2.543545</td>\n",
              "      <td>...</td>\n",
              "      <td>0.861400</td>\n",
              "      <td>0.006435</td>\n",
              "      <td>0.923430</td>\n",
              "      <td>-0.775065</td>\n",
              "      <td>-0.691675</td>\n",
              "      <td>-0.283313</td>\n",
              "      <td>-0.283866</td>\n",
              "      <td>-0.121454</td>\n",
              "      <td>0.512200</td>\n",
              "      <td>-0.994051</td>\n",
              "    </tr>\n",
              "  </tbody>\n",
              "</table>\n",
              "<p>6 rows × 28 columns</p>\n",
              "</div>\n",
              "      <button class=\"colab-df-convert\" onclick=\"convertToInteractive('df-705a314f-900e-40e6-97e2-10b0459152fd')\"\n",
              "              title=\"Convert this dataframe to an interactive table.\"\n",
              "              style=\"display:none;\">\n",
              "        \n",
              "  <svg xmlns=\"http://www.w3.org/2000/svg\" height=\"24px\"viewBox=\"0 0 24 24\"\n",
              "       width=\"24px\">\n",
              "    <path d=\"M0 0h24v24H0V0z\" fill=\"none\"/>\n",
              "    <path d=\"M18.56 5.44l.94 2.06.94-2.06 2.06-.94-2.06-.94-.94-2.06-.94 2.06-2.06.94zm-11 1L8.5 8.5l.94-2.06 2.06-.94-2.06-.94L8.5 2.5l-.94 2.06-2.06.94zm10 10l.94 2.06.94-2.06 2.06-.94-2.06-.94-.94-2.06-.94 2.06-2.06.94z\"/><path d=\"M17.41 7.96l-1.37-1.37c-.4-.4-.92-.59-1.43-.59-.52 0-1.04.2-1.43.59L10.3 9.45l-7.72 7.72c-.78.78-.78 2.05 0 2.83L4 21.41c.39.39.9.59 1.41.59.51 0 1.02-.2 1.41-.59l7.78-7.78 2.81-2.81c.8-.78.8-2.07 0-2.86zM5.41 20L4 18.59l7.72-7.72 1.47 1.35L5.41 20z\"/>\n",
              "  </svg>\n",
              "      </button>\n",
              "      \n",
              "  <style>\n",
              "    .colab-df-container {\n",
              "      display:flex;\n",
              "      flex-wrap:wrap;\n",
              "      gap: 12px;\n",
              "    }\n",
              "\n",
              "    .colab-df-convert {\n",
              "      background-color: #E8F0FE;\n",
              "      border: none;\n",
              "      border-radius: 50%;\n",
              "      cursor: pointer;\n",
              "      display: none;\n",
              "      fill: #1967D2;\n",
              "      height: 32px;\n",
              "      padding: 0 0 0 0;\n",
              "      width: 32px;\n",
              "    }\n",
              "\n",
              "    .colab-df-convert:hover {\n",
              "      background-color: #E2EBFA;\n",
              "      box-shadow: 0px 1px 2px rgba(60, 64, 67, 0.3), 0px 1px 3px 1px rgba(60, 64, 67, 0.15);\n",
              "      fill: #174EA6;\n",
              "    }\n",
              "\n",
              "    [theme=dark] .colab-df-convert {\n",
              "      background-color: #3B4455;\n",
              "      fill: #D2E3FC;\n",
              "    }\n",
              "\n",
              "    [theme=dark] .colab-df-convert:hover {\n",
              "      background-color: #434B5C;\n",
              "      box-shadow: 0px 1px 3px 1px rgba(0, 0, 0, 0.15);\n",
              "      filter: drop-shadow(0px 1px 2px rgba(0, 0, 0, 0.3));\n",
              "      fill: #FFFFFF;\n",
              "    }\n",
              "  </style>\n",
              "\n",
              "      <script>\n",
              "        const buttonEl =\n",
              "          document.querySelector('#df-705a314f-900e-40e6-97e2-10b0459152fd button.colab-df-convert');\n",
              "        buttonEl.style.display =\n",
              "          google.colab.kernel.accessAllowed ? 'block' : 'none';\n",
              "\n",
              "        async function convertToInteractive(key) {\n",
              "          const element = document.querySelector('#df-705a314f-900e-40e6-97e2-10b0459152fd');\n",
              "          const dataTable =\n",
              "            await google.colab.kernel.invokeFunction('convertToInteractive',\n",
              "                                                     [key], {});\n",
              "          if (!dataTable) return;\n",
              "\n",
              "          const docLinkHtml = 'Like what you see? Visit the ' +\n",
              "            '<a target=\"_blank\" href=https://colab.research.google.com/notebooks/data_table.ipynb>data table notebook</a>'\n",
              "            + ' to learn more about interactive tables.';\n",
              "          element.innerHTML = '';\n",
              "          dataTable['output_type'] = 'display_data';\n",
              "          await google.colab.output.renderOutput(dataTable, element);\n",
              "          const docLink = document.createElement('div');\n",
              "          docLink.innerHTML = docLinkHtml;\n",
              "          element.appendChild(docLink);\n",
              "        }\n",
              "      </script>\n",
              "    </div>\n",
              "  </div>\n",
              "  "
            ]
          },
          "metadata": {},
          "execution_count": 129
        }
      ]
    },
    {
      "cell_type": "markdown",
      "source": [
        "### \"total_emissions\" and \"emissions_per_GDP\""
      ],
      "metadata": {
        "id": "qn83RFrVgLXn"
      }
    },
    {
      "cell_type": "code",
      "source": [
        "#scaled_df\n",
        "\n",
        "X = scaled_df.loc[:, [\"total_emissions\",\"emissions_per_GDP\"]].values"
      ],
      "metadata": {
        "id": "Wa37XcgNgLXo"
      },
      "execution_count": 130,
      "outputs": []
    },
    {
      "cell_type": "code",
      "source": [
        "dendrogram = sch.dendrogram(sch.linkage(X, method  = \"ward\"))\n",
        "plt.rcParams[\"figure.figsize\"] = [30, 10]\n",
        "plt.rcParams[\"figure.autolayout\"] = True\n",
        "plt.title('Dendrogram', fontsize=24)\n",
        "plt.xlabel('Countries', fontsize=30)\n",
        "plt.ylabel('Euclidean distances', fontsize=30)\n",
        "plt.tick_params(axis='x', which='both', bottom='off', top='off', labelbottom='off')\n",
        "\n",
        "plt.savefig('plot32')\n",
        "\n",
        "plt.show()\n",
        "\n",
        "\n",
        "\n"
      ],
      "metadata": {
        "colab": {
          "base_uri": "https://localhost:8080/",
          "height": 401
        },
        "id": "kS-gHsVrgLXp",
        "outputId": "79de2686-c894-4a37-8d02-07095dde9d5c"
      },
      "execution_count": 131,
      "outputs": [
        {
          "output_type": "display_data",
          "data": {
            "text/plain": [
              "<Figure size 2160x720 with 1 Axes>"
            ],
            "image/png": "[encoded data removed]"
          },
          "metadata": {
            "needs_background": "light"
          }
        }
      ]
    },
    {
      "cell_type": "code",
      "source": [
        "\n",
        "# There are two algorithms for hierarchical clustering: #Agglomerative Hierarchical Clustering and \n",
        "# Divisive Hierarchical Clustering. We choose Euclidean distance and ward method for our algorithm class\n",
        "ac = AgglomerativeClustering(n_clusters = 8, affinity = 'euclidean', linkage ='ward')"
      ],
      "metadata": {
        "id": "QkzqfS9BgLXq"
      },
      "execution_count": 132,
      "outputs": []
    },
    {
      "cell_type": "code",
      "source": [
        "# Lets try to fit the hierarchical clustering algorithm  to dataset #X while creating the clusters vector that tells for each customer #which cluster the customer belongs to.\n",
        "y_ac=ac.fit_predict(X)"
      ],
      "metadata": {
        "id": "yqgghr2bgLXr"
      },
      "execution_count": 133,
      "outputs": []
    },
    {
      "cell_type": "code",
      "source": [
        "print(ac.labels_)"
      ],
      "metadata": {
        "colab": {
          "base_uri": "https://localhost:8080/"
        },
        "id": "ovw_fOQAgLXs",
        "outputId": "54159d84-bdd9-47e8-fc10-d5562b5933da"
      },
      "execution_count": 134,
      "outputs": [
        {
          "output_type": "stream",
          "name": "stdout",
          "text": [
            "[7 5 5 1 5 1 5 1 5 5 5 5 1 5 5 5 0 7 5 1 5 7 6 5 5 7 7 5 7 7 1 3 0 5 2 5 5\n",
            " 1 5 7 5 5 7 5 5 5 5 5 4 5 5 5 5 5 5 5 5 7 5 5 1 5 1 5 5 5 7 5 5 5 5 5 5 5\n",
            " 7 0 0 7 5 5 5 2 6 5 5 5 5 5 5 5 5 5 5 5 5 5 7 5 5 5 0 5 5 5 7 7 1 5 7 5 5\n",
            " 7 5 1 7 5 5 0 1 7 5 7 5 5 5 7 7 1 5 5 5 5 1 5 5 1 1 1 5 5 5 5 5 5 5 1 5 5\n",
            " 5 5 5 7 5 7 5 5 7 5 5 5 5 3 5 0 5 5 1 0 5 5 5 7 1 7 5 5 5 5 5 5 5 7 5 5 5\n",
            " 1 2 5 5 7 1 0 7 7]\n"
          ]
        }
      ]
    },
    {
      "cell_type": "code",
      "source": [
        "#Visualizing clusters\n",
        "plt.scatter(X[y_ac==0, 0], X[y_ac==0, 1], s=100, c='red', label ='Cluster 1')\n",
        "plt.scatter(X[y_ac==1, 0], X[y_ac==1, 1], s=100, c='blue', label ='Cluster 2')\n",
        "plt.scatter(X[y_ac==2, 0], X[y_ac==2, 1], s=100, c='green', label ='Cluster 3')\n",
        "plt.scatter(X[y_ac==3, 0], X[y_ac==3, 1], s=100, c='cyan', label ='Cluster 4')\n",
        "plt.scatter(X[y_ac==4, 0], X[y_ac==4, 1], s=100, c='magenta', label ='Cluster 5')\n",
        "plt.scatter(X[y_ac==5, 0], X[y_ac==5, 1], s=100, c='black', label ='Cluster 6')\n",
        "#plt.scatter(X[y_ac==6, 0], X[y_ac==6, 1], s=100, c='orange', label ='Cluster 7')\n",
        "#plt.scatter(X[y_ac==7, 0], X[y_ac==7, 1], s=100, c='white', label ='Cluster 8')\n",
        "plt.title('Clusters de Países (Hierarchical Clustering Model)')\n",
        "plt.xlabel('total_emissions', fontsize=30)\n",
        "plt.ylabel(\"emissions_per_GDP\", fontsize=30)\n",
        "\n",
        "plt.savefig('plot33')\n",
        "\n",
        "plt.show()"
      ],
      "metadata": {
        "colab": {
          "base_uri": "https://localhost:8080/",
          "height": 401
        },
        "id": "VPNUv4GSgLXt",
        "outputId": "56cbd3ed-4cd7-4738-e83a-f04333d3a22a"
      },
      "execution_count": 135,
      "outputs": [
        {
          "output_type": "display_data",
          "data": {
            "text/plain": [
              "<Figure size 2160x720 with 1 Axes>"
            ],
            "image/png": "[encoded data removed]"
          },
          "metadata": {
            "needs_background": "light"
          }
        }
      ]
    },
    {
      "cell_type": "markdown",
      "source": [
        "### \"total_emissions\" and \"emissions_per_GDP_mundial\""
      ],
      "metadata": {
        "id": "dS1FLjVsgM0H"
      }
    },
    {
      "cell_type": "code",
      "source": [
        "#scaled_df\n",
        "\n",
        "X = scaled_df.loc[:, [\"total_emissions\",\"emissions_per_GDP_mundial\"]].values"
      ],
      "metadata": {
        "id": "I5aXiIHKgM0H"
      },
      "execution_count": 136,
      "outputs": []
    },
    {
      "cell_type": "code",
      "source": [
        "dendrogram = sch.dendrogram(sch.linkage(X, method  = \"ward\"))\n",
        "plt.rcParams[\"figure.figsize\"] = [30, 10]\n",
        "plt.rcParams[\"figure.autolayout\"] = True\n",
        "plt.title('Dendrogram', fontsize=24)\n",
        "plt.xlabel('Countries', fontsize=30)\n",
        "plt.ylabel('Euclidean distances', fontsize=30)\n",
        "plt.tick_params(axis='x', which='both', bottom='off', top='off', labelbottom='off')\n",
        "\n",
        "plt.savefig('plot42')\n",
        "\n",
        "plt.show()\n",
        "\n",
        "\n",
        "\n"
      ],
      "metadata": {
        "colab": {
          "base_uri": "https://localhost:8080/",
          "height": 401
        },
        "id": "T-1ctWLNgM0I",
        "outputId": "12c79dbf-9408-4730-b99d-a2982ba4dbb1"
      },
      "execution_count": 137,
      "outputs": [
        {
          "output_type": "display_data",
          "data": {
            "text/plain": [
              "<Figure size 2160x720 with 1 Axes>"
            ],
            "image/png": "[encoded data removed]"
          },
          "metadata": {
            "needs_background": "light"
          }
        }
      ]
    },
    {
      "cell_type": "code",
      "source": [
        "\n",
        "# There are two algorithms for hierarchical clustering: #Agglomerative Hierarchical Clustering and \n",
        "# Divisive Hierarchical Clustering. We choose Euclidean distance and ward method for our algorithm class\n",
        "ac = AgglomerativeClustering(n_clusters = 5, affinity = 'euclidean', linkage ='ward')"
      ],
      "metadata": {
        "id": "lm3BWSX9gM0I"
      },
      "execution_count": 138,
      "outputs": []
    },
    {
      "cell_type": "code",
      "source": [
        "# Lets try to fit the hierarchical clustering algorithm  to dataset #X while creating the clusters vector that tells for each customer #which cluster the customer belongs to.\n",
        "y_ac=ac.fit_predict(X)"
      ],
      "metadata": {
        "id": "ZOmuL2fJgM0J"
      },
      "execution_count": 139,
      "outputs": []
    },
    {
      "cell_type": "code",
      "source": [
        "print(ac.labels_)"
      ],
      "metadata": {
        "colab": {
          "base_uri": "https://localhost:8080/"
        },
        "id": "A0-Eoh3ugM0J",
        "outputId": "4a4b9525-280f-4a24-9010-78b925005179"
      },
      "execution_count": 140,
      "outputs": [
        {
          "output_type": "stream",
          "name": "stdout",
          "text": [
            "[4 4 4 1 4 3 4 3 4 4 4 4 3 4 1 4 4 4 4 1 4 1 2 4 4 1 4 4 1 1 3 1 1 4 0 4 4\n",
            " 3 4 4 4 4 1 4 1 4 4 4 0 4 4 4 4 1 1 4 4 4 4 4 3 4 1 4 4 4 4 4 1 4 4 4 4 4\n",
            " 1 4 1 4 4 4 4 0 2 1 4 1 4 1 4 1 4 1 1 4 4 4 1 4 4 4 4 4 4 4 1 4 1 4 1 4 4\n",
            " 4 4 3 1 4 4 1 3 4 4 1 1 4 1 1 1 3 4 4 4 4 3 4 4 1 1 3 1 1 4 4 1 4 1 3 4 4\n",
            " 4 4 4 4 4 4 4 4 4 4 4 4 4 1 1 1 1 4 1 4 1 4 4 4 1 4 4 4 4 4 1 4 4 1 1 4 1\n",
            " 3 0 1 1 4 1 4 4 4]\n"
          ]
        }
      ]
    },
    {
      "cell_type": "code",
      "source": [
        "#Visualizing clusters\n",
        "plt.scatter(X[y_ac==0, 0], X[y_ac==0, 1], s=100, c='red', label ='Cluster 1')\n",
        "plt.scatter(X[y_ac==1, 0], X[y_ac==1, 1], s=100, c='blue', label ='Cluster 2')\n",
        "plt.scatter(X[y_ac==2, 0], X[y_ac==2, 1], s=100, c='green', label ='Cluster 3')\n",
        "plt.scatter(X[y_ac==3, 0], X[y_ac==3, 1], s=100, c='cyan', label ='Cluster 4')\n",
        "plt.scatter(X[y_ac==4, 0], X[y_ac==4, 1], s=100, c='cyan', label ='Cluster 5')\n",
        "plt.scatter(X[y_ac==5, 0], X[y_ac==5, 1], s=100, c='black', label ='Cluster 6')\n",
        "plt.scatter(X[y_ac==6, 0], X[y_ac==6, 1], s=100, c='orange', label ='Cluster 7')\n",
        "plt.scatter(X[y_ac==7, 0], X[y_ac==7, 1], s=100, c='white', label ='Cluster 8')\n",
        "plt.title('Clusters de Países (Hierarchical Clustering Model)')\n",
        "plt.xlabel('total_emissions', fontsize=30)\n",
        "plt.ylabel(\"emissions_per_GDP_mundial\", fontsize=30)\n",
        "plt.savefig('plot44') \n",
        "plt.show()"
      ],
      "metadata": {
        "colab": {
          "base_uri": "https://localhost:8080/",
          "height": 401
        },
        "id": "rnNHnkg0gM0J",
        "outputId": "b7385165-abf2-4295-c089-8a4c02e6d814"
      },
      "execution_count": 141,
      "outputs": [
        {
          "output_type": "display_data",
          "data": {
            "text/plain": [
              "<Figure size 2160x720 with 1 Axes>"
            ],
            "image/png": "[encoded data removed]"
          },
          "metadata": {
            "needs_background": "light"
          }
        }
      ]
    },
    {
      "cell_type": "markdown",
      "source": [
        "### \"emissions_per_capita\" and \"GDP19_per_capita\", with outliers."
      ],
      "metadata": {
        "id": "qJeOrhkWM9Zu"
      }
    },
    {
      "cell_type": "code",
      "source": [
        "scaled_df.info()"
      ],
      "metadata": {
        "id": "zukdoGYXVXwj",
        "colab": {
          "base_uri": "https://localhost:8080/"
        },
        "outputId": "dc5b10d6-da80-4586-f016-eac0055a5be0"
      },
      "execution_count": 142,
      "outputs": [
        {
          "output_type": "stream",
          "name": "stdout",
          "text": [
            "<class 'pandas.core.frame.DataFrame'>\n",
            "Index: 194 entries, Afghanistan to Zimbabwe\n",
            "Data columns (total 28 columns):\n",
            " #   Column                                  Non-Null Count  Dtype  \n",
            "---  ------                                  --------------  -----  \n",
            " 0   index                                   194 non-null    float64\n",
            " 1   total_emissions                         194 non-null    float64\n",
            " 2   total_population                        194 non-null    float64\n",
            " 3   %_population                            194 non-null    float64\n",
            " 4   GDP_2019                                194 non-null    float64\n",
            " 5   %_GDP_2019                              194 non-null    float64\n",
            " 6   %_emissions                             194 non-null    float64\n",
            " 7   emissions_per_capita                    194 non-null    float64\n",
            " 8   emissions_per_capita_mundial            194 non-null    float64\n",
            " 9   GDP19_per_capita                        194 non-null    float64\n",
            " 10  GDP19_per_capita_mundial                194 non-null    float64\n",
            " 11  emissions_per_GDP                       194 non-null    float64\n",
            " 12  emissions_per_GDP_mundial               194 non-null    float64\n",
            " 13  production_per_capita                   194 non-null    float64\n",
            " 14  %_production_mundial                    194 non-null    float64\n",
            " 15  emissions_per_production                194 non-null    float64\n",
            " 16  emissions_per_production_mundial        194 non-null    float64\n",
            " 17  Total Production                        194 non-null    float64\n",
            " 18  Annual CO2 emissions growth (abs)       194 non-null    float64\n",
            " 19  emissions_growth_per_capita             194 non-null    float64\n",
            " 20  Annual consumption-based CO2 emissions  194 non-null    float64\n",
            " 21  consumption_CO2emissions_per_capita     194 non-null    float64\n",
            " 22  production_per_GDP                      194 non-null    float64\n",
            " 23  production_per_GDP_per_capita           194 non-null    float64\n",
            " 24  emissions_per_GDP_per_capita            194 non-null    float64\n",
            " 25  emissions_per_production_per_capita     194 non-null    float64\n",
            " 26  CO2 per unit energy                     194 non-null    float64\n",
            " 27  CO2_per_unit_enery_per_capita           194 non-null    float64\n",
            "dtypes: float64(28)\n",
            "memory usage: 44.0+ KB\n"
          ]
        }
      ]
    },
    {
      "cell_type": "code",
      "source": [
        "#scaled_df\n",
        "\n",
        "X = scaled_df_capita.loc[:, [\"emissions_per_capita\",\"GDP19_per_capita\"]].values"
      ],
      "metadata": {
        "id": "2JpN6jqRM9Zu"
      },
      "execution_count": 143,
      "outputs": []
    },
    {
      "cell_type": "code",
      "source": [
        "dendrogram = sch.dendrogram(sch.linkage(X, method  = \"ward\"))\n",
        "plt.rcParams[\"figure.figsize\"] = [30, 10]\n",
        "plt.rcParams[\"figure.autolayout\"] = True\n",
        "plt.title('Dendrogram', fontsize=24)\n",
        "plt.xlabel('Countries', fontsize=30)\n",
        "plt.ylabel('Euclidean distances', fontsize=30)\n",
        "plt.tick_params(axis='x', which='both', bottom='off', top='off', labelbottom='off')\n",
        "\n",
        "plt.savefig('plot52')\n",
        "\n",
        "plt.show()\n",
        "\n",
        "\n",
        "\n"
      ],
      "metadata": {
        "colab": {
          "base_uri": "https://localhost:8080/",
          "height": 401
        },
        "outputId": "2133a941-8d42-43de-bd0d-acb78d79b5c3",
        "id": "hiswolfVM9Zv"
      },
      "execution_count": 144,
      "outputs": [
        {
          "output_type": "display_data",
          "data": {
            "text/plain": [
              "<Figure size 2160x720 with 1 Axes>"
            ],
            "image/png": "[encoded data removed]"
          },
          "metadata": {
            "needs_background": "light"
          }
        }
      ]
    },
    {
      "cell_type": "code",
      "source": [
        "\n",
        "# There are two algorithms for hierarchical clustering: #Agglomerative Hierarchical Clustering and \n",
        "# Divisive Hierarchical Clustering. We choose Euclidean distance and ward method for our algorithm class\n",
        "ac = AgglomerativeClustering(n_clusters = 6, affinity = 'euclidean', linkage ='ward')"
      ],
      "metadata": {
        "id": "pnXfHZPcM9Zy"
      },
      "execution_count": 145,
      "outputs": []
    },
    {
      "cell_type": "code",
      "source": [
        "# Lets try to fit the hierarchical clustering algorithm  to dataset #X while creating the clusters vector that tells for each customer #which cluster the customer belongs to.\n",
        "y_ac=ac.fit_predict(X)"
      ],
      "metadata": {
        "id": "4zh24EwZM9aJ"
      },
      "execution_count": 146,
      "outputs": []
    },
    {
      "cell_type": "code",
      "source": [
        "print(ac.labels_)"
      ],
      "metadata": {
        "colab": {
          "base_uri": "https://localhost:8080/"
        },
        "outputId": "a51a5577-bb00-474a-eada-1557ed2814db",
        "id": "fE48pXA2M9aM"
      },
      "execution_count": 147,
      "outputs": [
        {
          "output_type": "stream",
          "name": "stdout",
          "text": [
            "[0 0 0 0 5 0 0 1 1 0 1 5 0 5 0 1 2 0 0 3 0 2 0 1 0 0 0 0 0 0 1 3 3 5 0 1 4\n",
            " 0 0 0 5 0 0 5 0 5 5 0 3 4 0 0 0 0 0 0 0 0 5 0 0 3 1 3 5 0 0 0 1 0 5 0 5 0\n",
            " 0 0 2 0 0 5 4 0 0 0 0 4 1 1 0 1 0 0 0 0 1 0 0 5 0 0 0 0 5 4 0 0 0 0 0 1 5\n",
            " 0 0 0 3 0 0 0 0 3 0 0 1 1 1 0 0 0 1 0 4 5 0 0 5 3 3 0 0 5 5 4 1 0 0 0 0 5\n",
            " 0 0 0 0 5 0 0 5 0 4 5 1 0 0 0 0 1 0 0 2 1 4 0 0 0 0 0 0 5 0 0 0 0 0 0 1 1\n",
            " 0 4 3 0 0 0 0 0 0]\n"
          ]
        }
      ]
    },
    {
      "cell_type": "code",
      "source": [
        "#Visualizing clusters\n",
        "plt.scatter(X[y_ac==0, 0], X[y_ac==0, 1], s=100, c='red', label ='Cluster 1')\n",
        "plt.scatter(X[y_ac==1, 0], X[y_ac==1, 1], s=100, c='blue', label ='Cluster 2')\n",
        "plt.scatter(X[y_ac==2, 0], X[y_ac==2, 1], s=100, c='green', label ='Cluster 3')\n",
        "plt.scatter(X[y_ac==3, 0], X[y_ac==3, 1], s=100, c='cyan', label ='Cluster 4')\n",
        "plt.scatter(X[y_ac==4, 0], X[y_ac==4, 1], s=100, c='white', label ='Cluster 5')\n",
        "plt.scatter(X[y_ac==5, 0], X[y_ac==5, 1], s=100, c='black', label ='Cluster 6')\n",
        "#plt.scatter(X[y_ac==6, 0], X[y_ac==6, 1], s=100, c='orange', label ='Cluster 7')\n",
        "#plt.scatter(X[y_ac==7, 0], X[y_ac==7, 1], s=100, c='yellow', label ='Cluster 8')\n",
        "plt.title('Clusters de Países (Hierarchical Clustering Model)')\n",
        "plt.xlabel('emissions_per_capita', fontsize=30)\n",
        "plt.ylabel(\"GDP19_per_capita\", fontsize=30)\n",
        "\"\"\"for i, txt in enumerate(n):\n",
        "    ax.annotate(txt, (z[i], y[i]))plt.text(x=df.G[i]+0.3,y=df.GA[i]+0.3,s=df.Team[i], \n",
        "          fontdict=dict(color=’red’,size=10),\n",
        "          bbox=dict(facecolor=’yellow’,alpha=0.5))\"\"\"\n",
        "plt.savefig('plot54') \n",
        "plt.show()"
      ],
      "metadata": {
        "colab": {
          "base_uri": "https://localhost:8080/",
          "height": 619
        },
        "outputId": "8c80a72b-cc97-4400-80e2-0596958f7600",
        "id": "zFSY3nu3M9aN"
      },
      "execution_count": 159,
      "outputs": [
        {
          "output_type": "error",
          "ename": "TypeError",
          "evalue": "ignored",
          "traceback": [
            "\u001b[0;31m---------------------------------------------------------------------------\u001b[0m",
            "\u001b[0;31mTypeError\u001b[0m                                 Traceback (most recent call last)",
            "\u001b[0;32m<ipython-input-159-d33e41db681d>\u001b[0m in \u001b[0;36m<module>\u001b[0;34m()\u001b[0m\n\u001b[1;32m     12\u001b[0m \u001b[0mplt\u001b[0m\u001b[0;34m.\u001b[0m\u001b[0mylabel\u001b[0m\u001b[0;34m(\u001b[0m\u001b[0;34m\"GDP19_per_capita\"\u001b[0m\u001b[0;34m,\u001b[0m \u001b[0mfontsize\u001b[0m\u001b[0;34m=\u001b[0m\u001b[0;36m30\u001b[0m\u001b[0;34m)\u001b[0m\u001b[0;34m\u001b[0m\u001b[0;34m\u001b[0m\u001b[0m\n\u001b[1;32m     13\u001b[0m \u001b[0;32mfor\u001b[0m \u001b[0mi\u001b[0m\u001b[0;34m,\u001b[0m \u001b[0mtxt\u001b[0m \u001b[0;32min\u001b[0m \u001b[0menumerate\u001b[0m\u001b[0;34m(\u001b[0m\u001b[0;34m[\u001b[0m\u001b[0;34m\"emissions_per_capita\"\u001b[0m\u001b[0;34m,\u001b[0m \u001b[0;34m\"GDP19_per_capita\"\u001b[0m\u001b[0;34m]\u001b[0m\u001b[0;34m)\u001b[0m\u001b[0;34m:\u001b[0m\u001b[0;34m\u001b[0m\u001b[0;34m\u001b[0m\u001b[0m\n\u001b[0;32m---> 14\u001b[0;31m     \u001b[0mplt\u001b[0m\u001b[0;34m.\u001b[0m\u001b[0mannotate\u001b[0m\u001b[0;34m(\u001b[0m\u001b[0mx\u001b[0m \u001b[0;34m=\u001b[0m \u001b[0mscaled_df\u001b[0m\u001b[0;34m.\u001b[0m\u001b[0memissions_per_capita\u001b[0m\u001b[0;34m[\u001b[0m\u001b[0mi\u001b[0m\u001b[0;34m]\u001b[0m\u001b[0;34m,\u001b[0m \u001b[0my\u001b[0m \u001b[0;34m=\u001b[0m \u001b[0mscaled_df\u001b[0m\u001b[0;34m.\u001b[0m\u001b[0mGDP19_per_capita\u001b[0m\u001b[0;34m[\u001b[0m\u001b[0mi\u001b[0m\u001b[0;34m]\u001b[0m\u001b[0;34m)\u001b[0m\u001b[0;34m\u001b[0m\u001b[0;34m\u001b[0m\u001b[0m\n\u001b[0m\u001b[1;32m     15\u001b[0m     \"\"\"plt.text(x=df.G[i]+0.3,y=df.GA[i]+0.3,s=df.Team[i], \n\u001b[1;32m     16\u001b[0m           \u001b[0mfontdict\u001b[0m\u001b[0;34m=\u001b[0m\u001b[0mdict\u001b[0m\u001b[0;34m(\u001b[0m\u001b[0mcolor\u001b[0m\u001b[0;34m=\u001b[0m\u001b[0;31m’\u001b[0m\u001b[0mred\u001b[0m\u001b[0;31m’\u001b[0m\u001b[0;34m,\u001b[0m\u001b[0msize\u001b[0m\u001b[0;34m=\u001b[0m\u001b[0;36m10\u001b[0m\u001b[0;34m)\u001b[0m\u001b[0;34m,\u001b[0m\u001b[0;34m\u001b[0m\u001b[0;34m\u001b[0m\u001b[0m\n",
            "\u001b[0;31mTypeError\u001b[0m: annotate() missing 2 required positional arguments: 's' and 'xy'"
          ]
        },
        {
          "output_type": "display_data",
          "data": {
            "text/plain": [
              "<Figure size 2160x720 with 1 Axes>"
            ],
            "image/png": "[encoded data removed]"
          },
          "metadata": {
            "needs_background": "light"
          }
        }
      ]
    },
    {
      "cell_type": "markdown",
      "source": [
        "### \"emissions_per_capita\" and \"production_per_capita\", with outliers. "
      ],
      "metadata": {
        "id": "I5KSEXeGcI_y"
      }
    },
    {
      "cell_type": "code",
      "source": [
        "scaled_df.info()"
      ],
      "metadata": {
        "id": "u_i8PNZscI_z"
      },
      "execution_count": null,
      "outputs": []
    },
    {
      "cell_type": "code",
      "source": [
        "#scaled_df\n",
        "\n",
        "X = scaled_df.loc[:, [\"emissions_per_capita\",\"production_per_capita\"]].values"
      ],
      "metadata": {
        "id": "CK-ounD_cI_z"
      },
      "execution_count": null,
      "outputs": []
    },
    {
      "cell_type": "code",
      "source": [
        "dendrogram = sch.dendrogram(sch.linkage(X, method  = \"ward\"))\n",
        "plt.rcParams[\"figure.figsize\"] = [30, 10]\n",
        "plt.rcParams[\"figure.autolayout\"] = True\n",
        "plt.title('Dendrogram', fontsize=24)\n",
        "plt.xlabel('Countries', fontsize=30)\n",
        "plt.ylabel('Euclidean distances', fontsize=30)\n",
        "plt.tick_params(axis='x', which='both', bottom='off', top='off', labelbottom='off')\n",
        "\n",
        "plt.savefig('plot62')\n",
        "\n",
        "plt.show()\n",
        "\n",
        "\n",
        "\n"
      ],
      "metadata": {
        "id": "N8_M_t2vcI_0"
      },
      "execution_count": null,
      "outputs": []
    },
    {
      "cell_type": "code",
      "source": [
        "\n",
        "# There are two algorithms for hierarchical clustering: #Agglomerative Hierarchical Clustering and \n",
        "# Divisive Hierarchical Clustering. We choose Euclidean distance and ward method for our algorithm class\n",
        "ac = AgglomerativeClustering(n_clusters = 6, affinity = 'euclidean', linkage ='ward')"
      ],
      "metadata": {
        "id": "qDa6L_BvcI_1"
      },
      "execution_count": null,
      "outputs": []
    },
    {
      "cell_type": "code",
      "source": [
        "# Lets try to fit the hierarchical clustering algorithm  to dataset #X while creating the clusters vector that tells for each customer #which cluster the customer belongs to.\n",
        "y_ac=ac.fit_predict(X)"
      ],
      "metadata": {
        "id": "M64ig3uxcI_1"
      },
      "execution_count": null,
      "outputs": []
    },
    {
      "cell_type": "code",
      "source": [
        "print(ac.labels_)"
      ],
      "metadata": {
        "id": "1s18Ah2vcI_2"
      },
      "execution_count": null,
      "outputs": []
    },
    {
      "cell_type": "code",
      "source": [
        "#Visualizing clusters\n",
        "plt.scatter(X[y_ac==0, 0], X[y_ac==0, 1], s=100, c='red', label ='Cluster 1')\n",
        "plt.scatter(X[y_ac==1, 0], X[y_ac==1, 1], s=100, c='blue', label ='Cluster 2')\n",
        "plt.scatter(X[y_ac==2, 0], X[y_ac==2, 1], s=100, c='green', label ='Cluster 3')\n",
        "plt.scatter(X[y_ac==3, 0], X[y_ac==3, 1], s=100, c='cyan', label ='Cluster 4')\n",
        "plt.scatter(X[y_ac==4, 0], X[y_ac==4, 1], s=100, c='white', label ='Cluster 5')\n",
        "plt.scatter(X[y_ac==5, 0], X[y_ac==5, 1], s=100, c='black', label ='Cluster 6')\n",
        "plt.scatter(X[y_ac==6, 0], X[y_ac==6, 1], s=100, c='orange', label ='Cluster 7')\n",
        "#plt.scatter(X[y_ac==7, 0], X[y_ac==7, 1], s=100, c='yellow', label ='Cluster 8')\n",
        "plt.title('Clusters de Países (Hierarchical Clustering Model)')\n",
        "plt.xlabel('emissions_per_capita', fontsize=30)\n",
        "plt.ylabel(\"production_per_capita\", fontsize=30)\n",
        "plt.savefig('plot65') \n",
        "plt.show()"
      ],
      "metadata": {
        "id": "UGXPuiM8cI_2"
      },
      "execution_count": null,
      "outputs": []
    },
    {
      "cell_type": "markdown",
      "metadata": {
        "id": "aFj1FZUveUkd"
      },
      "source": [
        "#  KMeans Fit\n"
      ]
    },
    {
      "cell_type": "code",
      "source": [
        "scaled_df_capita.head()"
      ],
      "metadata": {
        "id": "ooq-wXsuNuqU"
      },
      "execution_count": null,
      "outputs": []
    },
    {
      "cell_type": "code",
      "execution_count": null,
      "metadata": {
        "ExecuteTime": {
          "end_time": "2021-11-14T15:55:35.660581Z",
          "start_time": "2021-11-14T15:55:33.977Z"
        },
        "id": "bZjl9UQPhr8q"
      },
      "outputs": [],
      "source": [
        "cluster_model = KMeans(n_clusters = 7)\n",
        "cluster_model.fit(scaled_df_capita)"
      ]
    },
    {
      "cell_type": "code",
      "execution_count": null,
      "metadata": {
        "ExecuteTime": {
          "end_time": "2021-11-14T15:55:35.666564Z",
          "start_time": "2021-11-14T15:55:33.993Z"
        },
        "id": "OOGFi1Nwhr8s"
      },
      "outputs": [],
      "source": [
        "labels = cluster_model.predict(scaled_df_capita)"
      ]
    },
    {
      "cell_type": "code",
      "execution_count": null,
      "metadata": {
        "ExecuteTime": {
          "end_time": "2021-11-14T15:55:35.667561Z",
          "start_time": "2021-11-14T15:55:33.996Z"
        },
        "id": "FYV-6bXNhr8s"
      },
      "outputs": [],
      "source": [
        "scaled_df_capita[\"cluster\"] = labels"
      ]
    },
    {
      "cell_type": "code",
      "execution_count": null,
      "metadata": {
        "ExecuteTime": {
          "end_time": "2021-11-14T15:55:35.668559Z",
          "start_time": "2021-11-14T15:55:33.999Z"
        },
        "id": "7Tcteksehr8s"
      },
      "outputs": [],
      "source": [
        "scaled_df_capita.shape"
      ]
    },
    {
      "cell_type": "code",
      "source": [
        "scaled_df_capita[\"cluster\"].unique()"
      ],
      "metadata": {
        "id": "eonEh1cT5dTu"
      },
      "execution_count": null,
      "outputs": []
    },
    {
      "cell_type": "code",
      "source": [
        "scaled_df_capita.reset_index(inplace = True)"
      ],
      "metadata": {
        "id": "dIiuxdn4l8TJ"
      },
      "execution_count": null,
      "outputs": []
    },
    {
      "cell_type": "code",
      "source": [
        "scaled_df_capita.info()"
      ],
      "metadata": {
        "id": "BAUCbegMlzRX"
      },
      "execution_count": null,
      "outputs": []
    },
    {
      "cell_type": "code",
      "source": [
        "df = scaled_df_capita"
      ],
      "metadata": {
        "id": "M4A9Y7Z6mZQ9"
      },
      "execution_count": null,
      "outputs": []
    },
    {
      "cell_type": "code",
      "source": [
        "df.info()"
      ],
      "metadata": {
        "id": "DxjFrCBf1PU_"
      },
      "execution_count": null,
      "outputs": []
    },
    {
      "cell_type": "code",
      "execution_count": null,
      "metadata": {
        "ExecuteTime": {
          "end_time": "2021-11-14T15:55:35.670553Z",
          "start_time": "2021-11-14T15:55:34.001Z"
        },
        "id": "SGfHj8hHhr8s"
      },
      "outputs": [],
      "source": [
        "# Visualizing clusters according to a determined set of features.\n",
        "selected_columns = [\"emissions_per_capita\", \"GDP19_per_capita\", \"consumption_CO2emissions_per_capita\"]#, \"emissions_per_production\", \"production_per_capita\"]  \n",
        "\n",
        "sns.set_palette(\"colorblind\") # \"bright\", \"colorblind\", \"pastel\", \"muted\", \"dark\"\n",
        "sns.pairplot(df, vars = selected_columns, hue = 'cluster');"
      ]
    },
    {
      "cell_type": "markdown",
      "metadata": {
        "id": "K9qZW2PlvO5p"
      },
      "source": [
        "\n",
        "\n",
        "\n",
        "# Segmentation Emission Indicators\n",
        "\n",
        "\n",
        "\n"
      ]
    },
    {
      "cell_type": "code",
      "source": [
        "df.info()"
      ],
      "metadata": {
        "id": "HtGU8lucUlO5"
      },
      "execution_count": null,
      "outputs": []
    },
    {
      "cell_type": "code",
      "execution_count": null,
      "metadata": {
        "id": "_7ZUfUo3vO5p"
      },
      "outputs": [],
      "source": [
        "# Calculating emissions indicators\n",
        "QUANTILES = 5\n",
        "#df['emissions'] = pd.qcut(df['%_emissions'], q = QUANTILES, labels = range(QUANTILES))\n",
        "df['GDP_capita'] = pd.qcut(df['GDP19_per_capita'], q = QUANTILES, labels = range(QUANTILES))\n",
        "df['emissions_capita'] = pd.qcut(df['emissions_per_capita'], q = QUANTILES, labels = range(QUANTILES))\n",
        "df['consumption_CO2'] = pd.qcut(df['consumption_CO2emissions_per_capita'], q = QUANTILES, labels = range(QUANTILES))\n",
        "#df['CO2 per unit energy'] = pd.qcut(df['CO2 per unit energy'], q = QUANTILES, labels = range(QUANTILES))\n"
      ]
    },
    {
      "cell_type": "code",
      "source": [
        "df.pivot_table(index = 'GDP_capita', values = ['GDP19_per_capita'], aggfunc = [len, np.mean])"
      ],
      "metadata": {
        "id": "3j_P_JvS1sMZ"
      },
      "execution_count": null,
      "outputs": []
    },
    {
      "cell_type": "code",
      "execution_count": null,
      "metadata": {
        "id": "1sQxn84XvO5t"
      },
      "outputs": [],
      "source": [
        "df.pivot_table(index = 'emissions_capita', values = ['emissions_per_capita'], aggfunc = [len, np.mean])"
      ]
    },
    {
      "cell_type": "code",
      "execution_count": null,
      "metadata": {
        "id": "7e2NwSTuvO5q"
      },
      "outputs": [],
      "source": [
        "df.pivot_table(index = 'consumption_CO2', values = ['consumption_CO2emissions_per_capita'], aggfunc = [len, np.mean])"
      ]
    },
    {
      "cell_type": "code",
      "source": [
        "df.info()"
      ],
      "metadata": {
        "id": "lkh9472m3FsN"
      },
      "execution_count": null,
      "outputs": []
    },
    {
      "cell_type": "code",
      "execution_count": null,
      "metadata": {
        "id": "PfET3upgvO5x"
      },
      "outputs": [],
      "source": [
        "df[[\"Country\", \"cluster\", 'production_per_capita', \"GDP_capita\", 'emissions_per_capita', \"consumption_CO2emissions_per_capita\"]].\\\n",
        "groupby([\"cluster\", 'emissions_per_capita', 'GDP_capita', \"consumption_CO2emissions_per_capita\"]).agg('count')"
      ]
    },
    {
      "cell_type": "markdown",
      "metadata": {
        "id": "Xuq5IOjLvO5y"
      },
      "source": [
        "\n",
        "\n",
        "\n",
        "# Clusters Summary Cards\n",
        "\n",
        "\n",
        "\n"
      ]
    },
    {
      "cell_type": "code",
      "source": [
        "df.info()"
      ],
      "metadata": {
        "id": "F4XGhHpf3vGC"
      },
      "execution_count": null,
      "outputs": []
    },
    {
      "cell_type": "code",
      "source": [
        "df[\"GDP_capita\"] = df[\"GDP_capita\"].astype(int)"
      ],
      "metadata": {
        "id": "KxHbskM6hqUV"
      },
      "execution_count": null,
      "outputs": []
    },
    {
      "cell_type": "code",
      "source": [
        "df[\"emissions_capita\"] = df[\"emissions_capita\"].astype(int)"
      ],
      "metadata": {
        "id": "MLbCJpgYhqCA"
      },
      "execution_count": null,
      "outputs": []
    },
    {
      "cell_type": "code",
      "source": [
        "df.info()"
      ],
      "metadata": {
        "id": "F8bNzTlziYHq"
      },
      "execution_count": null,
      "outputs": []
    },
    {
      "cell_type": "code",
      "source": [
        "df.head()"
      ],
      "metadata": {
        "id": "RRLxufHHi80y"
      },
      "execution_count": null,
      "outputs": []
    },
    {
      "cell_type": "code",
      "execution_count": null,
      "metadata": {
        "id": "Mz_6oDUovO5y"
      },
      "outputs": [],
      "source": [
        "ficha_df = pd.DataFrame()\n",
        "ficha_df"
      ]
    },
    {
      "cell_type": "code",
      "execution_count": null,
      "metadata": {
        "id": "s11vMosCvO5y"
      },
      "outputs": [],
      "source": [
        "for i, col in enumerate([ \"GDP19_per_capita\", \"production_per_capita\", \n",
        "                         \"emissions_per_capita\", \"consumption_CO2emissions_per_capita\"]):\n",
        "    resumen_data = df[[\"cluster\", col]].groupby(\"cluster\").describe().T[1:]\n",
        "    ficha_df = ficha_df.append(resumen_data)"
      ]
    },
    {
      "cell_type": "code",
      "execution_count": null,
      "metadata": {
        "id": "z7Tksv0qvO5z"
      },
      "outputs": [],
      "source": [
        "resumen_data"
      ]
    },
    {
      "cell_type": "code",
      "source": [
        "ficha_df"
      ],
      "metadata": {
        "id": "fzCvWq7wuZpc"
      },
      "execution_count": null,
      "outputs": []
    },
    {
      "cell_type": "code",
      "source": [
        "ficha_df.style.background_gradient(cmap = 'Blues', axis = 1)"
      ],
      "metadata": {
        "id": "I2I3z115BH5X"
      },
      "execution_count": null,
      "outputs": []
    },
    {
      "cell_type": "markdown",
      "source": [
        "Get country names for each cluster"
      ],
      "metadata": {
        "id": "QEJh9P8bDiB-"
      }
    },
    {
      "cell_type": "code",
      "source": [
        "df.head(1)"
      ],
      "metadata": {
        "id": "cjl4G8oKDiB_"
      },
      "execution_count": null,
      "outputs": []
    },
    {
      "cell_type": "code",
      "source": [
        "df['cluster'].value_counts()"
      ],
      "metadata": {
        "id": "vyTfPU70DiB_"
      },
      "execution_count": null,
      "outputs": []
    },
    {
      "cell_type": "markdown",
      "source": [
        "Cluster 1"
      ],
      "metadata": {
        "id": "aPQ_-AJuHEzr"
      }
    },
    {
      "cell_type": "code",
      "source": [
        "df[df['cluster'] == 0]['Country']"
      ],
      "metadata": {
        "id": "97bY_nyHDiCA"
      },
      "execution_count": null,
      "outputs": []
    },
    {
      "cell_type": "markdown",
      "source": [
        "Cluster 2."
      ],
      "metadata": {
        "id": "Xl0PGamgDiCB"
      }
    },
    {
      "cell_type": "code",
      "source": [
        "df[df['cluster'] == 1]['Country']"
      ],
      "metadata": {
        "id": "Op4hWZSODiCC"
      },
      "execution_count": null,
      "outputs": []
    },
    {
      "cell_type": "markdown",
      "source": [
        "Cluster 3"
      ],
      "metadata": {
        "id": "iUU8IllzDiCD"
      }
    },
    {
      "cell_type": "code",
      "source": [
        "df[df['cluster'] == 2]['Country']"
      ],
      "metadata": {
        "id": "Ql4XmxW8DiCE"
      },
      "execution_count": null,
      "outputs": []
    },
    {
      "cell_type": "markdown",
      "source": [
        "Cluster 4"
      ],
      "metadata": {
        "id": "oeTPebMODiCE"
      }
    },
    {
      "cell_type": "code",
      "source": [
        "df[df['cluster'] == 3]['Country']"
      ],
      "metadata": {
        "id": "EALhKHCTDiCF"
      },
      "execution_count": null,
      "outputs": []
    },
    {
      "cell_type": "markdown",
      "source": [
        "Cluster 5"
      ],
      "metadata": {
        "id": "qwYTDLbZDiCF"
      }
    },
    {
      "cell_type": "code",
      "source": [
        "df[df['cluster'] == 4]['Country'].to_list()"
      ],
      "metadata": {
        "id": "mvBVZZ3SDiCF"
      },
      "execution_count": null,
      "outputs": []
    },
    {
      "cell_type": "markdown",
      "source": [
        "Cluster 6"
      ],
      "metadata": {
        "id": "pk0oqfuUDiCG"
      }
    },
    {
      "cell_type": "code",
      "source": [
        "df[df['cluster'] == 5]['Country']"
      ],
      "metadata": {
        "id": "wL-0bn8nDiCG"
      },
      "execution_count": null,
      "outputs": []
    },
    {
      "cell_type": "markdown",
      "source": [
        "Cluster 7\n"
      ],
      "metadata": {
        "id": "NpDO0K1fDiCG"
      }
    },
    {
      "cell_type": "code",
      "source": [
        "df[df['cluster'] == 6]['Country'].to_list()"
      ],
      "metadata": {
        "id": "3luzzOt7DiCH"
      },
      "execution_count": null,
      "outputs": []
    },
    {
      "cell_type": "markdown",
      "source": [
        "Cluster 8\n"
      ],
      "metadata": {
        "id": "ZLfz2i9lQfjT"
      }
    },
    {
      "cell_type": "code",
      "source": [
        "df[df['cluster'] == 7]['Country'].to_list()"
      ],
      "metadata": {
        "id": "N1KDOxuTQfjU"
      },
      "execution_count": null,
      "outputs": []
    },
    {
      "cell_type": "code",
      "source": [
        "df.sort_values(\"cluster\")[\"Country\"]"
      ],
      "metadata": {
        "id": "54SLZ4WlHcAD"
      },
      "execution_count": null,
      "outputs": []
    }
  ],
  "metadata": {
    "colab": {
      "name": "EMISSIONS_CLUSTERING_COUNTRIES_2019.ipynb",
      "provenance": [],
      "collapsed_sections": [],
      "machine_shape": "hm",
      "toc_visible": true
    },
    "kernelspec": {
      "display_name": "Python 3",
      "name": "python3"
    },
    "language_info": {
      "name": "python"
    }
  },
  "nbformat": 4,
  "nbformat_minor": 0
}